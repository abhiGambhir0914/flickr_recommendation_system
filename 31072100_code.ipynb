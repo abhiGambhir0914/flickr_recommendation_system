{
 "cells": [
  {
   "cell_type": "markdown",
   "metadata": {
    "id": "H5ojV5h8Jb72"
   },
   "source": [
    "# TASK 1: Recommender System Challenge\n",
    "\n",
    "---\n",
    "\n",
    "**Student Name:** Abhi Gambhir\n",
    "\n",
    "**Student Id:** 31072100\n",
    "\n",
    "**Kaggle Name:** Abhi Gambhir"
   ]
  },
  {
   "cell_type": "code",
   "execution_count": null,
   "metadata": {
    "execution": {
     "iopub.execute_input": "2022-05-27T10:20:10.053761Z",
     "iopub.status.busy": "2022-05-27T10:20:10.053264Z",
     "iopub.status.idle": "2022-05-27T10:20:10.805476Z",
     "shell.execute_reply": "2022-05-27T10:20:10.804210Z",
     "shell.execute_reply.started": "2022-05-27T10:20:10.053713Z"
    },
    "id": "_W0Lkti_Jb75",
    "outputId": "0b9ce729-47fc-43b0-e69a-ab8eef93186d"
   },
   "outputs": [
    {
     "name": "stdout",
     "output_type": "stream",
     "text": [
      "/kaggle/working\n"
     ]
    }
   ],
   "source": [
    "# This task was performed on Kaggle notebook\n",
    "!pwd"
   ]
  },
  {
   "cell_type": "code",
   "execution_count": null,
   "metadata": {
    "execution": {
     "iopub.execute_input": "2022-05-27T10:20:10.808453Z",
     "iopub.status.busy": "2022-05-27T10:20:10.807984Z",
     "iopub.status.idle": "2022-05-27T10:20:11.951789Z",
     "shell.execute_reply": "2022-05-27T10:20:11.950756Z",
     "shell.execute_reply.started": "2022-05-27T10:20:10.808403Z"
    },
    "id": "lMePlATcJb77"
   },
   "outputs": [],
   "source": [
    "import pandas as pd\n",
    "import numpy as np\n",
    "import matplotlib.pyplot as plt\n",
    "import seaborn as sns"
   ]
  },
  {
   "cell_type": "markdown",
   "metadata": {
    "id": "N5QJxl0mAVRd"
   },
   "source": [
    "## 1.1 Alternative Least Square (ALS) model"
   ]
  },
  {
   "cell_type": "markdown",
   "metadata": {
    "id": "BaB--MGpJb78"
   },
   "source": [
    "### 1.1.1 Reading Datasets"
   ]
  },
  {
   "cell_type": "code",
   "execution_count": null,
   "metadata": {
    "execution": {
     "iopub.execute_input": "2022-05-27T10:20:12.541153Z",
     "iopub.status.busy": "2022-05-27T10:20:12.540022Z",
     "iopub.status.idle": "2022-05-27T10:20:12.970474Z",
     "shell.execute_reply": "2022-05-27T10:20:12.969669Z",
     "shell.execute_reply.started": "2022-05-27T10:20:12.541090Z"
    },
    "id": "QPpeU-MWJb78",
    "outputId": "52ea5862-d32d-4bc9-e8c4-4a20fe1d6a13"
   },
   "outputs": [
    {
     "name": "stdout",
     "output_type": "stream",
     "text": [
      "(110129, 3)\n",
      "(346600, 3)\n",
      "(346600, 2)\n"
     ]
    },
    {
     "data": {
      "text/html": [
       "<div>\n",
       "<style scoped>\n",
       "    .dataframe tbody tr th:only-of-type {\n",
       "        vertical-align: middle;\n",
       "    }\n",
       "\n",
       "    .dataframe tbody tr th {\n",
       "        vertical-align: top;\n",
       "    }\n",
       "\n",
       "    .dataframe thead th {\n",
       "        text-align: right;\n",
       "    }\n",
       "</style>\n",
       "<table border=\"1\" class=\"dataframe\">\n",
       "  <thead>\n",
       "    <tr style=\"text-align: right;\">\n",
       "      <th></th>\n",
       "      <th>user_id</th>\n",
       "      <th>item_id</th>\n",
       "      <th>rating</th>\n",
       "    </tr>\n",
       "  </thead>\n",
       "  <tbody>\n",
       "    <tr>\n",
       "      <th>19517</th>\n",
       "      <td>604</td>\n",
       "      <td>7903</td>\n",
       "      <td>1</td>\n",
       "    </tr>\n",
       "    <tr>\n",
       "      <th>50419</th>\n",
       "      <td>1583</td>\n",
       "      <td>1142</td>\n",
       "      <td>1</td>\n",
       "    </tr>\n",
       "    <tr>\n",
       "      <th>43843</th>\n",
       "      <td>1362</td>\n",
       "      <td>8208</td>\n",
       "      <td>1</td>\n",
       "    </tr>\n",
       "    <tr>\n",
       "      <th>93826</th>\n",
       "      <td>2909</td>\n",
       "      <td>5939</td>\n",
       "      <td>1</td>\n",
       "    </tr>\n",
       "    <tr>\n",
       "      <th>5300</th>\n",
       "      <td>158</td>\n",
       "      <td>4090</td>\n",
       "      <td>1</td>\n",
       "    </tr>\n",
       "  </tbody>\n",
       "</table>\n",
       "</div>"
      ],
      "text/plain": [
       "       user_id  item_id  rating\n",
       "19517      604     7903       1\n",
       "50419     1583     1142       1\n",
       "43843     1362     8208       1\n",
       "93826     2909     5939       1\n",
       "5300       158     4090       1"
      ]
     },
     "metadata": {},
     "output_type": "display_data"
    },
    {
     "data": {
      "text/html": [
       "<div>\n",
       "<style scoped>\n",
       "    .dataframe tbody tr th:only-of-type {\n",
       "        vertical-align: middle;\n",
       "    }\n",
       "\n",
       "    .dataframe tbody tr th {\n",
       "        vertical-align: top;\n",
       "    }\n",
       "\n",
       "    .dataframe thead th {\n",
       "        text-align: right;\n",
       "    }\n",
       "</style>\n",
       "<table border=\"1\" class=\"dataframe\">\n",
       "  <thead>\n",
       "    <tr style=\"text-align: right;\">\n",
       "      <th></th>\n",
       "      <th>user_id</th>\n",
       "      <th>item_id</th>\n",
       "      <th>rating</th>\n",
       "    </tr>\n",
       "  </thead>\n",
       "  <tbody>\n",
       "    <tr>\n",
       "      <th>151635</th>\n",
       "      <td>1516</td>\n",
       "      <td>8014</td>\n",
       "      <td>0</td>\n",
       "    </tr>\n",
       "    <tr>\n",
       "      <th>315308</th>\n",
       "      <td>3153</td>\n",
       "      <td>7803</td>\n",
       "      <td>0</td>\n",
       "    </tr>\n",
       "    <tr>\n",
       "      <th>290872</th>\n",
       "      <td>2908</td>\n",
       "      <td>7588</td>\n",
       "      <td>0</td>\n",
       "    </tr>\n",
       "    <tr>\n",
       "      <th>26576</th>\n",
       "      <td>265</td>\n",
       "      <td>8027</td>\n",
       "      <td>0</td>\n",
       "    </tr>\n",
       "    <tr>\n",
       "      <th>14794</th>\n",
       "      <td>147</td>\n",
       "      <td>1001</td>\n",
       "      <td>0</td>\n",
       "    </tr>\n",
       "  </tbody>\n",
       "</table>\n",
       "</div>"
      ],
      "text/plain": [
       "        user_id  item_id  rating\n",
       "151635     1516     8014       0\n",
       "315308     3153     7803       0\n",
       "290872     2908     7588       0\n",
       "26576       265     8027       0\n",
       "14794       147     1001       0"
      ]
     },
     "metadata": {},
     "output_type": "display_data"
    },
    {
     "data": {
      "text/html": [
       "<div>\n",
       "<style scoped>\n",
       "    .dataframe tbody tr th:only-of-type {\n",
       "        vertical-align: middle;\n",
       "    }\n",
       "\n",
       "    .dataframe tbody tr th {\n",
       "        vertical-align: top;\n",
       "    }\n",
       "\n",
       "    .dataframe thead th {\n",
       "        text-align: right;\n",
       "    }\n",
       "</style>\n",
       "<table border=\"1\" class=\"dataframe\">\n",
       "  <thead>\n",
       "    <tr style=\"text-align: right;\">\n",
       "      <th></th>\n",
       "      <th>user_id</th>\n",
       "      <th>item_id</th>\n",
       "    </tr>\n",
       "  </thead>\n",
       "  <tbody>\n",
       "    <tr>\n",
       "      <th>42461</th>\n",
       "      <td>424</td>\n",
       "      <td>3032</td>\n",
       "    </tr>\n",
       "    <tr>\n",
       "      <th>205204</th>\n",
       "      <td>2052</td>\n",
       "      <td>8489</td>\n",
       "    </tr>\n",
       "    <tr>\n",
       "      <th>108103</th>\n",
       "      <td>1081</td>\n",
       "      <td>8651</td>\n",
       "    </tr>\n",
       "    <tr>\n",
       "      <th>19603</th>\n",
       "      <td>196</td>\n",
       "      <td>8739</td>\n",
       "    </tr>\n",
       "    <tr>\n",
       "      <th>5966</th>\n",
       "      <td>59</td>\n",
       "      <td>2811</td>\n",
       "    </tr>\n",
       "  </tbody>\n",
       "</table>\n",
       "</div>"
      ],
      "text/plain": [
       "        user_id  item_id\n",
       "42461       424     3032\n",
       "205204     2052     8489\n",
       "108103     1081     8651\n",
       "19603       196     8739\n",
       "5966         59     2811"
      ]
     },
     "metadata": {},
     "output_type": "display_data"
    }
   ],
   "source": [
    "# Reading Datasets in Kaggle notebook: the reason for path given\n",
    "\n",
    "train_df = pd.read_csv('../input/fit5212-s12022a2/flickr_train_data.csv')\n",
    "print(train_df.shape)\n",
    "\n",
    "validation_df = pd.read_csv('../input/fit5212-s12022a2/flickr_validation_data.csv')\n",
    "print(validation_df.shape)\n",
    "\n",
    "test_df = pd.read_csv('../input/fit5212-s12022a2/flickr_test_data.csv')\n",
    "print(test_df.shape)\n",
    "\n",
    "display(train_df.sample(5))\n",
    "display(validation_df.sample(5))\n",
    "display(test_df.sample(5))"
   ]
  },
  {
   "cell_type": "code",
   "execution_count": null,
   "metadata": {
    "execution": {
     "iopub.execute_input": "2022-05-27T10:20:13.004911Z",
     "iopub.status.busy": "2022-05-27T10:20:13.003701Z",
     "iopub.status.idle": "2022-05-27T10:20:14.580931Z",
     "shell.execute_reply": "2022-05-27T10:20:14.579068Z",
     "shell.execute_reply.started": "2022-05-27T10:20:13.004860Z"
    },
    "id": "biujM87uJb79",
    "outputId": "fe66dbb0-81fc-41e4-902d-ddd2cb05baf3"
   },
   "outputs": [
    {
     "name": "stdout",
     "output_type": "stream",
     "text": [
      "(9004, 257)\n"
     ]
    },
    {
     "data": {
      "text/html": [
       "<div>\n",
       "<style scoped>\n",
       "    .dataframe tbody tr th:only-of-type {\n",
       "        vertical-align: middle;\n",
       "    }\n",
       "\n",
       "    .dataframe tbody tr th {\n",
       "        vertical-align: top;\n",
       "    }\n",
       "\n",
       "    .dataframe thead th {\n",
       "        text-align: right;\n",
       "    }\n",
       "</style>\n",
       "<table border=\"1\" class=\"dataframe\">\n",
       "  <thead>\n",
       "    <tr style=\"text-align: right;\">\n",
       "      <th></th>\n",
       "      <th>Unnamed: 0</th>\n",
       "      <th>fea_0</th>\n",
       "      <th>fea_1</th>\n",
       "      <th>fea_2</th>\n",
       "      <th>fea_3</th>\n",
       "      <th>fea_4</th>\n",
       "      <th>fea_5</th>\n",
       "      <th>fea_6</th>\n",
       "      <th>fea_7</th>\n",
       "      <th>fea_8</th>\n",
       "      <th>...</th>\n",
       "      <th>fea_246</th>\n",
       "      <th>fea_247</th>\n",
       "      <th>fea_248</th>\n",
       "      <th>fea_249</th>\n",
       "      <th>fea_250</th>\n",
       "      <th>fea_251</th>\n",
       "      <th>fea_252</th>\n",
       "      <th>fea_253</th>\n",
       "      <th>fea_254</th>\n",
       "      <th>fea_255</th>\n",
       "    </tr>\n",
       "  </thead>\n",
       "  <tbody>\n",
       "    <tr>\n",
       "      <th>5521</th>\n",
       "      <td>5521</td>\n",
       "      <td>-2.306857</td>\n",
       "      <td>-1.948233</td>\n",
       "      <td>-2.664597</td>\n",
       "      <td>-3.002338</td>\n",
       "      <td>-1.938732</td>\n",
       "      <td>-1.916334</td>\n",
       "      <td>0.235660</td>\n",
       "      <td>-2.898138</td>\n",
       "      <td>-1.693517</td>\n",
       "      <td>...</td>\n",
       "      <td>-1.899717</td>\n",
       "      <td>-0.660084</td>\n",
       "      <td>-3.906935</td>\n",
       "      <td>-1.973635</td>\n",
       "      <td>-3.029933</td>\n",
       "      <td>-1.582268</td>\n",
       "      <td>-1.737332</td>\n",
       "      <td>-2.901316</td>\n",
       "      <td>-2.310423</td>\n",
       "      <td>-1.605248</td>\n",
       "    </tr>\n",
       "    <tr>\n",
       "      <th>8606</th>\n",
       "      <td>8606</td>\n",
       "      <td>-3.367962</td>\n",
       "      <td>-2.047345</td>\n",
       "      <td>-1.727935</td>\n",
       "      <td>-3.002760</td>\n",
       "      <td>-3.973128</td>\n",
       "      <td>-1.892427</td>\n",
       "      <td>-2.938514</td>\n",
       "      <td>-3.155282</td>\n",
       "      <td>-2.062454</td>\n",
       "      <td>...</td>\n",
       "      <td>-4.699474</td>\n",
       "      <td>-2.165234</td>\n",
       "      <td>-2.665777</td>\n",
       "      <td>-2.569584</td>\n",
       "      <td>-3.224922</td>\n",
       "      <td>-4.306575</td>\n",
       "      <td>-4.130551</td>\n",
       "      <td>-1.816162</td>\n",
       "      <td>-4.084342</td>\n",
       "      <td>-2.135868</td>\n",
       "    </tr>\n",
       "    <tr>\n",
       "      <th>8466</th>\n",
       "      <td>8466</td>\n",
       "      <td>-0.580237</td>\n",
       "      <td>-0.484222</td>\n",
       "      <td>-0.406011</td>\n",
       "      <td>-0.678818</td>\n",
       "      <td>-0.389216</td>\n",
       "      <td>0.275304</td>\n",
       "      <td>-0.672962</td>\n",
       "      <td>-0.419860</td>\n",
       "      <td>-0.260209</td>\n",
       "      <td>...</td>\n",
       "      <td>-0.577435</td>\n",
       "      <td>-0.324893</td>\n",
       "      <td>-0.273719</td>\n",
       "      <td>-1.231585</td>\n",
       "      <td>-0.521595</td>\n",
       "      <td>0.187549</td>\n",
       "      <td>-0.380257</td>\n",
       "      <td>-0.326531</td>\n",
       "      <td>-0.655827</td>\n",
       "      <td>-0.620268</td>\n",
       "    </tr>\n",
       "    <tr>\n",
       "      <th>6352</th>\n",
       "      <td>6352</td>\n",
       "      <td>-1.110793</td>\n",
       "      <td>-1.303758</td>\n",
       "      <td>-1.422959</td>\n",
       "      <td>-1.923243</td>\n",
       "      <td>-1.580022</td>\n",
       "      <td>-0.496555</td>\n",
       "      <td>-1.673259</td>\n",
       "      <td>-0.578904</td>\n",
       "      <td>-1.477738</td>\n",
       "      <td>...</td>\n",
       "      <td>-0.677649</td>\n",
       "      <td>-1.207844</td>\n",
       "      <td>-0.688512</td>\n",
       "      <td>-0.535776</td>\n",
       "      <td>-1.200206</td>\n",
       "      <td>-1.250671</td>\n",
       "      <td>-0.674937</td>\n",
       "      <td>-1.515947</td>\n",
       "      <td>-1.659804</td>\n",
       "      <td>-0.644525</td>\n",
       "    </tr>\n",
       "    <tr>\n",
       "      <th>6856</th>\n",
       "      <td>6856</td>\n",
       "      <td>-0.843265</td>\n",
       "      <td>-1.102187</td>\n",
       "      <td>-2.465615</td>\n",
       "      <td>-2.243539</td>\n",
       "      <td>-2.932255</td>\n",
       "      <td>-3.410351</td>\n",
       "      <td>-1.604622</td>\n",
       "      <td>-2.196860</td>\n",
       "      <td>-2.500995</td>\n",
       "      <td>...</td>\n",
       "      <td>-3.337695</td>\n",
       "      <td>-4.154559</td>\n",
       "      <td>-1.943396</td>\n",
       "      <td>-2.506057</td>\n",
       "      <td>-3.420659</td>\n",
       "      <td>-1.894251</td>\n",
       "      <td>-3.251228</td>\n",
       "      <td>-2.185389</td>\n",
       "      <td>-2.995737</td>\n",
       "      <td>-2.419604</td>\n",
       "    </tr>\n",
       "  </tbody>\n",
       "</table>\n",
       "<p>5 rows × 257 columns</p>\n",
       "</div>"
      ],
      "text/plain": [
       "      Unnamed: 0     fea_0     fea_1     fea_2     fea_3     fea_4     fea_5  \\\n",
       "5521        5521 -2.306857 -1.948233 -2.664597 -3.002338 -1.938732 -1.916334   \n",
       "8606        8606 -3.367962 -2.047345 -1.727935 -3.002760 -3.973128 -1.892427   \n",
       "8466        8466 -0.580237 -0.484222 -0.406011 -0.678818 -0.389216  0.275304   \n",
       "6352        6352 -1.110793 -1.303758 -1.422959 -1.923243 -1.580022 -0.496555   \n",
       "6856        6856 -0.843265 -1.102187 -2.465615 -2.243539 -2.932255 -3.410351   \n",
       "\n",
       "         fea_6     fea_7     fea_8  ...   fea_246   fea_247   fea_248  \\\n",
       "5521  0.235660 -2.898138 -1.693517  ... -1.899717 -0.660084 -3.906935   \n",
       "8606 -2.938514 -3.155282 -2.062454  ... -4.699474 -2.165234 -2.665777   \n",
       "8466 -0.672962 -0.419860 -0.260209  ... -0.577435 -0.324893 -0.273719   \n",
       "6352 -1.673259 -0.578904 -1.477738  ... -0.677649 -1.207844 -0.688512   \n",
       "6856 -1.604622 -2.196860 -2.500995  ... -3.337695 -4.154559 -1.943396   \n",
       "\n",
       "       fea_249   fea_250   fea_251   fea_252   fea_253   fea_254   fea_255  \n",
       "5521 -1.973635 -3.029933 -1.582268 -1.737332 -2.901316 -2.310423 -1.605248  \n",
       "8606 -2.569584 -3.224922 -4.306575 -4.130551 -1.816162 -4.084342 -2.135868  \n",
       "8466 -1.231585 -0.521595  0.187549 -0.380257 -0.326531 -0.655827 -0.620268  \n",
       "6352 -0.535776 -1.200206 -1.250671 -0.674937 -1.515947 -1.659804 -0.644525  \n",
       "6856 -2.506057 -3.420659 -1.894251 -3.251228 -2.185389 -2.995737 -2.419604  \n",
       "\n",
       "[5 rows x 257 columns]"
      ]
     },
     "metadata": {},
     "output_type": "display_data"
    },
    {
     "name": "stdout",
     "output_type": "stream",
     "text": [
      "(3466, 257)\n"
     ]
    },
    {
     "data": {
      "text/html": [
       "<div>\n",
       "<style scoped>\n",
       "    .dataframe tbody tr th:only-of-type {\n",
       "        vertical-align: middle;\n",
       "    }\n",
       "\n",
       "    .dataframe tbody tr th {\n",
       "        vertical-align: top;\n",
       "    }\n",
       "\n",
       "    .dataframe thead th {\n",
       "        text-align: right;\n",
       "    }\n",
       "</style>\n",
       "<table border=\"1\" class=\"dataframe\">\n",
       "  <thead>\n",
       "    <tr style=\"text-align: right;\">\n",
       "      <th></th>\n",
       "      <th>Unnamed: 0</th>\n",
       "      <th>fea_0</th>\n",
       "      <th>fea_1</th>\n",
       "      <th>fea_2</th>\n",
       "      <th>fea_3</th>\n",
       "      <th>fea_4</th>\n",
       "      <th>fea_5</th>\n",
       "      <th>fea_6</th>\n",
       "      <th>fea_7</th>\n",
       "      <th>fea_8</th>\n",
       "      <th>...</th>\n",
       "      <th>fea_246</th>\n",
       "      <th>fea_247</th>\n",
       "      <th>fea_248</th>\n",
       "      <th>fea_249</th>\n",
       "      <th>fea_250</th>\n",
       "      <th>fea_251</th>\n",
       "      <th>fea_252</th>\n",
       "      <th>fea_253</th>\n",
       "      <th>fea_254</th>\n",
       "      <th>fea_255</th>\n",
       "    </tr>\n",
       "  </thead>\n",
       "  <tbody>\n",
       "    <tr>\n",
       "      <th>1297</th>\n",
       "      <td>1297</td>\n",
       "      <td>-1.364617</td>\n",
       "      <td>-1.176425</td>\n",
       "      <td>-1.027739</td>\n",
       "      <td>-1.824824</td>\n",
       "      <td>-1.445845</td>\n",
       "      <td>-1.145369</td>\n",
       "      <td>-1.267288</td>\n",
       "      <td>-1.260870</td>\n",
       "      <td>-1.000198</td>\n",
       "      <td>...</td>\n",
       "      <td>-1.527213</td>\n",
       "      <td>-1.001170</td>\n",
       "      <td>-1.336085</td>\n",
       "      <td>-1.478707</td>\n",
       "      <td>-1.635804</td>\n",
       "      <td>-1.222542</td>\n",
       "      <td>-1.073873</td>\n",
       "      <td>-1.092688</td>\n",
       "      <td>-1.700482</td>\n",
       "      <td>-1.193177</td>\n",
       "    </tr>\n",
       "    <tr>\n",
       "      <th>139</th>\n",
       "      <td>139</td>\n",
       "      <td>-1.466434</td>\n",
       "      <td>-1.251319</td>\n",
       "      <td>-1.217897</td>\n",
       "      <td>-1.224017</td>\n",
       "      <td>-1.557358</td>\n",
       "      <td>-1.338939</td>\n",
       "      <td>-1.495694</td>\n",
       "      <td>-1.495909</td>\n",
       "      <td>-1.353752</td>\n",
       "      <td>...</td>\n",
       "      <td>-1.546439</td>\n",
       "      <td>-1.261565</td>\n",
       "      <td>-1.619112</td>\n",
       "      <td>-1.290496</td>\n",
       "      <td>-1.543117</td>\n",
       "      <td>-0.842788</td>\n",
       "      <td>-1.003908</td>\n",
       "      <td>-1.154666</td>\n",
       "      <td>-1.669511</td>\n",
       "      <td>-0.994128</td>\n",
       "    </tr>\n",
       "    <tr>\n",
       "      <th>683</th>\n",
       "      <td>683</td>\n",
       "      <td>-1.931086</td>\n",
       "      <td>-1.896037</td>\n",
       "      <td>-2.536857</td>\n",
       "      <td>-1.923917</td>\n",
       "      <td>-1.843758</td>\n",
       "      <td>-1.956919</td>\n",
       "      <td>-1.930568</td>\n",
       "      <td>-2.194861</td>\n",
       "      <td>-2.098782</td>\n",
       "      <td>...</td>\n",
       "      <td>-2.352095</td>\n",
       "      <td>-1.956845</td>\n",
       "      <td>-1.802881</td>\n",
       "      <td>-1.641021</td>\n",
       "      <td>-2.147817</td>\n",
       "      <td>-2.592563</td>\n",
       "      <td>-2.313086</td>\n",
       "      <td>-1.879816</td>\n",
       "      <td>-2.320742</td>\n",
       "      <td>-2.050350</td>\n",
       "    </tr>\n",
       "    <tr>\n",
       "      <th>351</th>\n",
       "      <td>351</td>\n",
       "      <td>-1.338499</td>\n",
       "      <td>-0.989377</td>\n",
       "      <td>-0.990149</td>\n",
       "      <td>-1.617422</td>\n",
       "      <td>-1.277687</td>\n",
       "      <td>-0.884367</td>\n",
       "      <td>-1.155983</td>\n",
       "      <td>-1.103804</td>\n",
       "      <td>-0.964187</td>\n",
       "      <td>...</td>\n",
       "      <td>-1.209409</td>\n",
       "      <td>-0.888793</td>\n",
       "      <td>-1.231778</td>\n",
       "      <td>-1.066410</td>\n",
       "      <td>-1.323845</td>\n",
       "      <td>-1.025251</td>\n",
       "      <td>-0.951644</td>\n",
       "      <td>-1.000838</td>\n",
       "      <td>-1.520991</td>\n",
       "      <td>-0.745077</td>\n",
       "    </tr>\n",
       "    <tr>\n",
       "      <th>380</th>\n",
       "      <td>380</td>\n",
       "      <td>-1.160855</td>\n",
       "      <td>-1.160009</td>\n",
       "      <td>-0.924939</td>\n",
       "      <td>-1.748364</td>\n",
       "      <td>-1.422211</td>\n",
       "      <td>-1.107048</td>\n",
       "      <td>-1.455246</td>\n",
       "      <td>-1.422243</td>\n",
       "      <td>-1.013346</td>\n",
       "      <td>...</td>\n",
       "      <td>-1.490657</td>\n",
       "      <td>-0.943698</td>\n",
       "      <td>-1.337642</td>\n",
       "      <td>-1.325325</td>\n",
       "      <td>-1.620294</td>\n",
       "      <td>-1.097551</td>\n",
       "      <td>-0.786549</td>\n",
       "      <td>-1.056659</td>\n",
       "      <td>-1.779142</td>\n",
       "      <td>-0.950352</td>\n",
       "    </tr>\n",
       "  </tbody>\n",
       "</table>\n",
       "<p>5 rows × 257 columns</p>\n",
       "</div>"
      ],
      "text/plain": [
       "      Unnamed: 0     fea_0     fea_1     fea_2     fea_3     fea_4     fea_5  \\\n",
       "1297        1297 -1.364617 -1.176425 -1.027739 -1.824824 -1.445845 -1.145369   \n",
       "139          139 -1.466434 -1.251319 -1.217897 -1.224017 -1.557358 -1.338939   \n",
       "683          683 -1.931086 -1.896037 -2.536857 -1.923917 -1.843758 -1.956919   \n",
       "351          351 -1.338499 -0.989377 -0.990149 -1.617422 -1.277687 -0.884367   \n",
       "380          380 -1.160855 -1.160009 -0.924939 -1.748364 -1.422211 -1.107048   \n",
       "\n",
       "         fea_6     fea_7     fea_8  ...   fea_246   fea_247   fea_248  \\\n",
       "1297 -1.267288 -1.260870 -1.000198  ... -1.527213 -1.001170 -1.336085   \n",
       "139  -1.495694 -1.495909 -1.353752  ... -1.546439 -1.261565 -1.619112   \n",
       "683  -1.930568 -2.194861 -2.098782  ... -2.352095 -1.956845 -1.802881   \n",
       "351  -1.155983 -1.103804 -0.964187  ... -1.209409 -0.888793 -1.231778   \n",
       "380  -1.455246 -1.422243 -1.013346  ... -1.490657 -0.943698 -1.337642   \n",
       "\n",
       "       fea_249   fea_250   fea_251   fea_252   fea_253   fea_254   fea_255  \n",
       "1297 -1.478707 -1.635804 -1.222542 -1.073873 -1.092688 -1.700482 -1.193177  \n",
       "139  -1.290496 -1.543117 -0.842788 -1.003908 -1.154666 -1.669511 -0.994128  \n",
       "683  -1.641021 -2.147817 -2.592563 -2.313086 -1.879816 -2.320742 -2.050350  \n",
       "351  -1.066410 -1.323845 -1.025251 -0.951644 -1.000838 -1.520991 -0.745077  \n",
       "380  -1.325325 -1.620294 -1.097551 -0.786549 -1.056659 -1.779142 -0.950352  \n",
       "\n",
       "[5 rows x 257 columns]"
      ]
     },
     "metadata": {},
     "output_type": "display_data"
    }
   ],
   "source": [
    "# reading item_fea and user_fea, though not needed for this task\n",
    "\n",
    "item_df = pd.read_csv('../input/fit5212-s12022a2/flickr_item_fea.csv')\n",
    "print(item_df.shape)\n",
    "display(item_df.sample(5)) # pixels\n",
    "\n",
    "user_df = pd.read_csv('../input/fit5212-s12022a2/flickr_user_fea.csv')\n",
    "print(user_df.shape)\n",
    "display(user_df.sample(5)) # pixels\n"
   ]
  },
  {
   "cell_type": "code",
   "execution_count": null,
   "metadata": {
    "execution": {
     "iopub.execute_input": "2022-05-27T10:20:14.583068Z",
     "iopub.status.busy": "2022-05-27T10:20:14.582725Z",
     "iopub.status.idle": "2022-05-27T10:20:26.752312Z",
     "shell.execute_reply": "2022-05-27T10:20:26.751265Z",
     "shell.execute_reply.started": "2022-05-27T10:20:14.583037Z"
    },
    "id": "jj7P-vRxJb79",
    "outputId": "87c7da73-ff1f-400a-f78a-3d6d2f38cff4"
   },
   "outputs": [
    {
     "name": "stdout",
     "output_type": "stream",
     "text": [
      "Requirement already satisfied: implicit in /opt/conda/lib/python3.7/site-packages (0.4.4)\n",
      "Requirement already satisfied: tqdm>=4.27 in /opt/conda/lib/python3.7/site-packages (from implicit) (4.64.0)\n",
      "Requirement already satisfied: numpy in /opt/conda/lib/python3.7/site-packages (from implicit) (1.21.6)\n",
      "Requirement already satisfied: scipy>=0.16 in /opt/conda/lib/python3.7/site-packages (from implicit) (1.7.3)\n",
      "\u001b[33mWARNING: Running pip as the 'root' user can result in broken permissions and conflicting behaviour with the system package manager. It is recommended to use a virtual environment instead: https://pip.pypa.io/warnings/venv\u001b[0m\u001b[33m\n",
      "\u001b[0m"
     ]
    }
   ],
   "source": [
    "# installing implicit package\n",
    "\n",
    "!pip install implicit"
   ]
  },
  {
   "cell_type": "code",
   "execution_count": null,
   "metadata": {
    "execution": {
     "iopub.execute_input": "2022-05-27T10:20:26.753895Z",
     "iopub.status.busy": "2022-05-27T10:20:26.753564Z",
     "iopub.status.idle": "2022-05-27T10:20:28.462486Z",
     "shell.execute_reply": "2022-05-27T10:20:28.461567Z",
     "shell.execute_reply.started": "2022-05-27T10:20:26.753854Z"
    },
    "id": "D-4c5yE9Jb7-"
   },
   "outputs": [],
   "source": [
    "import torch\n",
    "import torch.nn as nn\n",
    "import torch.nn.functional as F\n",
    "\n",
    "import implicit\n",
    "from sklearn.preprocessing import MinMaxScaler\n",
    "from sklearn import metrics\n",
    "import scipy.sparse as sparse"
   ]
  },
  {
   "cell_type": "code",
   "execution_count": null,
   "metadata": {
    "execution": {
     "iopub.execute_input": "2022-05-27T10:20:28.466213Z",
     "iopub.status.busy": "2022-05-27T10:20:28.465110Z",
     "iopub.status.idle": "2022-05-27T10:20:28.472646Z",
     "shell.execute_reply": "2022-05-27T10:20:28.471611Z",
     "shell.execute_reply.started": "2022-05-27T10:20:28.466167Z"
    },
    "id": "WTzIXbbOJb7-",
    "outputId": "0e96e3df-dbc7-4e0d-acd1-feea17b0559f"
   },
   "outputs": [
    {
     "name": "stdout",
     "output_type": "stream",
     "text": [
      "No GPU available, using the CPU instead.\n"
     ]
    }
   ],
   "source": [
    "# TODO CHANGE CC\n",
    "if torch.cuda.is_available():\n",
    "    device = torch.device(\"cuda\")\n",
    "    print('There are %d GPU(s) available.' % torch.cuda.device_count())\n",
    "    print('We will use the GPU:', torch.cuda.get_device_name(0))\n",
    "else:\n",
    "    print('No GPU available, using the CPU instead.')\n",
    "    device = torch.device(\"cpu\")"
   ]
  },
  {
   "cell_type": "code",
   "execution_count": null,
   "metadata": {
    "execution": {
     "iopub.execute_input": "2022-05-27T10:20:28.474319Z",
     "iopub.status.busy": "2022-05-27T10:20:28.473996Z",
     "iopub.status.idle": "2022-05-27T10:20:28.501916Z",
     "shell.execute_reply": "2022-05-27T10:20:28.501226Z",
     "shell.execute_reply.started": "2022-05-27T10:20:28.474289Z"
    },
    "id": "emKIP9gdJb7_",
    "outputId": "12524dab-fc91-4157-a309-c4f6b7f8af5e"
   },
   "outputs": [
    {
     "data": {
      "text/html": [
       "<div>\n",
       "<style scoped>\n",
       "    .dataframe tbody tr th:only-of-type {\n",
       "        vertical-align: middle;\n",
       "    }\n",
       "\n",
       "    .dataframe tbody tr th {\n",
       "        vertical-align: top;\n",
       "    }\n",
       "\n",
       "    .dataframe thead th {\n",
       "        text-align: right;\n",
       "    }\n",
       "</style>\n",
       "<table border=\"1\" class=\"dataframe\">\n",
       "  <thead>\n",
       "    <tr style=\"text-align: right;\">\n",
       "      <th></th>\n",
       "      <th>user_id</th>\n",
       "      <th>item_id</th>\n",
       "      <th>rating</th>\n",
       "    </tr>\n",
       "  </thead>\n",
       "  <tbody>\n",
       "    <tr>\n",
       "      <th>0</th>\n",
       "      <td>0</td>\n",
       "      <td>0</td>\n",
       "      <td>1</td>\n",
       "    </tr>\n",
       "    <tr>\n",
       "      <th>1</th>\n",
       "      <td>0</td>\n",
       "      <td>1</td>\n",
       "      <td>1</td>\n",
       "    </tr>\n",
       "    <tr>\n",
       "      <th>2</th>\n",
       "      <td>0</td>\n",
       "      <td>2</td>\n",
       "      <td>1</td>\n",
       "    </tr>\n",
       "    <tr>\n",
       "      <th>3</th>\n",
       "      <td>0</td>\n",
       "      <td>3</td>\n",
       "      <td>1</td>\n",
       "    </tr>\n",
       "    <tr>\n",
       "      <th>4</th>\n",
       "      <td>0</td>\n",
       "      <td>4</td>\n",
       "      <td>1</td>\n",
       "    </tr>\n",
       "  </tbody>\n",
       "</table>\n",
       "</div>"
      ],
      "text/plain": [
       "   user_id  item_id  rating\n",
       "0        0        0       1\n",
       "1        0        1       1\n",
       "2        0        2       1\n",
       "3        0        3       1\n",
       "4        0        4       1"
      ]
     },
     "metadata": {},
     "output_type": "display_data"
    },
    {
     "data": {
      "text/html": [
       "<div>\n",
       "<style scoped>\n",
       "    .dataframe tbody tr th:only-of-type {\n",
       "        vertical-align: middle;\n",
       "    }\n",
       "\n",
       "    .dataframe tbody tr th {\n",
       "        vertical-align: top;\n",
       "    }\n",
       "\n",
       "    .dataframe thead th {\n",
       "        text-align: right;\n",
       "    }\n",
       "</style>\n",
       "<table border=\"1\" class=\"dataframe\">\n",
       "  <thead>\n",
       "    <tr style=\"text-align: right;\">\n",
       "      <th></th>\n",
       "      <th>user_id</th>\n",
       "      <th>item_id</th>\n",
       "      <th>rating</th>\n",
       "    </tr>\n",
       "  </thead>\n",
       "  <tbody>\n",
       "    <tr>\n",
       "      <th>0</th>\n",
       "      <td>0</td>\n",
       "      <td>20</td>\n",
       "      <td>1</td>\n",
       "    </tr>\n",
       "    <tr>\n",
       "      <th>1</th>\n",
       "      <td>0</td>\n",
       "      <td>3260</td>\n",
       "      <td>0</td>\n",
       "    </tr>\n",
       "    <tr>\n",
       "      <th>2</th>\n",
       "      <td>0</td>\n",
       "      <td>390</td>\n",
       "      <td>0</td>\n",
       "    </tr>\n",
       "    <tr>\n",
       "      <th>3</th>\n",
       "      <td>0</td>\n",
       "      <td>5425</td>\n",
       "      <td>0</td>\n",
       "    </tr>\n",
       "    <tr>\n",
       "      <th>4</th>\n",
       "      <td>0</td>\n",
       "      <td>8631</td>\n",
       "      <td>0</td>\n",
       "    </tr>\n",
       "  </tbody>\n",
       "</table>\n",
       "</div>"
      ],
      "text/plain": [
       "   user_id  item_id  rating\n",
       "0        0       20       1\n",
       "1        0     3260       0\n",
       "2        0      390       0\n",
       "3        0     5425       0\n",
       "4        0     8631       0"
      ]
     },
     "metadata": {},
     "output_type": "display_data"
    },
    {
     "data": {
      "text/html": [
       "<div>\n",
       "<style scoped>\n",
       "    .dataframe tbody tr th:only-of-type {\n",
       "        vertical-align: middle;\n",
       "    }\n",
       "\n",
       "    .dataframe tbody tr th {\n",
       "        vertical-align: top;\n",
       "    }\n",
       "\n",
       "    .dataframe thead th {\n",
       "        text-align: right;\n",
       "    }\n",
       "</style>\n",
       "<table border=\"1\" class=\"dataframe\">\n",
       "  <thead>\n",
       "    <tr style=\"text-align: right;\">\n",
       "      <th></th>\n",
       "      <th>user_id</th>\n",
       "      <th>item_id</th>\n",
       "    </tr>\n",
       "  </thead>\n",
       "  <tbody>\n",
       "    <tr>\n",
       "      <th>0</th>\n",
       "      <td>0</td>\n",
       "      <td>8929</td>\n",
       "    </tr>\n",
       "    <tr>\n",
       "      <th>1</th>\n",
       "      <td>0</td>\n",
       "      <td>8906</td>\n",
       "    </tr>\n",
       "    <tr>\n",
       "      <th>2</th>\n",
       "      <td>0</td>\n",
       "      <td>8838</td>\n",
       "    </tr>\n",
       "    <tr>\n",
       "      <th>3</th>\n",
       "      <td>0</td>\n",
       "      <td>8821</td>\n",
       "    </tr>\n",
       "    <tr>\n",
       "      <th>4</th>\n",
       "      <td>0</td>\n",
       "      <td>8756</td>\n",
       "    </tr>\n",
       "  </tbody>\n",
       "</table>\n",
       "</div>"
      ],
      "text/plain": [
       "   user_id  item_id\n",
       "0        0     8929\n",
       "1        0     8906\n",
       "2        0     8838\n",
       "3        0     8821\n",
       "4        0     8756"
      ]
     },
     "metadata": {},
     "output_type": "display_data"
    }
   ],
   "source": [
    "display(train_df.head())\n",
    "display(validation_df.head())\n",
    "display(test_df.head())"
   ]
  },
  {
   "cell_type": "code",
   "execution_count": null,
   "metadata": {
    "execution": {
     "iopub.execute_input": "2022-05-27T10:20:28.503387Z",
     "iopub.status.busy": "2022-05-27T10:20:28.503086Z",
     "iopub.status.idle": "2022-05-27T10:20:28.507973Z",
     "shell.execute_reply": "2022-05-27T10:20:28.507219Z",
     "shell.execute_reply.started": "2022-05-27T10:20:28.503360Z"
    },
    "id": "pYUT-YusJb7_",
    "outputId": "655de562-9d4f-4385-d3d5-60eceacf4d52"
   },
   "outputs": [
    {
     "name": "stdout",
     "output_type": "stream",
     "text": [
      "(110129, 3)\n",
      "(346600, 3)\n",
      "(346600, 2)\n"
     ]
    }
   ],
   "source": [
    "# checking shape of datasets\n",
    "\n",
    "print(train_df.shape)\n",
    "print(validation_df.shape)\n",
    "print(test_df.shape)"
   ]
  },
  {
   "cell_type": "code",
   "execution_count": null,
   "metadata": {
    "execution": {
     "iopub.execute_input": "2022-05-27T10:20:28.509474Z",
     "iopub.status.busy": "2022-05-27T10:20:28.509177Z",
     "iopub.status.idle": "2022-05-27T10:20:28.544939Z",
     "shell.execute_reply": "2022-05-27T10:20:28.543873Z",
     "shell.execute_reply.started": "2022-05-27T10:20:28.509446Z"
    },
    "id": "tN9GjnPAJb8A"
   },
   "outputs": [],
   "source": [
    "# changing datatype to 'categorical'\n",
    "train_df['user_id'] = train_df['user_id'].astype('category')\n",
    "train_df['item_id'] = train_df['item_id'].astype('category')\n",
    "\n",
    "# cat.codes: Returns series of codes as well as the index\n",
    "train_df['user_id'] = train_df['user_id'].cat.codes\n",
    "train_df['item_id'] = train_df['item_id'].cat.codes"
   ]
  },
  {
   "cell_type": "code",
   "execution_count": null,
   "metadata": {
    "execution": {
     "iopub.execute_input": "2022-05-27T10:20:28.546968Z",
     "iopub.status.busy": "2022-05-27T10:20:28.546162Z",
     "iopub.status.idle": "2022-05-27T10:20:28.580651Z",
     "shell.execute_reply": "2022-05-27T10:20:28.579910Z",
     "shell.execute_reply.started": "2022-05-27T10:20:28.546932Z"
    },
    "id": "cOWn-oYOJb8A",
    "outputId": "8f22bec3-b39b-4b93-b37a-cfb7d290c2f4"
   },
   "outputs": [
    {
     "data": {
      "text/html": [
       "<div>\n",
       "<style scoped>\n",
       "    .dataframe tbody tr th:only-of-type {\n",
       "        vertical-align: middle;\n",
       "    }\n",
       "\n",
       "    .dataframe tbody tr th {\n",
       "        vertical-align: top;\n",
       "    }\n",
       "\n",
       "    .dataframe thead th {\n",
       "        text-align: right;\n",
       "    }\n",
       "</style>\n",
       "<table border=\"1\" class=\"dataframe\">\n",
       "  <thead>\n",
       "    <tr style=\"text-align: right;\">\n",
       "      <th></th>\n",
       "      <th>user_id</th>\n",
       "      <th>item_id</th>\n",
       "      <th>rating</th>\n",
       "    </tr>\n",
       "  </thead>\n",
       "  <tbody>\n",
       "    <tr>\n",
       "      <th>count</th>\n",
       "      <td>110129.000000</td>\n",
       "      <td>110129.000000</td>\n",
       "      <td>110129.0</td>\n",
       "    </tr>\n",
       "    <tr>\n",
       "      <th>mean</th>\n",
       "      <td>1711.431113</td>\n",
       "      <td>4108.175158</td>\n",
       "      <td>1.0</td>\n",
       "    </tr>\n",
       "    <tr>\n",
       "      <th>std</th>\n",
       "      <td>989.248533</td>\n",
       "      <td>2569.085090</td>\n",
       "      <td>0.0</td>\n",
       "    </tr>\n",
       "    <tr>\n",
       "      <th>min</th>\n",
       "      <td>0.000000</td>\n",
       "      <td>0.000000</td>\n",
       "      <td>1.0</td>\n",
       "    </tr>\n",
       "    <tr>\n",
       "      <th>25%</th>\n",
       "      <td>856.000000</td>\n",
       "      <td>1860.000000</td>\n",
       "      <td>1.0</td>\n",
       "    </tr>\n",
       "    <tr>\n",
       "      <th>50%</th>\n",
       "      <td>1707.000000</td>\n",
       "      <td>3962.000000</td>\n",
       "      <td>1.0</td>\n",
       "    </tr>\n",
       "    <tr>\n",
       "      <th>75%</th>\n",
       "      <td>2586.000000</td>\n",
       "      <td>6252.000000</td>\n",
       "      <td>1.0</td>\n",
       "    </tr>\n",
       "    <tr>\n",
       "      <th>max</th>\n",
       "      <td>3465.000000</td>\n",
       "      <td>9003.000000</td>\n",
       "      <td>1.0</td>\n",
       "    </tr>\n",
       "  </tbody>\n",
       "</table>\n",
       "</div>"
      ],
      "text/plain": [
       "             user_id        item_id    rating\n",
       "count  110129.000000  110129.000000  110129.0\n",
       "mean     1711.431113    4108.175158       1.0\n",
       "std       989.248533    2569.085090       0.0\n",
       "min         0.000000       0.000000       1.0\n",
       "25%       856.000000    1860.000000       1.0\n",
       "50%      1707.000000    3962.000000       1.0\n",
       "75%      2586.000000    6252.000000       1.0\n",
       "max      3465.000000    9003.000000       1.0"
      ]
     },
     "execution_count": 12,
     "metadata": {},
     "output_type": "execute_result"
    }
   ],
   "source": [
    "# checking the min max of item_id and user_id\n",
    "train_df.describe()"
   ]
  },
  {
   "cell_type": "code",
   "execution_count": null,
   "metadata": {
    "execution": {
     "iopub.execute_input": "2022-05-27T10:20:28.582483Z",
     "iopub.status.busy": "2022-05-27T10:20:28.581777Z",
     "iopub.status.idle": "2022-05-27T10:20:28.603836Z",
     "shell.execute_reply": "2022-05-27T10:20:28.602793Z",
     "shell.execute_reply.started": "2022-05-27T10:20:28.582448Z"
    },
    "id": "1d5XM50rJb8A"
   },
   "outputs": [],
   "source": [
    "# convert to sparse matrix\n",
    "sparse_item_user = sparse.csr_matrix((train_df['rating'].astype(float), (train_df['item_id'], train_df['user_id'])))\n",
    "sparse_user_item = sparse.csr_matrix((train_df['rating'].astype(float), (train_df['user_id'], train_df['item_id'])))\n"
   ]
  },
  {
   "cell_type": "markdown",
   "metadata": {
    "id": "njhe8eFoJb8B"
   },
   "source": [
    "> Sparse matrix is used to introduce the 0's and make our computations faster. Even by converting user_id and item_id to categorical datatype, it reduces computation time."
   ]
  },
  {
   "cell_type": "code",
   "execution_count": null,
   "metadata": {
    "execution": {
     "iopub.execute_input": "2022-05-27T10:20:28.606841Z",
     "iopub.status.busy": "2022-05-27T10:20:28.606277Z",
     "iopub.status.idle": "2022-05-27T10:20:28.613086Z",
     "shell.execute_reply": "2022-05-27T10:20:28.612243Z",
     "shell.execute_reply.started": "2022-05-27T10:20:28.606802Z"
    },
    "id": "xP0V8q_uJb8B",
    "outputId": "870acbf5-3e55-44f3-85d6-df2444fb5b7c"
   },
   "outputs": [
    {
     "data": {
      "text/plain": [
       "<9004x3466 sparse matrix of type '<class 'numpy.float64'>'\n",
       "\twith 110129 stored elements in Compressed Sparse Row format>"
      ]
     },
     "execution_count": 14,
     "metadata": {},
     "output_type": "execute_result"
    }
   ],
   "source": [
    "# sparse matrix where rows are items and columns are users\n",
    "sparse_item_user\n"
   ]
  },
  {
   "cell_type": "code",
   "execution_count": null,
   "metadata": {
    "execution": {
     "iopub.execute_input": "2022-05-27T10:20:28.615048Z",
     "iopub.status.busy": "2022-05-27T10:20:28.614199Z",
     "iopub.status.idle": "2022-05-27T10:20:28.625557Z",
     "shell.execute_reply": "2022-05-27T10:20:28.624601Z",
     "shell.execute_reply.started": "2022-05-27T10:20:28.615013Z"
    },
    "id": "lrdGsN0OJb8C",
    "outputId": "792bad20-d7ec-4d15-cc1f-d468e66561a7"
   },
   "outputs": [
    {
     "data": {
      "text/plain": [
       "<3466x9004 sparse matrix of type '<class 'numpy.float64'>'\n",
       "\twith 110129 stored elements in Compressed Sparse Row format>"
      ]
     },
     "execution_count": 15,
     "metadata": {},
     "output_type": "execute_result"
    }
   ],
   "source": [
    "# sparse matrix where rows are users and columns are items\n",
    "sparse_user_item\n"
   ]
  },
  {
   "cell_type": "code",
   "execution_count": null,
   "metadata": {
    "execution": {
     "iopub.execute_input": "2022-05-27T10:20:28.627386Z",
     "iopub.status.busy": "2022-05-27T10:20:28.626777Z",
     "iopub.status.idle": "2022-05-27T10:20:28.637570Z",
     "shell.execute_reply": "2022-05-27T10:20:28.636751Z",
     "shell.execute_reply.started": "2022-05-27T10:20:28.627355Z"
    },
    "id": "5O1iveoeJb8C",
    "outputId": "02283683-31d7-45dc-a2f9-679805d5354b"
   },
   "outputs": [
    {
     "data": {
      "text/plain": [
       "matrix([[1., 0., 0., ..., 0., 0., 0.]])"
      ]
     },
     "execution_count": 16,
     "metadata": {},
     "output_type": "execute_result"
    }
   ],
   "source": [
    "sparse_item_user[1,:].todense()\n"
   ]
  },
  {
   "cell_type": "markdown",
   "metadata": {
    "id": "-zCjmQpkJb8C"
   },
   "source": [
    "### 1.1.2 Evaluate Recommendation Engine using NDCG"
   ]
  },
  {
   "cell_type": "markdown",
   "metadata": {
    "id": "51h3HwLFJb8C"
   },
   "source": [
    "Reference: https://towardsdatascience.com/evaluate-your-recommendation-engine-using-ndcg-759a851452d1\n",
    "\n",
    "**NDCG :** Normalized Discounted Cumulative Gain\n",
    "\n",
    "Since a recommendation recommends the user from a super-set of documents (images in our case), recommendation can be considered simply performing document retrieval task. In document retrieval tasks, NDCG measure can be used.\n",
    "\n",
    "We will be using DCG (Discounted Cumulative Gain) with NDCG, as DCG considers the position along with relevancec i.e order of recommendation. The computation involves dividing the relevance score by log of corresponding position.\n",
    "\n",
    "\n",
    "$$ D C G=\\sum_{i=1}^{n} \\frac{\\text { relevance }_{i}}{\\log _{2}(i+1)} $$\n",
    "\n",
    "To evaluate a recommendation engine, compute a mean of NDCG.\n",
    "\n",
    "We can evaluate our recommendation performance on Validation dataset given, which we will be doing in the coming steps."
   ]
  },
  {
   "cell_type": "code",
   "execution_count": null,
   "metadata": {
    "execution": {
     "iopub.execute_input": "2022-05-27T10:20:28.639054Z",
     "iopub.status.busy": "2022-05-27T10:20:28.638731Z",
     "iopub.status.idle": "2022-05-27T10:20:28.648900Z",
     "shell.execute_reply": "2022-05-27T10:20:28.648245Z",
     "shell.execute_reply.started": "2022-05-27T10:20:28.639027Z"
    },
    "id": "s-qjUPlhJb8D"
   },
   "outputs": [],
   "source": [
    "import math\n",
    "\n",
    "def NDCG(true_validation, pred_validation):\n",
    "    \n",
    "    # to store DCG values\n",
    "    DCG = []\n",
    "    \n",
    "    # we will be considering only the rows which have rating 1, and if noticed validation\n",
    "    # dataset has one such row for every user\n",
    "    \n",
    "    positive_rated = true_validation[true_validation['rating'] == 1]\n",
    "    \n",
    "    for i in range(len(positive_rated)):\n",
    "        \n",
    "        # storing user_id and corresponding item_id\n",
    "        # as mentioned each user has only one positive_rated ('1') item.\n",
    "        \n",
    "        user_id = positive_rated.iloc[i]['user_id']\n",
    "        item_id = positive_rated.iloc[i]['item_id']\n",
    "        \n",
    "        # items we recommend\n",
    "        items_recommended = list(pred_validation[pred_validation['user_id'] == i]['item_id'])    \n",
    "        \n",
    "        # if the validation true rated value item is present in our 15 recommended items, calculate DCG\n",
    "        # other wise take 0\n",
    "        \n",
    "        if item_id in items_recommended:\n",
    "            \n",
    "            rank = items_recommended.index(item_id) + 1   # adding 1 as index starts with 0\n",
    "            \n",
    "            if rank == 1:\n",
    "                DCG.append(1)\n",
    "            else:\n",
    "                DCG.append(1/math.log(rank, 2))\n",
    "                \n",
    "        else: \n",
    "            DCG.append(0)\n",
    "            \n",
    "    return np.mean(DCG)"
   ]
  },
  {
   "cell_type": "code",
   "execution_count": null,
   "metadata": {
    "execution": {
     "iopub.execute_input": "2022-05-27T10:20:28.650715Z",
     "iopub.status.busy": "2022-05-27T10:20:28.649874Z",
     "iopub.status.idle": "2022-05-27T10:20:28.665090Z",
     "shell.execute_reply": "2022-05-27T10:20:28.664134Z",
     "shell.execute_reply.started": "2022-05-27T10:20:28.650683Z"
    },
    "id": "e31FcDpZJb8D"
   },
   "outputs": [],
   "source": [
    "# Reference: Recommender_Systems_Part_2 Tutorial Code\n",
    "\n",
    "def recommend(user_id, sparse_user_item, user_vecs, item_vecs, test_df):\n",
    "    \n",
    "    # Get the interactions scores from the sparse person content matrix\n",
    "    user_interactions = sparse_user_item[user_id,:].toarray()\n",
    "    \n",
    "    # Add 1 to everything, so that articles with no interaction yet become equal to 1\n",
    "    user_interactions = user_interactions.reshape(-1) + 1\n",
    "    \n",
    "    # Make articles already interacted zero\n",
    "    user_interactions[user_interactions > 1] = 0\n",
    "    \n",
    "    # Get dot product of person vector and all content vectors\n",
    "    rec_vector = user_vecs[user_id,:].dot(item_vecs.T).toarray()\n",
    "    \n",
    "    # Scale this recommendation vector between 0 and 1\n",
    "    min_max = MinMaxScaler()\n",
    "    rec_vector_scaled = min_max.fit_transform(rec_vector.reshape(-1,1))[:,0]\n",
    "    \n",
    "    # Content already interacted have their recommendation multiplied by zero\n",
    "    recommend_vector = user_interactions * rec_vector_scaled\n",
    "\n",
    "    # Start empty list to store items and scores\n",
    "    items = []\n",
    "    scores = []\n",
    "    \n",
    "    test_item_id = test_df[test_df['user_id'] == user_id]['item_id']\n",
    "    \n",
    "    for i in test_item_id:\n",
    "        items.append(i)\n",
    "        scores.append(recommend_vector[i])\n",
    "        \n",
    "    # record the score\n",
    "    recommendations = pd.DataFrame({'user_id': user_id, 'item_id': items, 'score': scores})\n",
    "    \n",
    "    # top 15 items by sorting descending the scores\n",
    "    recommendations = recommendations.sort_values(by='score', ascending = False)[:15]\n",
    "    \n",
    "    return recommendations"
   ]
  },
  {
   "cell_type": "code",
   "execution_count": null,
   "metadata": {
    "execution": {
     "iopub.execute_input": "2022-05-27T10:20:28.666846Z",
     "iopub.status.busy": "2022-05-27T10:20:28.666338Z",
     "iopub.status.idle": "2022-05-27T10:20:28.678314Z",
     "shell.execute_reply": "2022-05-27T10:20:28.677420Z",
     "shell.execute_reply.started": "2022-05-27T10:20:28.666806Z"
    },
    "id": "WyyPJ1gRJb8D"
   },
   "outputs": [],
   "source": [
    "# defining validation ndcg scoring function\n",
    "\n",
    "def validation_ndcg_scoring(user_vecs, item_vecs, validation_df):\n",
    "    \n",
    "    user_id_list = []\n",
    "    item_id_list = []\n",
    "    \n",
    "    # for each unique users in validation dataset\n",
    "    for user_id in set(validation_df['user_id']):\n",
    "        \n",
    "        # recommend 15 items by calling recommend()\n",
    "        recommendations = recommend(user_id, sparse_user_item, user_vecs, item_vecs, validation_df)\n",
    "        \n",
    "        # append lists to empty list\n",
    "        user_id_list += list(recommendations['user_id'])\n",
    "        item_id_list += list(recommendations['item_id'])\n",
    "\n",
    "    valid_pred = pd.DataFrame({'user_id': user_id_list, 'item_id': item_id_list})\n",
    "    # display(valid_pred)\n",
    "    \n",
    "    ndcg_val = NDCG(validation_df, valid_pred)\n",
    "\n",
    "    return ndcg_val"
   ]
  },
  {
   "cell_type": "code",
   "execution_count": null,
   "metadata": {
    "execution": {
     "iopub.execute_input": "2022-05-27T10:20:28.680341Z",
     "iopub.status.busy": "2022-05-27T10:20:28.679514Z",
     "iopub.status.idle": "2022-05-27T10:20:28.747348Z",
     "shell.execute_reply": "2022-05-27T10:20:28.746710Z",
     "shell.execute_reply.started": "2022-05-27T10:20:28.680297Z"
    },
    "id": "RtMOxX4QJb8E",
    "outputId": "f7eff912-9e71-4134-e56e-26bc62e30679"
   },
   "outputs": [
    {
     "data": {
      "text/plain": [
       "3466"
      ]
     },
     "execution_count": 20,
     "metadata": {},
     "output_type": "execute_result"
    }
   ],
   "source": [
    "# checking unique user length\n",
    "len(set(validation_df['user_id']))"
   ]
  },
  {
   "cell_type": "markdown",
   "metadata": {
    "id": "7q-T3NAwPDWq"
   },
   "source": [
    "### 1.1.3 Hyperparameter Tunning"
   ]
  },
  {
   "cell_type": "code",
   "execution_count": null,
   "metadata": {
    "execution": {
     "iopub.execute_input": "2022-05-29T04:28:46.756615Z",
     "iopub.status.busy": "2022-05-29T04:28:46.756082Z",
     "iopub.status.idle": "2022-05-29T04:28:46.763058Z",
     "shell.execute_reply": "2022-05-29T04:28:46.762212Z",
     "shell.execute_reply.started": "2022-05-29T04:28:46.756575Z"
    },
    "id": "Af_SEbrpPDWr"
   },
   "outputs": [],
   "source": [
    "# Defining different parameters for performing hyperparameter tuning\n",
    "\n",
    "factors = [20, 32, 64, 50]\n",
    "regularization = [325, 350, 425, 475, 500, 775]\n",
    "iterations = [40, 80]\n",
    "alpha = list(range(50, 100, 10))"
   ]
  },
  {
   "cell_type": "code",
   "execution_count": null,
   "metadata": {
    "colab": {
     "referenced_widgets": [
      "0ae96f7e8a9545bfb38b00a193404cc0",
      "b46ee64a3f124e40b02496e944531e0e",
      "234442c75df94963ac77e477dbc9daf2",
      "3e9da9bba4c64ef4bc5e00275654635d",
      "f0f86dbafccb43d5ab917cd7fa41e2cb",
      "5b7867a5a4bd4217bbf010adb56f5cca",
      "4908edb3aad744d4a132b719aca9d419",
      "b39ec3df441844e2a7d2823d0b8498e0",
      "a2132c1aee194d27b483fd98e23f38e7",
      "f02fb869fc954dd1b42607dcb16a08c9",
      "1d4cbbf96a9a41fc896adb1bad7a2c21",
      "0342e285cf4d47f4a6a0e35917f42ba7",
      "90362f7437fa4fbdafb03aed642c6e1b",
      "b21f50d28b1d4bc699588f5064b83eff",
      "36fe53e070d04ed782e565286201131d",
      "97751e3e21e54b86bcf8bb30e6f14228",
      "84cef4bb569646948ea43bc96f7a82c5",
      "6c0e85cd377943c9b8fdab42859cdaf7",
      "14c5c687560844b4ab094ca5326f4675",
      "e6ea22466e094ded90423da686451b06",
      "58bf918a447f4123b4e7bc3bc406b72b",
      "c7a4216823b846a3a2adea632b2df1b1",
      "383d4f3dda8840fba3809678c2133630",
      "1304ff5669d44d51a05ce65cfee2ab93",
      "1b1f992d9b8b4b759dafbe1247076cc8",
      "ac2ac5c6a55a4190bd99cc07f1906d68",
      "e98feced260a4d25a35c65448be1c599",
      "9aabb879c3414ebeafe3271bcb07fed3",
      "6512a7dd48c1417faa88190e5fc4d9e0",
      "872de8e2d06642f483990955907762e1",
      "94774a96815e490fa1854a8c75f2c92b",
      "25449575e8f542e48cce21b22d525653",
      "4bf43e5b6e984a049597565d5fd03c1c",
      "9a8f053e894846de9d3f3927772d4ee3",
      "8726ba81f83341b8baec115a835eb14b",
      "17281d89603d4c21a0840fc3600ad7e8",
      "780e46a44d424fcfbadaaf6a75883fd0",
      "83b35a1271df4abdbee819b50328d6fa",
      "b4fb1a65536e450296a81b3e089600cd",
      "65fcabaa98f84fc68562f206ea082813",
      "7dbe8f64130b4945aa6c4235ee55638c",
      "24a5d19f2e764830a27c33562aaf3a26",
      "06ad63a92de4463881e68cce1e707945",
      "0809c6e4b77e42168ca6e12a5d953ea6",
      "114cfb09ffae42cc9c40b2ba00f19325",
      "3bf640ddd69040fba3e1aa98a21f3bf6",
      "fdffc3567d994b759cee2121a544dae4",
      "0832f88fc34845c7943367b7056169c4",
      "4fa0f2759aca4e92bd8110114b0e55b9",
      "08cf85e6ccda420bad198213a35247db",
      "e2a2e3cc828d432787252f07bca8915c",
      "8b748195a0704785a4ba2d33b424fb68",
      "2b59825339c646c7b24d6618d979bf4a",
      "18347da7599e4779a00bdc3d4e1b99eb",
      "d5c4fda931ed40a6a3c39b7e74d6f271",
      "12e556a7aa62461da6352de2d896c625",
      "212e230caf194ed2a87afbed368ec08d",
      "6da3f19cbc824d099872c642e955c508",
      "06184cd2fe9545459ec596bde9344a0a",
      "795862cc4d9845718fddc964c3720f23",
      "55057b91f43249b1919b77969a9a8617",
      "9a912ae21a9f49cdbde9c47be844e5e7",
      "97b1d71b705447b78b8aad5ba3cdddeb",
      "af61d437862a4b78b4c3fbc293985a7a",
      "08e26d6eaa924e86b5d4b310a8aabd44",
      "b0519132ef094b75a21fb70ebba21508",
      "893c2b1635e8482bb59b5929bfc3db80",
      "08413244c2c24e51a0a589ca4209fe71",
      "09557cc520fc442893e4f53da65a292b",
      "a011433ddd1444a1ba24262cc379cdd7",
      "42db8ce6c84541c68280787329a8d27f",
      "ac0431e26b2b42a7885a2cb98617781d",
      "000dce8658504162a40c11d3f968baac",
      "666728a72e6e4e24b9b695650d50c644",
      "3a378a0ac607434dab23e068afae2d55",
      "825e3fe6f3d14db3b7326921f60726fc",
      "decd315584ab442b8350b4523c0082b0",
      "50108994c12644f2a1f73799a5eb2090",
      "212a40557a0e43bcbd1ed01e368be605",
      "13c46ffe7f174d52b357ac33b4a054ea",
      "41b9c9d583d644a19f118abba9f28267",
      "533b666822c54cdab4ec0cc580d13e1b",
      "b1c9640bfe074e829008e1708a6c0cb9",
      "d0369fff82d5402a859ce26f2f4e8333",
      "30889687b3ca4e1da007266ab1f86023",
      "f5495979d6fb4daa9bb5f402e9759f25",
      "28f6d06b2a1f432bb685b417a8335987",
      "763361657e444d198bf970a4f3e13a1c",
      "ac44dfba66cb4d9395ea82e342e72f32",
      "ba343e9f80fb4809ad52c529c1846ec9",
      "a28ef4627d7846878c7d740872d874d3",
      "c6831406ef15463d82efd74667fc641d",
      "2474bdb473474f988d7bc9664141c3d9",
      "e65a8c2d1d754ab8a48c7719ed4d321f",
      "1903713e1c2f409cbfc59ac85a346283",
      "0b5d061088304aa1a94aba6dd1cec002",
      "2a837259f6054874989491bc6ffa5692",
      "81836bd9c0854b83934bd76e7624fb6c",
      "42b2cb8792954731acfd14d4d1a19797",
      "5f91f7c37ddc478db236b04417eeabe0",
      "7b492a4006ef43b9bffc6d01ffaf87b3",
      "cf22a15624f54778813ac6ab0efd6d60",
      "efe9b33ab4854473b109fa61336caae7",
      "15784a0272d44c60b097e1e68a9211bc",
      "dc9b3e4d8ff043b0b2bed51750c9bb69",
      "92a72c5ae2ca4ba09b84b81891e79635",
      "ee8677f267b44e8bbdf008fe3413774f",
      "e210e24b2d7f4a74bcd0c3e2e85f233a",
      "471bc2ea083a43cdb3419d96a011355a",
      "54e3d4be21394556980b26c60d438dd9",
      "13bffee833854c06af0486d5bf4ce79b",
      "f287ff1744e147d6b8f7d1a2de7bb722",
      "6d32d2e687d14efeba827de19ce1050a",
      "af919d9f445845a092b57b46a25b8d51",
      "9ac972bb37c649c2b1bf25f5ea8492e5",
      "9c9590efde9b4825b94614c74099af58",
      "b0d6459d81b24be9a4e53072d6942fb1",
      "228380f60bd94c1db0e171ce7d8e85c1",
      "e4b5e2a3cc0640779f9f95f4d75f3356",
      "804d8ee8defb4c839531c9ff144fbe3a",
      "e90e9d9d78e540dc8ecfedf5fd78dbc9",
      "4d1d6fb8319b4484b727a6e9091dd821",
      "070914ccec884e408fa641689d1564a5",
      "a1d7622f1bb84fe19c26c23ed49871cd",
      "8266687b7ea84b648f0a2ff15e173e9d",
      "d7d4526c6fc74a47a0f17718a2141b36",
      "a05a86d0feb44788a4be361e3007691f",
      "7126a1189c5643cb8077dc7c63028ac8",
      "5d728ac3235c45959d65af25b28511cb",
      "8c0f3e9c34074031aeb8f5ada25ce020",
      "f71fba9956bf4b6ca756e3ebb14bea4e",
      "f6950b3dbfcd4447b0e9f5a0f123669b",
      "c0b481791d10486f8b290190e6738dd1",
      "e3f2cf5b902c467daea4fb297ae743be",
      "9102da3fc8f148ce91aa64661aa3173c",
      "274980212dbd42f48a752014f48679ce",
      "b3b5ebb79863467789f3b89d47f10f44",
      "2903d9aec9574cf1b048dbf8c30515eb",
      "f6927e2bfec8438c8ff64eff26b89087",
      "416ad6ccafc642fcab99b2062d51f78b",
      "76ca6e89a3b341eca8b9950f7f38183d",
      "c45b1011e9584996a54b82650ee70bfa",
      "50244e716f7044a0b3b9b690282ec493",
      "70ccae24ed844be9a5215733270b969e",
      "bb4ac74ffada4218b4a243344fb2a5dc",
      "683fa97bb76744a1a0d8b0041739eb3e",
      "26b62cccb8d94d59bf88f203df3abfe7",
      "2bb19605cdbb46afbaf3f773a8a2bd44",
      "6262af986bdf4ea9b408367de490a26c",
      "5e138fdbe31b435a9edaec899ded2729",
      "70b477d39bbb4473842f9a2c89e80a17",
      "bdf56bff859e41c58683c5dd6885d3cd",
      "95d23f9003284ddabbb1088ab2056119",
      "a4d728e5c580454f8adf99841f545aa3",
      "d20ca672a116436180f7f3ef7a75f3a5",
      "130702c519964f78b86eae44295e9d1b",
      "878d840b5d1b434daab0059f8af12f56",
      "be6dc44559a54126bccaa3d40f802fdb",
      "e1f48e242629498abf709445775bca96",
      "020140a3e8544f338f0ed3a58b3a787f",
      "dd6d7e09155048e793926a281a8abb08",
      "f3b7f69322f34c75bfdc16839a1c32ce",
      "14abfffd36e744f19fc7dd7ace012236",
      "3b653a2f12564373ab533a62b4575a1b",
      "f4f1534994ed4077882071f92d100301",
      "9d80e4129c8a4e3e937d02f1cda82707",
      "81d149e61e914fca9f2be743dcde6727",
      "f48278e9249f415290113dadff23e6f1",
      "dade152fe6484529b4a06b286f30f16c",
      "068470fd001e41cf8bf1f02bc31c17f2",
      "6bccdd69df86477aa5e381f71cb1963b",
      "998c1e16733e41e4a967980942a3bc8f",
      "2bbe3acd053447699589f7e0d9ff71db",
      "41e263e2678041e191be7727ca3a70e2",
      "6bc8f8640bca49cda61e8f27070017a5",
      "f2ff51a5c75346ac919e5e6edec5564c",
      "11f816f9d20049deb133f3dcb161e8fe",
      "be18e1f918a44587b84111d4b9ab7782",
      "f5d73a98684941e48e35556ee4e40a06",
      "c163bfad3f0545ecaa943ec1ffdb3210",
      "d8e2904db03f45ff946b2e068091a45b",
      "92a9967da859429f92cd614b9d848b8b",
      "ea6c5832bc014fb495d7d858298d3838",
      "504888078bfc4c7aa7de86249cf96208",
      "bfa1e10f687946779ef2bbe82cfe88b2",
      "85829146d22c4fc487e7322d5522c91f",
      "cbce642c4d1f4df9befcb82a13516536",
      "9656a026384e486b90d999168bfb4718",
      "131eaa1aa4aa4ace850d8dea1c9d3217",
      "2afc854a03944f1d81666ec18af5ca7c",
      "53733942ddad4e6c83edaccb439313c0",
      "03a54ba1ff114c78ad8225ce394c1b0e",
      "414aeac92ef6474faab469171b67e83d",
      "e3b1aa4fa37e4b0fb79f3faaf4f64217",
      "9860775c19934823b98f9bda60f1cfd0",
      "892bda017bb048d4a16e7322f518c5d3",
      "c60775dbc07340db98b2c563cd6f240f",
      "3274cd36cdcb4866af6ef12cdf810f93",
      "efac2814f6b24c998dc36bf78c9c65c6",
      "823db9564bcb4bf982bff519f43fcfa4",
      "3398bfbc2b0d4e79b90e4862d5f0453a",
      "c0d694afbb4c47ab96f057725728145b",
      "5aae73447c204fddadaa08891bef4416",
      "70cff1c08b674dfdb61cee134ed4f455",
      "741be9695ce9424ba6ba3a723580647d",
      "c25d35888fda4ef082d7a2b871a2f25c",
      "4b375677fbd54746aba0b30a8d3b2721",
      "ad3f8c6362c4489da819c096190ea519",
      "0daaedfb553d4dccb4ac3cad041fa020",
      "ee04688132854f94b6a4c71a15a3dd54",
      "45ee25afa591401fa4d12706739a402f",
      "b0a42ad5788d4fa08848392e13d2139a",
      "65e52ba55afb40c480d6016d8a022f95",
      "39485aca812f452399e7ad63ca765b58",
      "4fadd9e9faf6411d8460caf945b9f1a6",
      "dee907f34b8542839e4282cb0162ffff",
      "322cdabf7c004452b0269912c9a7b97d",
      "6657d76cc1954ab2a4fc477d433e5ecc",
      "816889a7678a40949da0ffe06e5db608",
      "5faa7fd8cc2845d79ae25a447a4b2b24",
      "6ec0a60604e042e199b9eb34a224e422",
      "cc6f62f9a6574f519ccec3beb5349e02",
      "ed983984bf234f028b1c7aa95bebd08f",
      "9adf402fb4f44d328b1e55768ccd8110",
      "41396bc1407441568893adae33c99c9e",
      "73103f0231cd4aa1b26833b03a2bfdf1",
      "52b7b0dfd90d4308a2e3e4cba7f7f127",
      "7eeb11949bb64742adbbff6c3de10477",
      "04a100d2411e432195631f6c47023e37",
      "4ba3de77d1434964bc15ad736563eac1",
      "c5d605aee1b44d8d85d7c179212917b6",
      "7e057d3fcd464b4db1ac8f72b6c05359",
      "e2cc1e0be12a4de89c5027e8f6592026",
      "ecd28864c6f74146a8a745c31b996e60",
      "cba1d825df894187a469ae963c15d436",
      "6baf41eec17d4248ab1836faa4b620a3",
      "11cbba917e32498aaaff4e12874200c2",
      "5ebf3f232c7c4bccb6aa3c6d99729e7b",
      "5788c594214a41c3b8759c030d11abd4",
      "d4580c3b8e924ae6961330c1f6df7e96"
     ]
    },
    "execution": {
     "iopub.execute_input": "2022-05-29T04:28:54.043293Z",
     "iopub.status.busy": "2022-05-29T04:28:54.042151Z",
     "iopub.status.idle": "2022-05-29T07:56:27.050751Z",
     "shell.execute_reply": "2022-05-29T07:56:27.049688Z",
     "shell.execute_reply.started": "2022-05-29T04:28:54.043242Z"
    },
    "id": "6FAMwY0ePDWr",
    "outputId": "7cc682a5-59cf-499d-95cf-ab7d0630825b",
    "scrolled": true
   },
   "outputs": [
    {
     "data": {
      "application/vnd.jupyter.widget-view+json": {
       "model_id": "0ae96f7e8a9545bfb38b00a193404cc0",
       "version_major": 2,
       "version_minor": 0
      },
      "text/plain": [
       "  0%|          | 0/40 [00:00<?, ?it/s]"
      ]
     },
     "metadata": {},
     "output_type": "display_data"
    },
    {
     "name": "stdout",
     "output_type": "stream",
     "text": [
      "\n",
      "********************\n",
      "(20, 325, 40, 50)\n",
      "The NDCG score on validation dataset is:  0.25286417966900465\n"
     ]
    },
    {
     "data": {
      "application/vnd.jupyter.widget-view+json": {
       "model_id": "b46ee64a3f124e40b02496e944531e0e",
       "version_major": 2,
       "version_minor": 0
      },
      "text/plain": [
       "  0%|          | 0/40 [00:00<?, ?it/s]"
      ]
     },
     "metadata": {},
     "output_type": "display_data"
    },
    {
     "name": "stdout",
     "output_type": "stream",
     "text": [
      "\n",
      "********************\n",
      "(20, 325, 40, 60)\n",
      "The NDCG score on validation dataset is:  0.2576258186509431\n"
     ]
    },
    {
     "data": {
      "application/vnd.jupyter.widget-view+json": {
       "model_id": "234442c75df94963ac77e477dbc9daf2",
       "version_major": 2,
       "version_minor": 0
      },
      "text/plain": [
       "  0%|          | 0/40 [00:00<?, ?it/s]"
      ]
     },
     "metadata": {},
     "output_type": "display_data"
    },
    {
     "name": "stdout",
     "output_type": "stream",
     "text": [
      "\n",
      "********************\n",
      "(20, 325, 40, 70)\n",
      "The NDCG score on validation dataset is:  0.25654636360318006\n"
     ]
    },
    {
     "data": {
      "application/vnd.jupyter.widget-view+json": {
       "model_id": "3e9da9bba4c64ef4bc5e00275654635d",
       "version_major": 2,
       "version_minor": 0
      },
      "text/plain": [
       "  0%|          | 0/40 [00:00<?, ?it/s]"
      ]
     },
     "metadata": {},
     "output_type": "display_data"
    },
    {
     "name": "stdout",
     "output_type": "stream",
     "text": [
      "\n",
      "********************\n",
      "(20, 325, 40, 80)\n",
      "The NDCG score on validation dataset is:  0.25421352797587293\n"
     ]
    },
    {
     "data": {
      "application/vnd.jupyter.widget-view+json": {
       "model_id": "f0f86dbafccb43d5ab917cd7fa41e2cb",
       "version_major": 2,
       "version_minor": 0
      },
      "text/plain": [
       "  0%|          | 0/40 [00:00<?, ?it/s]"
      ]
     },
     "metadata": {},
     "output_type": "display_data"
    },
    {
     "name": "stdout",
     "output_type": "stream",
     "text": [
      "\n",
      "********************\n",
      "(20, 325, 40, 90)\n",
      "The NDCG score on validation dataset is:  0.2514834980308129\n"
     ]
    },
    {
     "data": {
      "application/vnd.jupyter.widget-view+json": {
       "model_id": "5b7867a5a4bd4217bbf010adb56f5cca",
       "version_major": 2,
       "version_minor": 0
      },
      "text/plain": [
       "  0%|          | 0/80 [00:00<?, ?it/s]"
      ]
     },
     "metadata": {},
     "output_type": "display_data"
    },
    {
     "name": "stdout",
     "output_type": "stream",
     "text": [
      "\n",
      "********************\n",
      "(20, 325, 80, 50)\n",
      "The NDCG score on validation dataset is:  0.2537393462178974\n"
     ]
    },
    {
     "data": {
      "application/vnd.jupyter.widget-view+json": {
       "model_id": "4908edb3aad744d4a132b719aca9d419",
       "version_major": 2,
       "version_minor": 0
      },
      "text/plain": [
       "  0%|          | 0/80 [00:00<?, ?it/s]"
      ]
     },
     "metadata": {},
     "output_type": "display_data"
    },
    {
     "name": "stdout",
     "output_type": "stream",
     "text": [
      "\n",
      "********************\n",
      "(20, 325, 80, 60)\n",
      "The NDCG score on validation dataset is:  0.2587274044469835\n"
     ]
    },
    {
     "data": {
      "application/vnd.jupyter.widget-view+json": {
       "model_id": "b39ec3df441844e2a7d2823d0b8498e0",
       "version_major": 2,
       "version_minor": 0
      },
      "text/plain": [
       "  0%|          | 0/80 [00:00<?, ?it/s]"
      ]
     },
     "metadata": {},
     "output_type": "display_data"
    },
    {
     "name": "stdout",
     "output_type": "stream",
     "text": [
      "\n",
      "********************\n",
      "(20, 325, 80, 70)\n",
      "The NDCG score on validation dataset is:  0.25595487731257605\n"
     ]
    },
    {
     "data": {
      "application/vnd.jupyter.widget-view+json": {
       "model_id": "a2132c1aee194d27b483fd98e23f38e7",
       "version_major": 2,
       "version_minor": 0
      },
      "text/plain": [
       "  0%|          | 0/80 [00:00<?, ?it/s]"
      ]
     },
     "metadata": {},
     "output_type": "display_data"
    },
    {
     "name": "stdout",
     "output_type": "stream",
     "text": [
      "\n",
      "********************\n",
      "(20, 325, 80, 80)\n",
      "The NDCG score on validation dataset is:  0.2571202569052187\n"
     ]
    },
    {
     "data": {
      "application/vnd.jupyter.widget-view+json": {
       "model_id": "f02fb869fc954dd1b42607dcb16a08c9",
       "version_major": 2,
       "version_minor": 0
      },
      "text/plain": [
       "  0%|          | 0/80 [00:00<?, ?it/s]"
      ]
     },
     "metadata": {},
     "output_type": "display_data"
    },
    {
     "name": "stdout",
     "output_type": "stream",
     "text": [
      "\n",
      "********************\n",
      "(20, 325, 80, 90)\n",
      "The NDCG score on validation dataset is:  0.2532475844017618\n"
     ]
    },
    {
     "data": {
      "application/vnd.jupyter.widget-view+json": {
       "model_id": "1d4cbbf96a9a41fc896adb1bad7a2c21",
       "version_major": 2,
       "version_minor": 0
      },
      "text/plain": [
       "  0%|          | 0/40 [00:00<?, ?it/s]"
      ]
     },
     "metadata": {},
     "output_type": "display_data"
    },
    {
     "name": "stdout",
     "output_type": "stream",
     "text": [
      "\n",
      "********************\n",
      "(20, 350, 40, 50)\n",
      "The NDCG score on validation dataset is:  0.24891209205051004\n"
     ]
    },
    {
     "data": {
      "application/vnd.jupyter.widget-view+json": {
       "model_id": "0342e285cf4d47f4a6a0e35917f42ba7",
       "version_major": 2,
       "version_minor": 0
      },
      "text/plain": [
       "  0%|          | 0/40 [00:00<?, ?it/s]"
      ]
     },
     "metadata": {},
     "output_type": "display_data"
    },
    {
     "name": "stdout",
     "output_type": "stream",
     "text": [
      "\n",
      "********************\n",
      "(20, 350, 40, 60)\n",
      "The NDCG score on validation dataset is:  0.25647133340797673\n"
     ]
    },
    {
     "data": {
      "application/vnd.jupyter.widget-view+json": {
       "model_id": "90362f7437fa4fbdafb03aed642c6e1b",
       "version_major": 2,
       "version_minor": 0
      },
      "text/plain": [
       "  0%|          | 0/40 [00:00<?, ?it/s]"
      ]
     },
     "metadata": {},
     "output_type": "display_data"
    },
    {
     "name": "stdout",
     "output_type": "stream",
     "text": [
      "\n",
      "********************\n",
      "(20, 350, 40, 70)\n",
      "The NDCG score on validation dataset is:  0.2575720695898459\n"
     ]
    },
    {
     "data": {
      "application/vnd.jupyter.widget-view+json": {
       "model_id": "b21f50d28b1d4bc699588f5064b83eff",
       "version_major": 2,
       "version_minor": 0
      },
      "text/plain": [
       "  0%|          | 0/40 [00:00<?, ?it/s]"
      ]
     },
     "metadata": {},
     "output_type": "display_data"
    },
    {
     "name": "stdout",
     "output_type": "stream",
     "text": [
      "\n",
      "********************\n",
      "(20, 350, 40, 80)\n",
      "The NDCG score on validation dataset is:  0.255557996091533\n"
     ]
    },
    {
     "data": {
      "application/vnd.jupyter.widget-view+json": {
       "model_id": "36fe53e070d04ed782e565286201131d",
       "version_major": 2,
       "version_minor": 0
      },
      "text/plain": [
       "  0%|          | 0/40 [00:00<?, ?it/s]"
      ]
     },
     "metadata": {},
     "output_type": "display_data"
    },
    {
     "name": "stdout",
     "output_type": "stream",
     "text": [
      "\n",
      "********************\n",
      "(20, 350, 40, 90)\n",
      "The NDCG score on validation dataset is:  0.2540230270115011\n"
     ]
    },
    {
     "data": {
      "application/vnd.jupyter.widget-view+json": {
       "model_id": "97751e3e21e54b86bcf8bb30e6f14228",
       "version_major": 2,
       "version_minor": 0
      },
      "text/plain": [
       "  0%|          | 0/80 [00:00<?, ?it/s]"
      ]
     },
     "metadata": {},
     "output_type": "display_data"
    },
    {
     "name": "stdout",
     "output_type": "stream",
     "text": [
      "\n",
      "********************\n",
      "(20, 350, 80, 50)\n",
      "The NDCG score on validation dataset is:  0.24876949655708824\n"
     ]
    },
    {
     "data": {
      "application/vnd.jupyter.widget-view+json": {
       "model_id": "84cef4bb569646948ea43bc96f7a82c5",
       "version_major": 2,
       "version_minor": 0
      },
      "text/plain": [
       "  0%|          | 0/80 [00:00<?, ?it/s]"
      ]
     },
     "metadata": {},
     "output_type": "display_data"
    },
    {
     "name": "stdout",
     "output_type": "stream",
     "text": [
      "\n",
      "********************\n",
      "(20, 350, 80, 60)\n",
      "The NDCG score on validation dataset is:  0.2569493116017208\n"
     ]
    },
    {
     "data": {
      "application/vnd.jupyter.widget-view+json": {
       "model_id": "6c0e85cd377943c9b8fdab42859cdaf7",
       "version_major": 2,
       "version_minor": 0
      },
      "text/plain": [
       "  0%|          | 0/80 [00:00<?, ?it/s]"
      ]
     },
     "metadata": {},
     "output_type": "display_data"
    },
    {
     "name": "stdout",
     "output_type": "stream",
     "text": [
      "\n",
      "********************\n",
      "(20, 350, 80, 70)\n",
      "The NDCG score on validation dataset is:  0.25771892277738845\n"
     ]
    },
    {
     "data": {
      "application/vnd.jupyter.widget-view+json": {
       "model_id": "14c5c687560844b4ab094ca5326f4675",
       "version_major": 2,
       "version_minor": 0
      },
      "text/plain": [
       "  0%|          | 0/80 [00:00<?, ?it/s]"
      ]
     },
     "metadata": {},
     "output_type": "display_data"
    },
    {
     "name": "stdout",
     "output_type": "stream",
     "text": [
      "\n",
      "********************\n",
      "(20, 350, 80, 80)\n",
      "The NDCG score on validation dataset is:  0.2555288688321847\n"
     ]
    },
    {
     "data": {
      "application/vnd.jupyter.widget-view+json": {
       "model_id": "e6ea22466e094ded90423da686451b06",
       "version_major": 2,
       "version_minor": 0
      },
      "text/plain": [
       "  0%|          | 0/80 [00:00<?, ?it/s]"
      ]
     },
     "metadata": {},
     "output_type": "display_data"
    },
    {
     "name": "stdout",
     "output_type": "stream",
     "text": [
      "\n",
      "********************\n",
      "(20, 350, 80, 90)\n",
      "The NDCG score on validation dataset is:  0.25845813561387027\n"
     ]
    },
    {
     "data": {
      "application/vnd.jupyter.widget-view+json": {
       "model_id": "58bf918a447f4123b4e7bc3bc406b72b",
       "version_major": 2,
       "version_minor": 0
      },
      "text/plain": [
       "  0%|          | 0/40 [00:00<?, ?it/s]"
      ]
     },
     "metadata": {},
     "output_type": "display_data"
    },
    {
     "name": "stdout",
     "output_type": "stream",
     "text": [
      "\n",
      "********************\n",
      "(20, 425, 40, 50)\n",
      "The NDCG score on validation dataset is:  0.22572259653100976\n"
     ]
    },
    {
     "data": {
      "application/vnd.jupyter.widget-view+json": {
       "model_id": "c7a4216823b846a3a2adea632b2df1b1",
       "version_major": 2,
       "version_minor": 0
      },
      "text/plain": [
       "  0%|          | 0/40 [00:00<?, ?it/s]"
      ]
     },
     "metadata": {},
     "output_type": "display_data"
    },
    {
     "name": "stdout",
     "output_type": "stream",
     "text": [
      "\n",
      "********************\n",
      "(20, 425, 40, 60)\n",
      "The NDCG score on validation dataset is:  0.24566097626288227\n"
     ]
    },
    {
     "data": {
      "application/vnd.jupyter.widget-view+json": {
       "model_id": "383d4f3dda8840fba3809678c2133630",
       "version_major": 2,
       "version_minor": 0
      },
      "text/plain": [
       "  0%|          | 0/40 [00:00<?, ?it/s]"
      ]
     },
     "metadata": {},
     "output_type": "display_data"
    },
    {
     "name": "stdout",
     "output_type": "stream",
     "text": [
      "\n",
      "********************\n",
      "(20, 425, 40, 70)\n",
      "The NDCG score on validation dataset is:  0.25558308409310987\n"
     ]
    },
    {
     "data": {
      "application/vnd.jupyter.widget-view+json": {
       "model_id": "1304ff5669d44d51a05ce65cfee2ab93",
       "version_major": 2,
       "version_minor": 0
      },
      "text/plain": [
       "  0%|          | 0/40 [00:00<?, ?it/s]"
      ]
     },
     "metadata": {},
     "output_type": "display_data"
    },
    {
     "name": "stdout",
     "output_type": "stream",
     "text": [
      "\n",
      "********************\n",
      "(20, 425, 40, 80)\n",
      "The NDCG score on validation dataset is:  0.25824575104062747\n"
     ]
    },
    {
     "data": {
      "application/vnd.jupyter.widget-view+json": {
       "model_id": "1b1f992d9b8b4b759dafbe1247076cc8",
       "version_major": 2,
       "version_minor": 0
      },
      "text/plain": [
       "  0%|          | 0/40 [00:00<?, ?it/s]"
      ]
     },
     "metadata": {},
     "output_type": "display_data"
    },
    {
     "name": "stdout",
     "output_type": "stream",
     "text": [
      "\n",
      "********************\n",
      "(20, 425, 40, 90)\n",
      "The NDCG score on validation dataset is:  0.2587629154270805\n"
     ]
    },
    {
     "data": {
      "application/vnd.jupyter.widget-view+json": {
       "model_id": "ac2ac5c6a55a4190bd99cc07f1906d68",
       "version_major": 2,
       "version_minor": 0
      },
      "text/plain": [
       "  0%|          | 0/80 [00:00<?, ?it/s]"
      ]
     },
     "metadata": {},
     "output_type": "display_data"
    },
    {
     "name": "stdout",
     "output_type": "stream",
     "text": [
      "\n",
      "********************\n",
      "(20, 425, 80, 50)\n",
      "The NDCG score on validation dataset is:  0.22742369936053686\n"
     ]
    },
    {
     "data": {
      "application/vnd.jupyter.widget-view+json": {
       "model_id": "e98feced260a4d25a35c65448be1c599",
       "version_major": 2,
       "version_minor": 0
      },
      "text/plain": [
       "  0%|          | 0/80 [00:00<?, ?it/s]"
      ]
     },
     "metadata": {},
     "output_type": "display_data"
    },
    {
     "name": "stdout",
     "output_type": "stream",
     "text": [
      "\n",
      "********************\n",
      "(20, 425, 80, 60)\n",
      "The NDCG score on validation dataset is:  0.24623920369128088\n"
     ]
    },
    {
     "data": {
      "application/vnd.jupyter.widget-view+json": {
       "model_id": "9aabb879c3414ebeafe3271bcb07fed3",
       "version_major": 2,
       "version_minor": 0
      },
      "text/plain": [
       "  0%|          | 0/80 [00:00<?, ?it/s]"
      ]
     },
     "metadata": {},
     "output_type": "display_data"
    },
    {
     "name": "stdout",
     "output_type": "stream",
     "text": [
      "\n",
      "********************\n",
      "(20, 425, 80, 70)\n",
      "The NDCG score on validation dataset is:  0.25685430071321114\n"
     ]
    },
    {
     "data": {
      "application/vnd.jupyter.widget-view+json": {
       "model_id": "6512a7dd48c1417faa88190e5fc4d9e0",
       "version_major": 2,
       "version_minor": 0
      },
      "text/plain": [
       "  0%|          | 0/80 [00:00<?, ?it/s]"
      ]
     },
     "metadata": {},
     "output_type": "display_data"
    },
    {
     "name": "stdout",
     "output_type": "stream",
     "text": [
      "\n",
      "********************\n",
      "(20, 425, 80, 80)\n",
      "The NDCG score on validation dataset is:  0.25979110956281254\n"
     ]
    },
    {
     "data": {
      "application/vnd.jupyter.widget-view+json": {
       "model_id": "872de8e2d06642f483990955907762e1",
       "version_major": 2,
       "version_minor": 0
      },
      "text/plain": [
       "  0%|          | 0/80 [00:00<?, ?it/s]"
      ]
     },
     "metadata": {},
     "output_type": "display_data"
    },
    {
     "name": "stdout",
     "output_type": "stream",
     "text": [
      "\n",
      "********************\n",
      "(20, 425, 80, 90)\n",
      "The NDCG score on validation dataset is:  0.25886496594758573\n"
     ]
    },
    {
     "data": {
      "application/vnd.jupyter.widget-view+json": {
       "model_id": "94774a96815e490fa1854a8c75f2c92b",
       "version_major": 2,
       "version_minor": 0
      },
      "text/plain": [
       "  0%|          | 0/40 [00:00<?, ?it/s]"
      ]
     },
     "metadata": {},
     "output_type": "display_data"
    },
    {
     "name": "stdout",
     "output_type": "stream",
     "text": [
      "\n",
      "********************\n",
      "(20, 475, 40, 50)\n",
      "The NDCG score on validation dataset is:  0.20826885102672976\n"
     ]
    },
    {
     "data": {
      "application/vnd.jupyter.widget-view+json": {
       "model_id": "25449575e8f542e48cce21b22d525653",
       "version_major": 2,
       "version_minor": 0
      },
      "text/plain": [
       "  0%|          | 0/40 [00:00<?, ?it/s]"
      ]
     },
     "metadata": {},
     "output_type": "display_data"
    },
    {
     "name": "stdout",
     "output_type": "stream",
     "text": [
      "\n",
      "********************\n",
      "(20, 475, 40, 60)\n",
      "The NDCG score on validation dataset is:  0.23238201101279232\n"
     ]
    },
    {
     "data": {
      "application/vnd.jupyter.widget-view+json": {
       "model_id": "4bf43e5b6e984a049597565d5fd03c1c",
       "version_major": 2,
       "version_minor": 0
      },
      "text/plain": [
       "  0%|          | 0/40 [00:00<?, ?it/s]"
      ]
     },
     "metadata": {},
     "output_type": "display_data"
    },
    {
     "name": "stdout",
     "output_type": "stream",
     "text": [
      "\n",
      "********************\n",
      "(20, 475, 40, 70)\n",
      "The NDCG score on validation dataset is:  0.24769653951841014\n"
     ]
    },
    {
     "data": {
      "application/vnd.jupyter.widget-view+json": {
       "model_id": "9a8f053e894846de9d3f3927772d4ee3",
       "version_major": 2,
       "version_minor": 0
      },
      "text/plain": [
       "  0%|          | 0/40 [00:00<?, ?it/s]"
      ]
     },
     "metadata": {},
     "output_type": "display_data"
    },
    {
     "name": "stdout",
     "output_type": "stream",
     "text": [
      "\n",
      "********************\n",
      "(20, 475, 40, 80)\n",
      "The NDCG score on validation dataset is:  0.2564611474974717\n"
     ]
    },
    {
     "data": {
      "application/vnd.jupyter.widget-view+json": {
       "model_id": "8726ba81f83341b8baec115a835eb14b",
       "version_major": 2,
       "version_minor": 0
      },
      "text/plain": [
       "  0%|          | 0/40 [00:00<?, ?it/s]"
      ]
     },
     "metadata": {},
     "output_type": "display_data"
    },
    {
     "name": "stdout",
     "output_type": "stream",
     "text": [
      "\n",
      "********************\n",
      "(20, 475, 40, 90)\n",
      "The NDCG score on validation dataset is:  0.25970082173731496\n"
     ]
    },
    {
     "data": {
      "application/vnd.jupyter.widget-view+json": {
       "model_id": "17281d89603d4c21a0840fc3600ad7e8",
       "version_major": 2,
       "version_minor": 0
      },
      "text/plain": [
       "  0%|          | 0/80 [00:00<?, ?it/s]"
      ]
     },
     "metadata": {},
     "output_type": "display_data"
    },
    {
     "name": "stdout",
     "output_type": "stream",
     "text": [
      "\n",
      "********************\n",
      "(20, 475, 80, 50)\n",
      "The NDCG score on validation dataset is:  0.208876937366084\n"
     ]
    },
    {
     "data": {
      "application/vnd.jupyter.widget-view+json": {
       "model_id": "780e46a44d424fcfbadaaf6a75883fd0",
       "version_major": 2,
       "version_minor": 0
      },
      "text/plain": [
       "  0%|          | 0/80 [00:00<?, ?it/s]"
      ]
     },
     "metadata": {},
     "output_type": "display_data"
    },
    {
     "name": "stdout",
     "output_type": "stream",
     "text": [
      "\n",
      "********************\n",
      "(20, 475, 80, 60)\n",
      "The NDCG score on validation dataset is:  0.23319007710754247\n"
     ]
    },
    {
     "data": {
      "application/vnd.jupyter.widget-view+json": {
       "model_id": "83b35a1271df4abdbee819b50328d6fa",
       "version_major": 2,
       "version_minor": 0
      },
      "text/plain": [
       "  0%|          | 0/80 [00:00<?, ?it/s]"
      ]
     },
     "metadata": {},
     "output_type": "display_data"
    },
    {
     "name": "stdout",
     "output_type": "stream",
     "text": [
      "\n",
      "********************\n",
      "(20, 475, 80, 70)\n",
      "The NDCG score on validation dataset is:  0.24772474437662106\n"
     ]
    },
    {
     "data": {
      "application/vnd.jupyter.widget-view+json": {
       "model_id": "b4fb1a65536e450296a81b3e089600cd",
       "version_major": 2,
       "version_minor": 0
      },
      "text/plain": [
       "  0%|          | 0/80 [00:00<?, ?it/s]"
      ]
     },
     "metadata": {},
     "output_type": "display_data"
    },
    {
     "name": "stdout",
     "output_type": "stream",
     "text": [
      "\n",
      "********************\n",
      "(20, 475, 80, 80)\n",
      "The NDCG score on validation dataset is:  0.25847248002045836\n"
     ]
    },
    {
     "data": {
      "application/vnd.jupyter.widget-view+json": {
       "model_id": "65fcabaa98f84fc68562f206ea082813",
       "version_major": 2,
       "version_minor": 0
      },
      "text/plain": [
       "  0%|          | 0/80 [00:00<?, ?it/s]"
      ]
     },
     "metadata": {},
     "output_type": "display_data"
    },
    {
     "name": "stdout",
     "output_type": "stream",
     "text": [
      "\n",
      "********************\n",
      "(20, 475, 80, 90)\n",
      "The NDCG score on validation dataset is:  0.2596184898004222\n"
     ]
    },
    {
     "data": {
      "application/vnd.jupyter.widget-view+json": {
       "model_id": "7dbe8f64130b4945aa6c4235ee55638c",
       "version_major": 2,
       "version_minor": 0
      },
      "text/plain": [
       "  0%|          | 0/40 [00:00<?, ?it/s]"
      ]
     },
     "metadata": {},
     "output_type": "display_data"
    },
    {
     "name": "stdout",
     "output_type": "stream",
     "text": [
      "\n",
      "********************\n",
      "(20, 500, 40, 50)\n",
      "The NDCG score on validation dataset is:  0.19906896397901253\n"
     ]
    },
    {
     "data": {
      "application/vnd.jupyter.widget-view+json": {
       "model_id": "24a5d19f2e764830a27c33562aaf3a26",
       "version_major": 2,
       "version_minor": 0
      },
      "text/plain": [
       "  0%|          | 0/40 [00:00<?, ?it/s]"
      ]
     },
     "metadata": {},
     "output_type": "display_data"
    },
    {
     "name": "stdout",
     "output_type": "stream",
     "text": [
      "\n",
      "********************\n",
      "(20, 500, 40, 60)\n",
      "The NDCG score on validation dataset is:  0.2232758773964295\n"
     ]
    },
    {
     "data": {
      "application/vnd.jupyter.widget-view+json": {
       "model_id": "06ad63a92de4463881e68cce1e707945",
       "version_major": 2,
       "version_minor": 0
      },
      "text/plain": [
       "  0%|          | 0/40 [00:00<?, ?it/s]"
      ]
     },
     "metadata": {},
     "output_type": "display_data"
    },
    {
     "name": "stdout",
     "output_type": "stream",
     "text": [
      "\n",
      "********************\n",
      "(20, 500, 40, 70)\n",
      "The NDCG score on validation dataset is:  0.2418676413682836\n"
     ]
    },
    {
     "data": {
      "application/vnd.jupyter.widget-view+json": {
       "model_id": "0809c6e4b77e42168ca6e12a5d953ea6",
       "version_major": 2,
       "version_minor": 0
      },
      "text/plain": [
       "  0%|          | 0/40 [00:00<?, ?it/s]"
      ]
     },
     "metadata": {},
     "output_type": "display_data"
    },
    {
     "name": "stdout",
     "output_type": "stream",
     "text": [
      "\n",
      "********************\n",
      "(20, 500, 40, 80)\n",
      "The NDCG score on validation dataset is:  0.2522866923381184\n"
     ]
    },
    {
     "data": {
      "application/vnd.jupyter.widget-view+json": {
       "model_id": "114cfb09ffae42cc9c40b2ba00f19325",
       "version_major": 2,
       "version_minor": 0
      },
      "text/plain": [
       "  0%|          | 0/40 [00:00<?, ?it/s]"
      ]
     },
     "metadata": {},
     "output_type": "display_data"
    },
    {
     "name": "stdout",
     "output_type": "stream",
     "text": [
      "\n",
      "********************\n",
      "(20, 500, 40, 90)\n",
      "The NDCG score on validation dataset is:  0.2587193339997402\n"
     ]
    },
    {
     "data": {
      "application/vnd.jupyter.widget-view+json": {
       "model_id": "3bf640ddd69040fba3e1aa98a21f3bf6",
       "version_major": 2,
       "version_minor": 0
      },
      "text/plain": [
       "  0%|          | 0/80 [00:00<?, ?it/s]"
      ]
     },
     "metadata": {},
     "output_type": "display_data"
    },
    {
     "name": "stdout",
     "output_type": "stream",
     "text": [
      "\n",
      "********************\n",
      "(20, 500, 80, 50)\n",
      "The NDCG score on validation dataset is:  0.19932871075260816\n"
     ]
    },
    {
     "data": {
      "application/vnd.jupyter.widget-view+json": {
       "model_id": "fdffc3567d994b759cee2121a544dae4",
       "version_major": 2,
       "version_minor": 0
      },
      "text/plain": [
       "  0%|          | 0/80 [00:00<?, ?it/s]"
      ]
     },
     "metadata": {},
     "output_type": "display_data"
    },
    {
     "name": "stdout",
     "output_type": "stream",
     "text": [
      "\n",
      "********************\n",
      "(20, 500, 80, 60)\n",
      "The NDCG score on validation dataset is:  0.2239386044870771\n"
     ]
    },
    {
     "data": {
      "application/vnd.jupyter.widget-view+json": {
       "model_id": "0832f88fc34845c7943367b7056169c4",
       "version_major": 2,
       "version_minor": 0
      },
      "text/plain": [
       "  0%|          | 0/80 [00:00<?, ?it/s]"
      ]
     },
     "metadata": {},
     "output_type": "display_data"
    },
    {
     "name": "stdout",
     "output_type": "stream",
     "text": [
      "\n",
      "********************\n",
      "(20, 500, 80, 70)\n",
      "The NDCG score on validation dataset is:  0.24317589708214027\n"
     ]
    },
    {
     "data": {
      "application/vnd.jupyter.widget-view+json": {
       "model_id": "4fa0f2759aca4e92bd8110114b0e55b9",
       "version_major": 2,
       "version_minor": 0
      },
      "text/plain": [
       "  0%|          | 0/80 [00:00<?, ?it/s]"
      ]
     },
     "metadata": {},
     "output_type": "display_data"
    },
    {
     "name": "stdout",
     "output_type": "stream",
     "text": [
      "\n",
      "********************\n",
      "(20, 500, 80, 80)\n",
      "The NDCG score on validation dataset is:  0.25305884315015464\n"
     ]
    },
    {
     "data": {
      "application/vnd.jupyter.widget-view+json": {
       "model_id": "08cf85e6ccda420bad198213a35247db",
       "version_major": 2,
       "version_minor": 0
      },
      "text/plain": [
       "  0%|          | 0/80 [00:00<?, ?it/s]"
      ]
     },
     "metadata": {},
     "output_type": "display_data"
    },
    {
     "name": "stdout",
     "output_type": "stream",
     "text": [
      "\n",
      "********************\n",
      "(20, 500, 80, 90)\n",
      "The NDCG score on validation dataset is:  0.25956603361021363\n"
     ]
    },
    {
     "data": {
      "application/vnd.jupyter.widget-view+json": {
       "model_id": "e2a2e3cc828d432787252f07bca8915c",
       "version_major": 2,
       "version_minor": 0
      },
      "text/plain": [
       "  0%|          | 0/40 [00:00<?, ?it/s]"
      ]
     },
     "metadata": {},
     "output_type": "display_data"
    },
    {
     "name": "stdout",
     "output_type": "stream",
     "text": [
      "\n",
      "********************\n",
      "(20, 775, 40, 50)\n",
      "The NDCG score on validation dataset is:  0.12487625384295147\n"
     ]
    },
    {
     "data": {
      "application/vnd.jupyter.widget-view+json": {
       "model_id": "8b748195a0704785a4ba2d33b424fb68",
       "version_major": 2,
       "version_minor": 0
      },
      "text/plain": [
       "  0%|          | 0/40 [00:00<?, ?it/s]"
      ]
     },
     "metadata": {},
     "output_type": "display_data"
    },
    {
     "name": "stdout",
     "output_type": "stream",
     "text": [
      "\n",
      "********************\n",
      "(20, 775, 40, 60)\n",
      "The NDCG score on validation dataset is:  0.15007054994274038\n"
     ]
    },
    {
     "data": {
      "application/vnd.jupyter.widget-view+json": {
       "model_id": "2b59825339c646c7b24d6618d979bf4a",
       "version_major": 2,
       "version_minor": 0
      },
      "text/plain": [
       "  0%|          | 0/40 [00:00<?, ?it/s]"
      ]
     },
     "metadata": {},
     "output_type": "display_data"
    },
    {
     "name": "stdout",
     "output_type": "stream",
     "text": [
      "\n",
      "********************\n",
      "(20, 775, 40, 70)\n",
      "The NDCG score on validation dataset is:  0.17417379068234973\n"
     ]
    },
    {
     "data": {
      "application/vnd.jupyter.widget-view+json": {
       "model_id": "18347da7599e4779a00bdc3d4e1b99eb",
       "version_major": 2,
       "version_minor": 0
      },
      "text/plain": [
       "  0%|          | 0/40 [00:00<?, ?it/s]"
      ]
     },
     "metadata": {},
     "output_type": "display_data"
    },
    {
     "name": "stdout",
     "output_type": "stream",
     "text": [
      "\n",
      "********************\n",
      "(20, 775, 40, 80)\n",
      "The NDCG score on validation dataset is:  0.18880474435018982\n"
     ]
    },
    {
     "data": {
      "application/vnd.jupyter.widget-view+json": {
       "model_id": "d5c4fda931ed40a6a3c39b7e74d6f271",
       "version_major": 2,
       "version_minor": 0
      },
      "text/plain": [
       "  0%|          | 0/40 [00:00<?, ?it/s]"
      ]
     },
     "metadata": {},
     "output_type": "display_data"
    },
    {
     "name": "stdout",
     "output_type": "stream",
     "text": [
      "\n",
      "********************\n",
      "(20, 775, 40, 90)\n",
      "The NDCG score on validation dataset is:  0.20316086702056751\n"
     ]
    },
    {
     "data": {
      "application/vnd.jupyter.widget-view+json": {
       "model_id": "12e556a7aa62461da6352de2d896c625",
       "version_major": 2,
       "version_minor": 0
      },
      "text/plain": [
       "  0%|          | 0/80 [00:00<?, ?it/s]"
      ]
     },
     "metadata": {},
     "output_type": "display_data"
    },
    {
     "name": "stdout",
     "output_type": "stream",
     "text": [
      "\n",
      "********************\n",
      "(20, 775, 80, 50)\n",
      "The NDCG score on validation dataset is:  0.12493312240750715\n"
     ]
    },
    {
     "data": {
      "application/vnd.jupyter.widget-view+json": {
       "model_id": "212e230caf194ed2a87afbed368ec08d",
       "version_major": 2,
       "version_minor": 0
      },
      "text/plain": [
       "  0%|          | 0/80 [00:00<?, ?it/s]"
      ]
     },
     "metadata": {},
     "output_type": "display_data"
    },
    {
     "name": "stdout",
     "output_type": "stream",
     "text": [
      "\n",
      "********************\n",
      "(20, 775, 80, 60)\n",
      "The NDCG score on validation dataset is:  0.15046682411408324\n"
     ]
    },
    {
     "data": {
      "application/vnd.jupyter.widget-view+json": {
       "model_id": "6da3f19cbc824d099872c642e955c508",
       "version_major": 2,
       "version_minor": 0
      },
      "text/plain": [
       "  0%|          | 0/80 [00:00<?, ?it/s]"
      ]
     },
     "metadata": {},
     "output_type": "display_data"
    },
    {
     "name": "stdout",
     "output_type": "stream",
     "text": [
      "\n",
      "********************\n",
      "(20, 775, 80, 70)\n",
      "The NDCG score on validation dataset is:  0.17413466004393022\n"
     ]
    },
    {
     "data": {
      "application/vnd.jupyter.widget-view+json": {
       "model_id": "06184cd2fe9545459ec596bde9344a0a",
       "version_major": 2,
       "version_minor": 0
      },
      "text/plain": [
       "  0%|          | 0/80 [00:00<?, ?it/s]"
      ]
     },
     "metadata": {},
     "output_type": "display_data"
    },
    {
     "name": "stdout",
     "output_type": "stream",
     "text": [
      "\n",
      "********************\n",
      "(20, 775, 80, 80)\n",
      "The NDCG score on validation dataset is:  0.18902589283585325\n"
     ]
    },
    {
     "data": {
      "application/vnd.jupyter.widget-view+json": {
       "model_id": "795862cc4d9845718fddc964c3720f23",
       "version_major": 2,
       "version_minor": 0
      },
      "text/plain": [
       "  0%|          | 0/80 [00:00<?, ?it/s]"
      ]
     },
     "metadata": {},
     "output_type": "display_data"
    },
    {
     "name": "stdout",
     "output_type": "stream",
     "text": [
      "\n",
      "********************\n",
      "(20, 775, 80, 90)\n",
      "The NDCG score on validation dataset is:  0.2042222270218408\n"
     ]
    },
    {
     "data": {
      "application/vnd.jupyter.widget-view+json": {
       "model_id": "55057b91f43249b1919b77969a9a8617",
       "version_major": 2,
       "version_minor": 0
      },
      "text/plain": [
       "  0%|          | 0/40 [00:00<?, ?it/s]"
      ]
     },
     "metadata": {},
     "output_type": "display_data"
    },
    {
     "name": "stdout",
     "output_type": "stream",
     "text": [
      "\n",
      "********************\n",
      "(32, 325, 40, 50)\n",
      "The NDCG score on validation dataset is:  0.2520754791694947\n"
     ]
    },
    {
     "data": {
      "application/vnd.jupyter.widget-view+json": {
       "model_id": "9a912ae21a9f49cdbde9c47be844e5e7",
       "version_major": 2,
       "version_minor": 0
      },
      "text/plain": [
       "  0%|          | 0/40 [00:00<?, ?it/s]"
      ]
     },
     "metadata": {},
     "output_type": "display_data"
    },
    {
     "name": "stdout",
     "output_type": "stream",
     "text": [
      "\n",
      "********************\n",
      "(32, 325, 40, 60)\n",
      "The NDCG score on validation dataset is:  0.2517986624621343\n"
     ]
    },
    {
     "data": {
      "application/vnd.jupyter.widget-view+json": {
       "model_id": "97b1d71b705447b78b8aad5ba3cdddeb",
       "version_major": 2,
       "version_minor": 0
      },
      "text/plain": [
       "  0%|          | 0/40 [00:00<?, ?it/s]"
      ]
     },
     "metadata": {},
     "output_type": "display_data"
    },
    {
     "name": "stdout",
     "output_type": "stream",
     "text": [
      "\n",
      "********************\n",
      "(32, 325, 40, 70)\n",
      "The NDCG score on validation dataset is:  0.2486822450212723\n"
     ]
    },
    {
     "data": {
      "application/vnd.jupyter.widget-view+json": {
       "model_id": "af61d437862a4b78b4c3fbc293985a7a",
       "version_major": 2,
       "version_minor": 0
      },
      "text/plain": [
       "  0%|          | 0/40 [00:00<?, ?it/s]"
      ]
     },
     "metadata": {},
     "output_type": "display_data"
    },
    {
     "name": "stdout",
     "output_type": "stream",
     "text": [
      "\n",
      "********************\n",
      "(32, 325, 40, 80)\n",
      "The NDCG score on validation dataset is:  0.24662057461890038\n"
     ]
    },
    {
     "data": {
      "application/vnd.jupyter.widget-view+json": {
       "model_id": "08e26d6eaa924e86b5d4b310a8aabd44",
       "version_major": 2,
       "version_minor": 0
      },
      "text/plain": [
       "  0%|          | 0/40 [00:00<?, ?it/s]"
      ]
     },
     "metadata": {},
     "output_type": "display_data"
    },
    {
     "name": "stdout",
     "output_type": "stream",
     "text": [
      "\n",
      "********************\n",
      "(32, 325, 40, 90)\n",
      "The NDCG score on validation dataset is:  0.24260040450651377\n"
     ]
    },
    {
     "data": {
      "application/vnd.jupyter.widget-view+json": {
       "model_id": "b0519132ef094b75a21fb70ebba21508",
       "version_major": 2,
       "version_minor": 0
      },
      "text/plain": [
       "  0%|          | 0/80 [00:00<?, ?it/s]"
      ]
     },
     "metadata": {},
     "output_type": "display_data"
    },
    {
     "name": "stdout",
     "output_type": "stream",
     "text": [
      "\n",
      "********************\n",
      "(32, 325, 80, 50)\n",
      "The NDCG score on validation dataset is:  0.25357321117291853\n"
     ]
    },
    {
     "data": {
      "application/vnd.jupyter.widget-view+json": {
       "model_id": "893c2b1635e8482bb59b5929bfc3db80",
       "version_major": 2,
       "version_minor": 0
      },
      "text/plain": [
       "  0%|          | 0/80 [00:00<?, ?it/s]"
      ]
     },
     "metadata": {},
     "output_type": "display_data"
    },
    {
     "name": "stdout",
     "output_type": "stream",
     "text": [
      "\n",
      "********************\n",
      "(32, 325, 80, 60)\n",
      "The NDCG score on validation dataset is:  0.25154102389627175\n"
     ]
    },
    {
     "data": {
      "application/vnd.jupyter.widget-view+json": {
       "model_id": "08413244c2c24e51a0a589ca4209fe71",
       "version_major": 2,
       "version_minor": 0
      },
      "text/plain": [
       "  0%|          | 0/80 [00:00<?, ?it/s]"
      ]
     },
     "metadata": {},
     "output_type": "display_data"
    },
    {
     "name": "stdout",
     "output_type": "stream",
     "text": [
      "\n",
      "********************\n",
      "(32, 325, 80, 70)\n",
      "The NDCG score on validation dataset is:  0.24659310295411394\n"
     ]
    },
    {
     "data": {
      "application/vnd.jupyter.widget-view+json": {
       "model_id": "09557cc520fc442893e4f53da65a292b",
       "version_major": 2,
       "version_minor": 0
      },
      "text/plain": [
       "  0%|          | 0/80 [00:00<?, ?it/s]"
      ]
     },
     "metadata": {},
     "output_type": "display_data"
    },
    {
     "name": "stdout",
     "output_type": "stream",
     "text": [
      "\n",
      "********************\n",
      "(32, 325, 80, 80)\n",
      "The NDCG score on validation dataset is:  0.24431689391298786\n"
     ]
    },
    {
     "data": {
      "application/vnd.jupyter.widget-view+json": {
       "model_id": "a011433ddd1444a1ba24262cc379cdd7",
       "version_major": 2,
       "version_minor": 0
      },
      "text/plain": [
       "  0%|          | 0/80 [00:00<?, ?it/s]"
      ]
     },
     "metadata": {},
     "output_type": "display_data"
    },
    {
     "name": "stdout",
     "output_type": "stream",
     "text": [
      "\n",
      "********************\n",
      "(32, 325, 80, 90)\n",
      "The NDCG score on validation dataset is:  0.2417762807239557\n"
     ]
    },
    {
     "data": {
      "application/vnd.jupyter.widget-view+json": {
       "model_id": "42db8ce6c84541c68280787329a8d27f",
       "version_major": 2,
       "version_minor": 0
      },
      "text/plain": [
       "  0%|          | 0/40 [00:00<?, ?it/s]"
      ]
     },
     "metadata": {},
     "output_type": "display_data"
    },
    {
     "name": "stdout",
     "output_type": "stream",
     "text": [
      "\n",
      "********************\n",
      "(32, 350, 40, 50)\n",
      "The NDCG score on validation dataset is:  0.24870414752237094\n"
     ]
    },
    {
     "data": {
      "application/vnd.jupyter.widget-view+json": {
       "model_id": "ac0431e26b2b42a7885a2cb98617781d",
       "version_major": 2,
       "version_minor": 0
      },
      "text/plain": [
       "  0%|          | 0/40 [00:00<?, ?it/s]"
      ]
     },
     "metadata": {},
     "output_type": "display_data"
    },
    {
     "name": "stdout",
     "output_type": "stream",
     "text": [
      "\n",
      "********************\n",
      "(32, 350, 40, 60)\n",
      "The NDCG score on validation dataset is:  0.2519923205854955\n"
     ]
    },
    {
     "data": {
      "application/vnd.jupyter.widget-view+json": {
       "model_id": "000dce8658504162a40c11d3f968baac",
       "version_major": 2,
       "version_minor": 0
      },
      "text/plain": [
       "  0%|          | 0/40 [00:00<?, ?it/s]"
      ]
     },
     "metadata": {},
     "output_type": "display_data"
    },
    {
     "name": "stdout",
     "output_type": "stream",
     "text": [
      "\n",
      "********************\n",
      "(32, 350, 40, 70)\n",
      "The NDCG score on validation dataset is:  0.2509469964491664\n"
     ]
    },
    {
     "data": {
      "application/vnd.jupyter.widget-view+json": {
       "model_id": "666728a72e6e4e24b9b695650d50c644",
       "version_major": 2,
       "version_minor": 0
      },
      "text/plain": [
       "  0%|          | 0/40 [00:00<?, ?it/s]"
      ]
     },
     "metadata": {},
     "output_type": "display_data"
    },
    {
     "name": "stdout",
     "output_type": "stream",
     "text": [
      "\n",
      "********************\n",
      "(32, 350, 40, 80)\n",
      "The NDCG score on validation dataset is:  0.2482245884528409\n"
     ]
    },
    {
     "data": {
      "application/vnd.jupyter.widget-view+json": {
       "model_id": "3a378a0ac607434dab23e068afae2d55",
       "version_major": 2,
       "version_minor": 0
      },
      "text/plain": [
       "  0%|          | 0/40 [00:00<?, ?it/s]"
      ]
     },
     "metadata": {},
     "output_type": "display_data"
    },
    {
     "name": "stdout",
     "output_type": "stream",
     "text": [
      "\n",
      "********************\n",
      "(32, 350, 40, 90)\n",
      "The NDCG score on validation dataset is:  0.2462239668227821\n"
     ]
    },
    {
     "data": {
      "application/vnd.jupyter.widget-view+json": {
       "model_id": "825e3fe6f3d14db3b7326921f60726fc",
       "version_major": 2,
       "version_minor": 0
      },
      "text/plain": [
       "  0%|          | 0/80 [00:00<?, ?it/s]"
      ]
     },
     "metadata": {},
     "output_type": "display_data"
    },
    {
     "name": "stdout",
     "output_type": "stream",
     "text": [
      "\n",
      "********************\n",
      "(32, 350, 80, 50)\n",
      "The NDCG score on validation dataset is:  0.2494170463413018\n"
     ]
    },
    {
     "data": {
      "application/vnd.jupyter.widget-view+json": {
       "model_id": "decd315584ab442b8350b4523c0082b0",
       "version_major": 2,
       "version_minor": 0
      },
      "text/plain": [
       "  0%|          | 0/80 [00:00<?, ?it/s]"
      ]
     },
     "metadata": {},
     "output_type": "display_data"
    },
    {
     "name": "stdout",
     "output_type": "stream",
     "text": [
      "\n",
      "********************\n",
      "(32, 350, 80, 60)\n",
      "The NDCG score on validation dataset is:  0.254236541812743\n"
     ]
    },
    {
     "data": {
      "application/vnd.jupyter.widget-view+json": {
       "model_id": "50108994c12644f2a1f73799a5eb2090",
       "version_major": 2,
       "version_minor": 0
      },
      "text/plain": [
       "  0%|          | 0/80 [00:00<?, ?it/s]"
      ]
     },
     "metadata": {},
     "output_type": "display_data"
    },
    {
     "name": "stdout",
     "output_type": "stream",
     "text": [
      "\n",
      "********************\n",
      "(32, 350, 80, 70)\n",
      "The NDCG score on validation dataset is:  0.25075136306344753\n"
     ]
    },
    {
     "data": {
      "application/vnd.jupyter.widget-view+json": {
       "model_id": "212a40557a0e43bcbd1ed01e368be605",
       "version_major": 2,
       "version_minor": 0
      },
      "text/plain": [
       "  0%|          | 0/80 [00:00<?, ?it/s]"
      ]
     },
     "metadata": {},
     "output_type": "display_data"
    },
    {
     "name": "stdout",
     "output_type": "stream",
     "text": [
      "\n",
      "********************\n",
      "(32, 350, 80, 80)\n",
      "The NDCG score on validation dataset is:  0.24752990784359716\n"
     ]
    },
    {
     "data": {
      "application/vnd.jupyter.widget-view+json": {
       "model_id": "13c46ffe7f174d52b357ac33b4a054ea",
       "version_major": 2,
       "version_minor": 0
      },
      "text/plain": [
       "  0%|          | 0/80 [00:00<?, ?it/s]"
      ]
     },
     "metadata": {},
     "output_type": "display_data"
    },
    {
     "name": "stdout",
     "output_type": "stream",
     "text": [
      "\n",
      "********************\n",
      "(32, 350, 80, 90)\n",
      "The NDCG score on validation dataset is:  0.243845668718727\n"
     ]
    },
    {
     "data": {
      "application/vnd.jupyter.widget-view+json": {
       "model_id": "41b9c9d583d644a19f118abba9f28267",
       "version_major": 2,
       "version_minor": 0
      },
      "text/plain": [
       "  0%|          | 0/40 [00:00<?, ?it/s]"
      ]
     },
     "metadata": {},
     "output_type": "display_data"
    },
    {
     "name": "stdout",
     "output_type": "stream",
     "text": [
      "\n",
      "********************\n",
      "(32, 425, 40, 50)\n",
      "The NDCG score on validation dataset is:  0.22657252479180318\n"
     ]
    },
    {
     "data": {
      "application/vnd.jupyter.widget-view+json": {
       "model_id": "533b666822c54cdab4ec0cc580d13e1b",
       "version_major": 2,
       "version_minor": 0
      },
      "text/plain": [
       "  0%|          | 0/40 [00:00<?, ?it/s]"
      ]
     },
     "metadata": {},
     "output_type": "display_data"
    },
    {
     "name": "stdout",
     "output_type": "stream",
     "text": [
      "\n",
      "********************\n",
      "(32, 425, 40, 60)\n",
      "The NDCG score on validation dataset is:  0.24545427149598928\n"
     ]
    },
    {
     "data": {
      "application/vnd.jupyter.widget-view+json": {
       "model_id": "b1c9640bfe074e829008e1708a6c0cb9",
       "version_major": 2,
       "version_minor": 0
      },
      "text/plain": [
       "  0%|          | 0/40 [00:00<?, ?it/s]"
      ]
     },
     "metadata": {},
     "output_type": "display_data"
    },
    {
     "name": "stdout",
     "output_type": "stream",
     "text": [
      "\n",
      "********************\n",
      "(32, 425, 40, 70)\n",
      "The NDCG score on validation dataset is:  0.2531092905449349\n"
     ]
    },
    {
     "data": {
      "application/vnd.jupyter.widget-view+json": {
       "model_id": "d0369fff82d5402a859ce26f2f4e8333",
       "version_major": 2,
       "version_minor": 0
      },
      "text/plain": [
       "  0%|          | 0/40 [00:00<?, ?it/s]"
      ]
     },
     "metadata": {},
     "output_type": "display_data"
    },
    {
     "name": "stdout",
     "output_type": "stream",
     "text": [
      "\n",
      "********************\n",
      "(32, 425, 40, 80)\n",
      "The NDCG score on validation dataset is:  0.25469059560090457\n"
     ]
    },
    {
     "data": {
      "application/vnd.jupyter.widget-view+json": {
       "model_id": "30889687b3ca4e1da007266ab1f86023",
       "version_major": 2,
       "version_minor": 0
      },
      "text/plain": [
       "  0%|          | 0/40 [00:00<?, ?it/s]"
      ]
     },
     "metadata": {},
     "output_type": "display_data"
    },
    {
     "name": "stdout",
     "output_type": "stream",
     "text": [
      "\n",
      "********************\n",
      "(32, 425, 40, 90)\n",
      "The NDCG score on validation dataset is:  0.2523012624529632\n"
     ]
    },
    {
     "data": {
      "application/vnd.jupyter.widget-view+json": {
       "model_id": "f5495979d6fb4daa9bb5f402e9759f25",
       "version_major": 2,
       "version_minor": 0
      },
      "text/plain": [
       "  0%|          | 0/80 [00:00<?, ?it/s]"
      ]
     },
     "metadata": {},
     "output_type": "display_data"
    },
    {
     "name": "stdout",
     "output_type": "stream",
     "text": [
      "\n",
      "********************\n",
      "(32, 425, 80, 50)\n",
      "The NDCG score on validation dataset is:  0.22797069206637227\n"
     ]
    },
    {
     "data": {
      "application/vnd.jupyter.widget-view+json": {
       "model_id": "28f6d06b2a1f432bb685b417a8335987",
       "version_major": 2,
       "version_minor": 0
      },
      "text/plain": [
       "  0%|          | 0/80 [00:00<?, ?it/s]"
      ]
     },
     "metadata": {},
     "output_type": "display_data"
    },
    {
     "name": "stdout",
     "output_type": "stream",
     "text": [
      "\n",
      "********************\n",
      "(32, 425, 80, 60)\n",
      "The NDCG score on validation dataset is:  0.24640483942714653\n"
     ]
    },
    {
     "data": {
      "application/vnd.jupyter.widget-view+json": {
       "model_id": "763361657e444d198bf970a4f3e13a1c",
       "version_major": 2,
       "version_minor": 0
      },
      "text/plain": [
       "  0%|          | 0/80 [00:00<?, ?it/s]"
      ]
     },
     "metadata": {},
     "output_type": "display_data"
    },
    {
     "name": "stdout",
     "output_type": "stream",
     "text": [
      "\n",
      "********************\n",
      "(32, 425, 80, 70)\n",
      "The NDCG score on validation dataset is:  0.2544185381815125\n"
     ]
    },
    {
     "data": {
      "application/vnd.jupyter.widget-view+json": {
       "model_id": "ac44dfba66cb4d9395ea82e342e72f32",
       "version_major": 2,
       "version_minor": 0
      },
      "text/plain": [
       "  0%|          | 0/80 [00:00<?, ?it/s]"
      ]
     },
     "metadata": {},
     "output_type": "display_data"
    },
    {
     "name": "stdout",
     "output_type": "stream",
     "text": [
      "\n",
      "********************\n",
      "(32, 425, 80, 80)\n",
      "The NDCG score on validation dataset is:  0.2567067788118379\n"
     ]
    },
    {
     "data": {
      "application/vnd.jupyter.widget-view+json": {
       "model_id": "ba343e9f80fb4809ad52c529c1846ec9",
       "version_major": 2,
       "version_minor": 0
      },
      "text/plain": [
       "  0%|          | 0/80 [00:00<?, ?it/s]"
      ]
     },
     "metadata": {},
     "output_type": "display_data"
    },
    {
     "name": "stdout",
     "output_type": "stream",
     "text": [
      "\n",
      "********************\n",
      "(32, 425, 80, 90)\n",
      "The NDCG score on validation dataset is:  0.2542544280911753\n"
     ]
    },
    {
     "data": {
      "application/vnd.jupyter.widget-view+json": {
       "model_id": "a28ef4627d7846878c7d740872d874d3",
       "version_major": 2,
       "version_minor": 0
      },
      "text/plain": [
       "  0%|          | 0/40 [00:00<?, ?it/s]"
      ]
     },
     "metadata": {},
     "output_type": "display_data"
    },
    {
     "name": "stdout",
     "output_type": "stream",
     "text": [
      "\n",
      "********************\n",
      "(32, 475, 40, 50)\n",
      "The NDCG score on validation dataset is:  0.20850410971919173\n"
     ]
    },
    {
     "data": {
      "application/vnd.jupyter.widget-view+json": {
       "model_id": "c6831406ef15463d82efd74667fc641d",
       "version_major": 2,
       "version_minor": 0
      },
      "text/plain": [
       "  0%|          | 0/40 [00:00<?, ?it/s]"
      ]
     },
     "metadata": {},
     "output_type": "display_data"
    },
    {
     "name": "stdout",
     "output_type": "stream",
     "text": [
      "\n",
      "********************\n",
      "(32, 475, 40, 60)\n",
      "The NDCG score on validation dataset is:  0.23276690704954736\n"
     ]
    },
    {
     "data": {
      "application/vnd.jupyter.widget-view+json": {
       "model_id": "2474bdb473474f988d7bc9664141c3d9",
       "version_major": 2,
       "version_minor": 0
      },
      "text/plain": [
       "  0%|          | 0/40 [00:00<?, ?it/s]"
      ]
     },
     "metadata": {},
     "output_type": "display_data"
    },
    {
     "name": "stdout",
     "output_type": "stream",
     "text": [
      "\n",
      "********************\n",
      "(32, 475, 40, 70)\n",
      "The NDCG score on validation dataset is:  0.2481967039169005\n"
     ]
    },
    {
     "data": {
      "application/vnd.jupyter.widget-view+json": {
       "model_id": "e65a8c2d1d754ab8a48c7719ed4d321f",
       "version_major": 2,
       "version_minor": 0
      },
      "text/plain": [
       "  0%|          | 0/40 [00:00<?, ?it/s]"
      ]
     },
     "metadata": {},
     "output_type": "display_data"
    },
    {
     "name": "stdout",
     "output_type": "stream",
     "text": [
      "\n",
      "********************\n",
      "(32, 475, 40, 80)\n",
      "The NDCG score on validation dataset is:  0.25468393081430196\n"
     ]
    },
    {
     "data": {
      "application/vnd.jupyter.widget-view+json": {
       "model_id": "1903713e1c2f409cbfc59ac85a346283",
       "version_major": 2,
       "version_minor": 0
      },
      "text/plain": [
       "  0%|          | 0/40 [00:00<?, ?it/s]"
      ]
     },
     "metadata": {},
     "output_type": "display_data"
    },
    {
     "name": "stdout",
     "output_type": "stream",
     "text": [
      "\n",
      "********************\n",
      "(32, 475, 40, 90)\n",
      "The NDCG score on validation dataset is:  0.2565475472269671\n"
     ]
    },
    {
     "data": {
      "application/vnd.jupyter.widget-view+json": {
       "model_id": "0b5d061088304aa1a94aba6dd1cec002",
       "version_major": 2,
       "version_minor": 0
      },
      "text/plain": [
       "  0%|          | 0/80 [00:00<?, ?it/s]"
      ]
     },
     "metadata": {},
     "output_type": "display_data"
    },
    {
     "name": "stdout",
     "output_type": "stream",
     "text": [
      "\n",
      "********************\n",
      "(32, 475, 80, 50)\n",
      "The NDCG score on validation dataset is:  0.2089035378553227\n"
     ]
    },
    {
     "data": {
      "application/vnd.jupyter.widget-view+json": {
       "model_id": "2a837259f6054874989491bc6ffa5692",
       "version_major": 2,
       "version_minor": 0
      },
      "text/plain": [
       "  0%|          | 0/80 [00:00<?, ?it/s]"
      ]
     },
     "metadata": {},
     "output_type": "display_data"
    },
    {
     "name": "stdout",
     "output_type": "stream",
     "text": [
      "\n",
      "********************\n",
      "(32, 475, 80, 60)\n",
      "The NDCG score on validation dataset is:  0.23334232112905323\n"
     ]
    },
    {
     "data": {
      "application/vnd.jupyter.widget-view+json": {
       "model_id": "81836bd9c0854b83934bd76e7624fb6c",
       "version_major": 2,
       "version_minor": 0
      },
      "text/plain": [
       "  0%|          | 0/80 [00:00<?, ?it/s]"
      ]
     },
     "metadata": {},
     "output_type": "display_data"
    },
    {
     "name": "stdout",
     "output_type": "stream",
     "text": [
      "\n",
      "********************\n",
      "(32, 475, 80, 70)\n",
      "The NDCG score on validation dataset is:  0.24867190376032428\n"
     ]
    },
    {
     "data": {
      "application/vnd.jupyter.widget-view+json": {
       "model_id": "42b2cb8792954731acfd14d4d1a19797",
       "version_major": 2,
       "version_minor": 0
      },
      "text/plain": [
       "  0%|          | 0/80 [00:00<?, ?it/s]"
      ]
     },
     "metadata": {},
     "output_type": "display_data"
    },
    {
     "name": "stdout",
     "output_type": "stream",
     "text": [
      "\n",
      "********************\n",
      "(32, 475, 80, 80)\n",
      "The NDCG score on validation dataset is:  0.25428763512672814\n"
     ]
    },
    {
     "data": {
      "application/vnd.jupyter.widget-view+json": {
       "model_id": "5f91f7c37ddc478db236b04417eeabe0",
       "version_major": 2,
       "version_minor": 0
      },
      "text/plain": [
       "  0%|          | 0/80 [00:00<?, ?it/s]"
      ]
     },
     "metadata": {},
     "output_type": "display_data"
    },
    {
     "name": "stdout",
     "output_type": "stream",
     "text": [
      "\n",
      "********************\n",
      "(32, 475, 80, 90)\n",
      "The NDCG score on validation dataset is:  0.2578550364311267\n"
     ]
    },
    {
     "data": {
      "application/vnd.jupyter.widget-view+json": {
       "model_id": "7b492a4006ef43b9bffc6d01ffaf87b3",
       "version_major": 2,
       "version_minor": 0
      },
      "text/plain": [
       "  0%|          | 0/40 [00:00<?, ?it/s]"
      ]
     },
     "metadata": {},
     "output_type": "display_data"
    },
    {
     "name": "stdout",
     "output_type": "stream",
     "text": [
      "\n",
      "********************\n",
      "(32, 500, 40, 50)\n",
      "The NDCG score on validation dataset is:  0.19891628312358056\n"
     ]
    },
    {
     "data": {
      "application/vnd.jupyter.widget-view+json": {
       "model_id": "cf22a15624f54778813ac6ab0efd6d60",
       "version_major": 2,
       "version_minor": 0
      },
      "text/plain": [
       "  0%|          | 0/40 [00:00<?, ?it/s]"
      ]
     },
     "metadata": {},
     "output_type": "display_data"
    },
    {
     "name": "stdout",
     "output_type": "stream",
     "text": [
      "\n",
      "********************\n",
      "(32, 500, 40, 60)\n",
      "The NDCG score on validation dataset is:  0.2233507137902017\n"
     ]
    },
    {
     "data": {
      "application/vnd.jupyter.widget-view+json": {
       "model_id": "efe9b33ab4854473b109fa61336caae7",
       "version_major": 2,
       "version_minor": 0
      },
      "text/plain": [
       "  0%|          | 0/40 [00:00<?, ?it/s]"
      ]
     },
     "metadata": {},
     "output_type": "display_data"
    },
    {
     "name": "stdout",
     "output_type": "stream",
     "text": [
      "\n",
      "********************\n",
      "(32, 500, 40, 70)\n",
      "The NDCG score on validation dataset is:  0.24326294752489694\n"
     ]
    },
    {
     "data": {
      "application/vnd.jupyter.widget-view+json": {
       "model_id": "15784a0272d44c60b097e1e68a9211bc",
       "version_major": 2,
       "version_minor": 0
      },
      "text/plain": [
       "  0%|          | 0/40 [00:00<?, ?it/s]"
      ]
     },
     "metadata": {},
     "output_type": "display_data"
    },
    {
     "name": "stdout",
     "output_type": "stream",
     "text": [
      "\n",
      "********************\n",
      "(32, 500, 40, 80)\n",
      "The NDCG score on validation dataset is:  0.2528507886087344\n"
     ]
    },
    {
     "data": {
      "application/vnd.jupyter.widget-view+json": {
       "model_id": "dc9b3e4d8ff043b0b2bed51750c9bb69",
       "version_major": 2,
       "version_minor": 0
      },
      "text/plain": [
       "  0%|          | 0/40 [00:00<?, ?it/s]"
      ]
     },
     "metadata": {},
     "output_type": "display_data"
    },
    {
     "name": "stdout",
     "output_type": "stream",
     "text": [
      "\n",
      "********************\n",
      "(32, 500, 40, 90)\n",
      "The NDCG score on validation dataset is:  0.2563884009581962\n"
     ]
    },
    {
     "data": {
      "application/vnd.jupyter.widget-view+json": {
       "model_id": "92a72c5ae2ca4ba09b84b81891e79635",
       "version_major": 2,
       "version_minor": 0
      },
      "text/plain": [
       "  0%|          | 0/80 [00:00<?, ?it/s]"
      ]
     },
     "metadata": {},
     "output_type": "display_data"
    },
    {
     "name": "stdout",
     "output_type": "stream",
     "text": [
      "\n",
      "********************\n",
      "(32, 500, 80, 50)\n",
      "The NDCG score on validation dataset is:  0.199478310175718\n"
     ]
    },
    {
     "data": {
      "application/vnd.jupyter.widget-view+json": {
       "model_id": "ee8677f267b44e8bbdf008fe3413774f",
       "version_major": 2,
       "version_minor": 0
      },
      "text/plain": [
       "  0%|          | 0/80 [00:00<?, ?it/s]"
      ]
     },
     "metadata": {},
     "output_type": "display_data"
    },
    {
     "name": "stdout",
     "output_type": "stream",
     "text": [
      "\n",
      "********************\n",
      "(32, 500, 80, 60)\n",
      "The NDCG score on validation dataset is:  0.22422671288554039\n"
     ]
    },
    {
     "data": {
      "application/vnd.jupyter.widget-view+json": {
       "model_id": "e210e24b2d7f4a74bcd0c3e2e85f233a",
       "version_major": 2,
       "version_minor": 0
      },
      "text/plain": [
       "  0%|          | 0/80 [00:00<?, ?it/s]"
      ]
     },
     "metadata": {},
     "output_type": "display_data"
    },
    {
     "name": "stdout",
     "output_type": "stream",
     "text": [
      "\n",
      "********************\n",
      "(32, 500, 80, 70)\n",
      "The NDCG score on validation dataset is:  0.24375615683721297\n"
     ]
    },
    {
     "data": {
      "application/vnd.jupyter.widget-view+json": {
       "model_id": "471bc2ea083a43cdb3419d96a011355a",
       "version_major": 2,
       "version_minor": 0
      },
      "text/plain": [
       "  0%|          | 0/80 [00:00<?, ?it/s]"
      ]
     },
     "metadata": {},
     "output_type": "display_data"
    },
    {
     "name": "stdout",
     "output_type": "stream",
     "text": [
      "\n",
      "********************\n",
      "(32, 500, 80, 80)\n",
      "The NDCG score on validation dataset is:  0.2527703282823038\n"
     ]
    },
    {
     "data": {
      "application/vnd.jupyter.widget-view+json": {
       "model_id": "54e3d4be21394556980b26c60d438dd9",
       "version_major": 2,
       "version_minor": 0
      },
      "text/plain": [
       "  0%|          | 0/80 [00:00<?, ?it/s]"
      ]
     },
     "metadata": {},
     "output_type": "display_data"
    },
    {
     "name": "stdout",
     "output_type": "stream",
     "text": [
      "\n",
      "********************\n",
      "(32, 500, 80, 90)\n",
      "The NDCG score on validation dataset is:  0.2561831637688359\n"
     ]
    },
    {
     "data": {
      "application/vnd.jupyter.widget-view+json": {
       "model_id": "13bffee833854c06af0486d5bf4ce79b",
       "version_major": 2,
       "version_minor": 0
      },
      "text/plain": [
       "  0%|          | 0/40 [00:00<?, ?it/s]"
      ]
     },
     "metadata": {},
     "output_type": "display_data"
    },
    {
     "name": "stdout",
     "output_type": "stream",
     "text": [
      "\n",
      "********************\n",
      "(32, 775, 40, 50)\n",
      "The NDCG score on validation dataset is:  0.12487876532339688\n"
     ]
    },
    {
     "data": {
      "application/vnd.jupyter.widget-view+json": {
       "model_id": "f287ff1744e147d6b8f7d1a2de7bb722",
       "version_major": 2,
       "version_minor": 0
      },
      "text/plain": [
       "  0%|          | 0/40 [00:00<?, ?it/s]"
      ]
     },
     "metadata": {},
     "output_type": "display_data"
    },
    {
     "name": "stdout",
     "output_type": "stream",
     "text": [
      "\n",
      "********************\n",
      "(32, 775, 40, 60)\n",
      "The NDCG score on validation dataset is:  0.1501770329913349\n"
     ]
    },
    {
     "data": {
      "application/vnd.jupyter.widget-view+json": {
       "model_id": "6d32d2e687d14efeba827de19ce1050a",
       "version_major": 2,
       "version_minor": 0
      },
      "text/plain": [
       "  0%|          | 0/40 [00:00<?, ?it/s]"
      ]
     },
     "metadata": {},
     "output_type": "display_data"
    },
    {
     "name": "stdout",
     "output_type": "stream",
     "text": [
      "\n",
      "********************\n",
      "(32, 775, 40, 70)\n",
      "The NDCG score on validation dataset is:  0.17410528015991067\n"
     ]
    },
    {
     "data": {
      "application/vnd.jupyter.widget-view+json": {
       "model_id": "af919d9f445845a092b57b46a25b8d51",
       "version_major": 2,
       "version_minor": 0
      },
      "text/plain": [
       "  0%|          | 0/40 [00:00<?, ?it/s]"
      ]
     },
     "metadata": {},
     "output_type": "display_data"
    },
    {
     "name": "stdout",
     "output_type": "stream",
     "text": [
      "\n",
      "********************\n",
      "(32, 775, 40, 80)\n",
      "The NDCG score on validation dataset is:  0.18883623084691178\n"
     ]
    },
    {
     "data": {
      "application/vnd.jupyter.widget-view+json": {
       "model_id": "9ac972bb37c649c2b1bf25f5ea8492e5",
       "version_major": 2,
       "version_minor": 0
      },
      "text/plain": [
       "  0%|          | 0/40 [00:00<?, ?it/s]"
      ]
     },
     "metadata": {},
     "output_type": "display_data"
    },
    {
     "name": "stdout",
     "output_type": "stream",
     "text": [
      "\n",
      "********************\n",
      "(32, 775, 40, 90)\n",
      "The NDCG score on validation dataset is:  0.2033385581989485\n"
     ]
    },
    {
     "data": {
      "application/vnd.jupyter.widget-view+json": {
       "model_id": "9c9590efde9b4825b94614c74099af58",
       "version_major": 2,
       "version_minor": 0
      },
      "text/plain": [
       "  0%|          | 0/80 [00:00<?, ?it/s]"
      ]
     },
     "metadata": {},
     "output_type": "display_data"
    },
    {
     "name": "stdout",
     "output_type": "stream",
     "text": [
      "\n",
      "********************\n",
      "(32, 775, 80, 50)\n",
      "The NDCG score on validation dataset is:  0.12495847280797583\n"
     ]
    },
    {
     "data": {
      "application/vnd.jupyter.widget-view+json": {
       "model_id": "b0d6459d81b24be9a4e53072d6942fb1",
       "version_major": 2,
       "version_minor": 0
      },
      "text/plain": [
       "  0%|          | 0/80 [00:00<?, ?it/s]"
      ]
     },
     "metadata": {},
     "output_type": "display_data"
    },
    {
     "name": "stdout",
     "output_type": "stream",
     "text": [
      "\n",
      "********************\n",
      "(32, 775, 80, 60)\n",
      "The NDCG score on validation dataset is:  0.15060339030921083\n"
     ]
    },
    {
     "data": {
      "application/vnd.jupyter.widget-view+json": {
       "model_id": "228380f60bd94c1db0e171ce7d8e85c1",
       "version_major": 2,
       "version_minor": 0
      },
      "text/plain": [
       "  0%|          | 0/80 [00:00<?, ?it/s]"
      ]
     },
     "metadata": {},
     "output_type": "display_data"
    },
    {
     "name": "stdout",
     "output_type": "stream",
     "text": [
      "\n",
      "********************\n",
      "(32, 775, 80, 70)\n",
      "The NDCG score on validation dataset is:  0.17424532671627052\n"
     ]
    },
    {
     "data": {
      "application/vnd.jupyter.widget-view+json": {
       "model_id": "e4b5e2a3cc0640779f9f95f4d75f3356",
       "version_major": 2,
       "version_minor": 0
      },
      "text/plain": [
       "  0%|          | 0/80 [00:00<?, ?it/s]"
      ]
     },
     "metadata": {},
     "output_type": "display_data"
    },
    {
     "name": "stdout",
     "output_type": "stream",
     "text": [
      "\n",
      "********************\n",
      "(32, 775, 80, 80)\n",
      "The NDCG score on validation dataset is:  0.18901942605663072\n"
     ]
    },
    {
     "data": {
      "application/vnd.jupyter.widget-view+json": {
       "model_id": "804d8ee8defb4c839531c9ff144fbe3a",
       "version_major": 2,
       "version_minor": 0
      },
      "text/plain": [
       "  0%|          | 0/80 [00:00<?, ?it/s]"
      ]
     },
     "metadata": {},
     "output_type": "display_data"
    },
    {
     "name": "stdout",
     "output_type": "stream",
     "text": [
      "\n",
      "********************\n",
      "(32, 775, 80, 90)\n",
      "The NDCG score on validation dataset is:  0.20410914447706202\n"
     ]
    },
    {
     "data": {
      "application/vnd.jupyter.widget-view+json": {
       "model_id": "e90e9d9d78e540dc8ecfedf5fd78dbc9",
       "version_major": 2,
       "version_minor": 0
      },
      "text/plain": [
       "  0%|          | 0/40 [00:00<?, ?it/s]"
      ]
     },
     "metadata": {},
     "output_type": "display_data"
    },
    {
     "name": "stdout",
     "output_type": "stream",
     "text": [
      "\n",
      "********************\n",
      "(64, 325, 40, 50)\n",
      "The NDCG score on validation dataset is:  0.250391731873369\n"
     ]
    },
    {
     "data": {
      "application/vnd.jupyter.widget-view+json": {
       "model_id": "4d1d6fb8319b4484b727a6e9091dd821",
       "version_major": 2,
       "version_minor": 0
      },
      "text/plain": [
       "  0%|          | 0/40 [00:00<?, ?it/s]"
      ]
     },
     "metadata": {},
     "output_type": "display_data"
    },
    {
     "name": "stdout",
     "output_type": "stream",
     "text": [
      "\n",
      "********************\n",
      "(64, 325, 40, 60)\n",
      "The NDCG score on validation dataset is:  0.25156483816794634\n"
     ]
    },
    {
     "data": {
      "application/vnd.jupyter.widget-view+json": {
       "model_id": "070914ccec884e408fa641689d1564a5",
       "version_major": 2,
       "version_minor": 0
      },
      "text/plain": [
       "  0%|          | 0/40 [00:00<?, ?it/s]"
      ]
     },
     "metadata": {},
     "output_type": "display_data"
    },
    {
     "name": "stdout",
     "output_type": "stream",
     "text": [
      "\n",
      "********************\n",
      "(64, 325, 40, 70)\n",
      "The NDCG score on validation dataset is:  0.24527393917545937\n"
     ]
    },
    {
     "data": {
      "application/vnd.jupyter.widget-view+json": {
       "model_id": "a1d7622f1bb84fe19c26c23ed49871cd",
       "version_major": 2,
       "version_minor": 0
      },
      "text/plain": [
       "  0%|          | 0/40 [00:00<?, ?it/s]"
      ]
     },
     "metadata": {},
     "output_type": "display_data"
    },
    {
     "name": "stdout",
     "output_type": "stream",
     "text": [
      "\n",
      "********************\n",
      "(64, 325, 40, 80)\n",
      "The NDCG score on validation dataset is:  0.2396382225092255\n"
     ]
    },
    {
     "data": {
      "application/vnd.jupyter.widget-view+json": {
       "model_id": "8266687b7ea84b648f0a2ff15e173e9d",
       "version_major": 2,
       "version_minor": 0
      },
      "text/plain": [
       "  0%|          | 0/40 [00:00<?, ?it/s]"
      ]
     },
     "metadata": {},
     "output_type": "display_data"
    },
    {
     "name": "stdout",
     "output_type": "stream",
     "text": [
      "\n",
      "********************\n",
      "(64, 325, 40, 90)\n",
      "The NDCG score on validation dataset is:  0.23459849358537396\n"
     ]
    },
    {
     "data": {
      "application/vnd.jupyter.widget-view+json": {
       "model_id": "d7d4526c6fc74a47a0f17718a2141b36",
       "version_major": 2,
       "version_minor": 0
      },
      "text/plain": [
       "  0%|          | 0/80 [00:00<?, ?it/s]"
      ]
     },
     "metadata": {},
     "output_type": "display_data"
    },
    {
     "name": "stdout",
     "output_type": "stream",
     "text": [
      "\n",
      "********************\n",
      "(64, 325, 80, 50)\n",
      "The NDCG score on validation dataset is:  0.25148585363493137\n"
     ]
    },
    {
     "data": {
      "application/vnd.jupyter.widget-view+json": {
       "model_id": "a05a86d0feb44788a4be361e3007691f",
       "version_major": 2,
       "version_minor": 0
      },
      "text/plain": [
       "  0%|          | 0/80 [00:00<?, ?it/s]"
      ]
     },
     "metadata": {},
     "output_type": "display_data"
    },
    {
     "name": "stdout",
     "output_type": "stream",
     "text": [
      "\n",
      "********************\n",
      "(64, 325, 80, 60)\n",
      "The NDCG score on validation dataset is:  0.2515869052330721\n"
     ]
    },
    {
     "data": {
      "application/vnd.jupyter.widget-view+json": {
       "model_id": "7126a1189c5643cb8077dc7c63028ac8",
       "version_major": 2,
       "version_minor": 0
      },
      "text/plain": [
       "  0%|          | 0/80 [00:00<?, ?it/s]"
      ]
     },
     "metadata": {},
     "output_type": "display_data"
    },
    {
     "name": "stdout",
     "output_type": "stream",
     "text": [
      "\n",
      "********************\n",
      "(64, 325, 80, 70)\n",
      "The NDCG score on validation dataset is:  0.24585635869133377\n"
     ]
    },
    {
     "data": {
      "application/vnd.jupyter.widget-view+json": {
       "model_id": "5d728ac3235c45959d65af25b28511cb",
       "version_major": 2,
       "version_minor": 0
      },
      "text/plain": [
       "  0%|          | 0/80 [00:00<?, ?it/s]"
      ]
     },
     "metadata": {},
     "output_type": "display_data"
    },
    {
     "name": "stdout",
     "output_type": "stream",
     "text": [
      "\n",
      "********************\n",
      "(64, 325, 80, 80)\n",
      "The NDCG score on validation dataset is:  0.24002587940721262\n"
     ]
    },
    {
     "data": {
      "application/vnd.jupyter.widget-view+json": {
       "model_id": "8c0f3e9c34074031aeb8f5ada25ce020",
       "version_major": 2,
       "version_minor": 0
      },
      "text/plain": [
       "  0%|          | 0/80 [00:00<?, ?it/s]"
      ]
     },
     "metadata": {},
     "output_type": "display_data"
    },
    {
     "name": "stdout",
     "output_type": "stream",
     "text": [
      "\n",
      "********************\n",
      "(64, 325, 80, 90)\n",
      "The NDCG score on validation dataset is:  0.23736146685506873\n"
     ]
    },
    {
     "data": {
      "application/vnd.jupyter.widget-view+json": {
       "model_id": "f71fba9956bf4b6ca756e3ebb14bea4e",
       "version_major": 2,
       "version_minor": 0
      },
      "text/plain": [
       "  0%|          | 0/40 [00:00<?, ?it/s]"
      ]
     },
     "metadata": {},
     "output_type": "display_data"
    },
    {
     "name": "stdout",
     "output_type": "stream",
     "text": [
      "\n",
      "********************\n",
      "(64, 350, 40, 50)\n",
      "The NDCG score on validation dataset is:  0.24873731874896715\n"
     ]
    },
    {
     "data": {
      "application/vnd.jupyter.widget-view+json": {
       "model_id": "f6950b3dbfcd4447b0e9f5a0f123669b",
       "version_major": 2,
       "version_minor": 0
      },
      "text/plain": [
       "  0%|          | 0/40 [00:00<?, ?it/s]"
      ]
     },
     "metadata": {},
     "output_type": "display_data"
    },
    {
     "name": "stdout",
     "output_type": "stream",
     "text": [
      "\n",
      "********************\n",
      "(64, 350, 40, 60)\n",
      "The NDCG score on validation dataset is:  0.25206450669168207\n"
     ]
    },
    {
     "data": {
      "application/vnd.jupyter.widget-view+json": {
       "model_id": "c0b481791d10486f8b290190e6738dd1",
       "version_major": 2,
       "version_minor": 0
      },
      "text/plain": [
       "  0%|          | 0/40 [00:00<?, ?it/s]"
      ]
     },
     "metadata": {},
     "output_type": "display_data"
    },
    {
     "name": "stdout",
     "output_type": "stream",
     "text": [
      "\n",
      "********************\n",
      "(64, 350, 40, 70)\n",
      "The NDCG score on validation dataset is:  0.2519786228657947\n"
     ]
    },
    {
     "data": {
      "application/vnd.jupyter.widget-view+json": {
       "model_id": "e3f2cf5b902c467daea4fb297ae743be",
       "version_major": 2,
       "version_minor": 0
      },
      "text/plain": [
       "  0%|          | 0/40 [00:00<?, ?it/s]"
      ]
     },
     "metadata": {},
     "output_type": "display_data"
    },
    {
     "name": "stdout",
     "output_type": "stream",
     "text": [
      "\n",
      "********************\n",
      "(64, 350, 40, 80)\n",
      "The NDCG score on validation dataset is:  0.24631771710477843\n"
     ]
    },
    {
     "data": {
      "application/vnd.jupyter.widget-view+json": {
       "model_id": "9102da3fc8f148ce91aa64661aa3173c",
       "version_major": 2,
       "version_minor": 0
      },
      "text/plain": [
       "  0%|          | 0/40 [00:00<?, ?it/s]"
      ]
     },
     "metadata": {},
     "output_type": "display_data"
    },
    {
     "name": "stdout",
     "output_type": "stream",
     "text": [
      "\n",
      "********************\n",
      "(64, 350, 40, 90)\n",
      "The NDCG score on validation dataset is:  0.24088035340331188\n"
     ]
    },
    {
     "data": {
      "application/vnd.jupyter.widget-view+json": {
       "model_id": "274980212dbd42f48a752014f48679ce",
       "version_major": 2,
       "version_minor": 0
      },
      "text/plain": [
       "  0%|          | 0/80 [00:00<?, ?it/s]"
      ]
     },
     "metadata": {},
     "output_type": "display_data"
    },
    {
     "name": "stdout",
     "output_type": "stream",
     "text": [
      "\n",
      "********************\n",
      "(64, 350, 80, 50)\n",
      "The NDCG score on validation dataset is:  0.24865313973685146\n"
     ]
    },
    {
     "data": {
      "application/vnd.jupyter.widget-view+json": {
       "model_id": "b3b5ebb79863467789f3b89d47f10f44",
       "version_major": 2,
       "version_minor": 0
      },
      "text/plain": [
       "  0%|          | 0/80 [00:00<?, ?it/s]"
      ]
     },
     "metadata": {},
     "output_type": "display_data"
    },
    {
     "name": "stdout",
     "output_type": "stream",
     "text": [
      "\n",
      "********************\n",
      "(64, 350, 80, 60)\n",
      "The NDCG score on validation dataset is:  0.2519971342519912\n"
     ]
    },
    {
     "data": {
      "application/vnd.jupyter.widget-view+json": {
       "model_id": "2903d9aec9574cf1b048dbf8c30515eb",
       "version_major": 2,
       "version_minor": 0
      },
      "text/plain": [
       "  0%|          | 0/80 [00:00<?, ?it/s]"
      ]
     },
     "metadata": {},
     "output_type": "display_data"
    },
    {
     "name": "stdout",
     "output_type": "stream",
     "text": [
      "\n",
      "********************\n",
      "(64, 350, 80, 70)\n",
      "The NDCG score on validation dataset is:  0.2502870874126811\n"
     ]
    },
    {
     "data": {
      "application/vnd.jupyter.widget-view+json": {
       "model_id": "f6927e2bfec8438c8ff64eff26b89087",
       "version_major": 2,
       "version_minor": 0
      },
      "text/plain": [
       "  0%|          | 0/80 [00:00<?, ?it/s]"
      ]
     },
     "metadata": {},
     "output_type": "display_data"
    },
    {
     "name": "stdout",
     "output_type": "stream",
     "text": [
      "\n",
      "********************\n",
      "(64, 350, 80, 80)\n",
      "The NDCG score on validation dataset is:  0.24555675427993318\n"
     ]
    },
    {
     "data": {
      "application/vnd.jupyter.widget-view+json": {
       "model_id": "416ad6ccafc642fcab99b2062d51f78b",
       "version_major": 2,
       "version_minor": 0
      },
      "text/plain": [
       "  0%|          | 0/80 [00:00<?, ?it/s]"
      ]
     },
     "metadata": {},
     "output_type": "display_data"
    },
    {
     "name": "stdout",
     "output_type": "stream",
     "text": [
      "\n",
      "********************\n",
      "(64, 350, 80, 90)\n",
      "The NDCG score on validation dataset is:  0.24123772848501487\n"
     ]
    },
    {
     "data": {
      "application/vnd.jupyter.widget-view+json": {
       "model_id": "76ca6e89a3b341eca8b9950f7f38183d",
       "version_major": 2,
       "version_minor": 0
      },
      "text/plain": [
       "  0%|          | 0/40 [00:00<?, ?it/s]"
      ]
     },
     "metadata": {},
     "output_type": "display_data"
    },
    {
     "name": "stdout",
     "output_type": "stream",
     "text": [
      "\n",
      "********************\n",
      "(64, 425, 40, 50)\n",
      "The NDCG score on validation dataset is:  0.22668613470834043\n"
     ]
    },
    {
     "data": {
      "application/vnd.jupyter.widget-view+json": {
       "model_id": "c45b1011e9584996a54b82650ee70bfa",
       "version_major": 2,
       "version_minor": 0
      },
      "text/plain": [
       "  0%|          | 0/40 [00:00<?, ?it/s]"
      ]
     },
     "metadata": {},
     "output_type": "display_data"
    },
    {
     "name": "stdout",
     "output_type": "stream",
     "text": [
      "\n",
      "********************\n",
      "(64, 425, 40, 60)\n",
      "The NDCG score on validation dataset is:  0.24812630442800734\n"
     ]
    },
    {
     "data": {
      "application/vnd.jupyter.widget-view+json": {
       "model_id": "50244e716f7044a0b3b9b690282ec493",
       "version_major": 2,
       "version_minor": 0
      },
      "text/plain": [
       "  0%|          | 0/40 [00:00<?, ?it/s]"
      ]
     },
     "metadata": {},
     "output_type": "display_data"
    },
    {
     "name": "stdout",
     "output_type": "stream",
     "text": [
      "\n",
      "********************\n",
      "(64, 425, 40, 70)\n",
      "The NDCG score on validation dataset is:  0.25490128802800666\n"
     ]
    },
    {
     "data": {
      "application/vnd.jupyter.widget-view+json": {
       "model_id": "70ccae24ed844be9a5215733270b969e",
       "version_major": 2,
       "version_minor": 0
      },
      "text/plain": [
       "  0%|          | 0/40 [00:00<?, ?it/s]"
      ]
     },
     "metadata": {},
     "output_type": "display_data"
    },
    {
     "name": "stdout",
     "output_type": "stream",
     "text": [
      "\n",
      "********************\n",
      "(64, 425, 40, 80)\n",
      "The NDCG score on validation dataset is:  0.2559463209582341\n"
     ]
    },
    {
     "data": {
      "application/vnd.jupyter.widget-view+json": {
       "model_id": "bb4ac74ffada4218b4a243344fb2a5dc",
       "version_major": 2,
       "version_minor": 0
      },
      "text/plain": [
       "  0%|          | 0/40 [00:00<?, ?it/s]"
      ]
     },
     "metadata": {},
     "output_type": "display_data"
    },
    {
     "name": "stdout",
     "output_type": "stream",
     "text": [
      "\n",
      "********************\n",
      "(64, 425, 40, 90)\n",
      "The NDCG score on validation dataset is:  0.25421235352265004\n"
     ]
    },
    {
     "data": {
      "application/vnd.jupyter.widget-view+json": {
       "model_id": "683fa97bb76744a1a0d8b0041739eb3e",
       "version_major": 2,
       "version_minor": 0
      },
      "text/plain": [
       "  0%|          | 0/80 [00:00<?, ?it/s]"
      ]
     },
     "metadata": {},
     "output_type": "display_data"
    },
    {
     "name": "stdout",
     "output_type": "stream",
     "text": [
      "\n",
      "********************\n",
      "(64, 425, 80, 50)\n",
      "The NDCG score on validation dataset is:  0.227970139225379\n"
     ]
    },
    {
     "data": {
      "application/vnd.jupyter.widget-view+json": {
       "model_id": "26b62cccb8d94d59bf88f203df3abfe7",
       "version_major": 2,
       "version_minor": 0
      },
      "text/plain": [
       "  0%|          | 0/80 [00:00<?, ?it/s]"
      ]
     },
     "metadata": {},
     "output_type": "display_data"
    },
    {
     "name": "stdout",
     "output_type": "stream",
     "text": [
      "\n",
      "********************\n",
      "(64, 425, 80, 60)\n",
      "The NDCG score on validation dataset is:  0.24725835710162383\n"
     ]
    },
    {
     "data": {
      "application/vnd.jupyter.widget-view+json": {
       "model_id": "2bb19605cdbb46afbaf3f773a8a2bd44",
       "version_major": 2,
       "version_minor": 0
      },
      "text/plain": [
       "  0%|          | 0/80 [00:00<?, ?it/s]"
      ]
     },
     "metadata": {},
     "output_type": "display_data"
    },
    {
     "name": "stdout",
     "output_type": "stream",
     "text": [
      "\n",
      "********************\n",
      "(64, 425, 80, 70)\n",
      "The NDCG score on validation dataset is:  0.2555974082896218\n"
     ]
    },
    {
     "data": {
      "application/vnd.jupyter.widget-view+json": {
       "model_id": "6262af986bdf4ea9b408367de490a26c",
       "version_major": 2,
       "version_minor": 0
      },
      "text/plain": [
       "  0%|          | 0/80 [00:00<?, ?it/s]"
      ]
     },
     "metadata": {},
     "output_type": "display_data"
    },
    {
     "name": "stdout",
     "output_type": "stream",
     "text": [
      "\n",
      "********************\n",
      "(64, 425, 80, 80)\n",
      "The NDCG score on validation dataset is:  0.2544317099272009\n"
     ]
    },
    {
     "data": {
      "application/vnd.jupyter.widget-view+json": {
       "model_id": "5e138fdbe31b435a9edaec899ded2729",
       "version_major": 2,
       "version_minor": 0
      },
      "text/plain": [
       "  0%|          | 0/80 [00:00<?, ?it/s]"
      ]
     },
     "metadata": {},
     "output_type": "display_data"
    },
    {
     "name": "stdout",
     "output_type": "stream",
     "text": [
      "\n",
      "********************\n",
      "(64, 425, 80, 90)\n",
      "The NDCG score on validation dataset is:  0.25480005894314395\n"
     ]
    },
    {
     "data": {
      "application/vnd.jupyter.widget-view+json": {
       "model_id": "70b477d39bbb4473842f9a2c89e80a17",
       "version_major": 2,
       "version_minor": 0
      },
      "text/plain": [
       "  0%|          | 0/40 [00:00<?, ?it/s]"
      ]
     },
     "metadata": {},
     "output_type": "display_data"
    },
    {
     "name": "stdout",
     "output_type": "stream",
     "text": [
      "\n",
      "********************\n",
      "(64, 475, 40, 50)\n",
      "The NDCG score on validation dataset is:  0.2082566248278323\n"
     ]
    },
    {
     "data": {
      "application/vnd.jupyter.widget-view+json": {
       "model_id": "bdf56bff859e41c58683c5dd6885d3cd",
       "version_major": 2,
       "version_minor": 0
      },
      "text/plain": [
       "  0%|          | 0/40 [00:00<?, ?it/s]"
      ]
     },
     "metadata": {},
     "output_type": "display_data"
    },
    {
     "name": "stdout",
     "output_type": "stream",
     "text": [
      "\n",
      "********************\n",
      "(64, 475, 40, 60)\n",
      "The NDCG score on validation dataset is:  0.23267218127661227\n"
     ]
    },
    {
     "data": {
      "application/vnd.jupyter.widget-view+json": {
       "model_id": "95d23f9003284ddabbb1088ab2056119",
       "version_major": 2,
       "version_minor": 0
      },
      "text/plain": [
       "  0%|          | 0/40 [00:00<?, ?it/s]"
      ]
     },
     "metadata": {},
     "output_type": "display_data"
    },
    {
     "name": "stdout",
     "output_type": "stream",
     "text": [
      "\n",
      "********************\n",
      "(64, 475, 40, 70)\n",
      "The NDCG score on validation dataset is:  0.24884422476211818\n"
     ]
    },
    {
     "data": {
      "application/vnd.jupyter.widget-view+json": {
       "model_id": "a4d728e5c580454f8adf99841f545aa3",
       "version_major": 2,
       "version_minor": 0
      },
      "text/plain": [
       "  0%|          | 0/40 [00:00<?, ?it/s]"
      ]
     },
     "metadata": {},
     "output_type": "display_data"
    },
    {
     "name": "stdout",
     "output_type": "stream",
     "text": [
      "\n",
      "********************\n",
      "(64, 475, 40, 80)\n",
      "The NDCG score on validation dataset is:  0.25358413283546555\n"
     ]
    },
    {
     "data": {
      "application/vnd.jupyter.widget-view+json": {
       "model_id": "d20ca672a116436180f7f3ef7a75f3a5",
       "version_major": 2,
       "version_minor": 0
      },
      "text/plain": [
       "  0%|          | 0/40 [00:00<?, ?it/s]"
      ]
     },
     "metadata": {},
     "output_type": "display_data"
    },
    {
     "name": "stdout",
     "output_type": "stream",
     "text": [
      "\n",
      "********************\n",
      "(64, 475, 40, 90)\n",
      "The NDCG score on validation dataset is:  0.2561072585361107\n"
     ]
    },
    {
     "data": {
      "application/vnd.jupyter.widget-view+json": {
       "model_id": "130702c519964f78b86eae44295e9d1b",
       "version_major": 2,
       "version_minor": 0
      },
      "text/plain": [
       "  0%|          | 0/80 [00:00<?, ?it/s]"
      ]
     },
     "metadata": {},
     "output_type": "display_data"
    },
    {
     "name": "stdout",
     "output_type": "stream",
     "text": [
      "\n",
      "********************\n",
      "(64, 475, 80, 50)\n",
      "The NDCG score on validation dataset is:  0.20905644852233163\n"
     ]
    },
    {
     "data": {
      "application/vnd.jupyter.widget-view+json": {
       "model_id": "878d840b5d1b434daab0059f8af12f56",
       "version_major": 2,
       "version_minor": 0
      },
      "text/plain": [
       "  0%|          | 0/80 [00:00<?, ?it/s]"
      ]
     },
     "metadata": {},
     "output_type": "display_data"
    },
    {
     "name": "stdout",
     "output_type": "stream",
     "text": [
      "\n",
      "********************\n",
      "(64, 475, 80, 60)\n",
      "The NDCG score on validation dataset is:  0.23299419608036204\n"
     ]
    },
    {
     "data": {
      "application/vnd.jupyter.widget-view+json": {
       "model_id": "be6dc44559a54126bccaa3d40f802fdb",
       "version_major": 2,
       "version_minor": 0
      },
      "text/plain": [
       "  0%|          | 0/80 [00:00<?, ?it/s]"
      ]
     },
     "metadata": {},
     "output_type": "display_data"
    },
    {
     "name": "stdout",
     "output_type": "stream",
     "text": [
      "\n",
      "********************\n",
      "(64, 475, 80, 70)\n",
      "The NDCG score on validation dataset is:  0.24834313707074845\n"
     ]
    },
    {
     "data": {
      "application/vnd.jupyter.widget-view+json": {
       "model_id": "e1f48e242629498abf709445775bca96",
       "version_major": 2,
       "version_minor": 0
      },
      "text/plain": [
       "  0%|          | 0/80 [00:00<?, ?it/s]"
      ]
     },
     "metadata": {},
     "output_type": "display_data"
    },
    {
     "name": "stdout",
     "output_type": "stream",
     "text": [
      "\n",
      "********************\n",
      "(64, 475, 80, 80)\n",
      "The NDCG score on validation dataset is:  0.2552297973813046\n"
     ]
    },
    {
     "data": {
      "application/vnd.jupyter.widget-view+json": {
       "model_id": "020140a3e8544f338f0ed3a58b3a787f",
       "version_major": 2,
       "version_minor": 0
      },
      "text/plain": [
       "  0%|          | 0/80 [00:00<?, ?it/s]"
      ]
     },
     "metadata": {},
     "output_type": "display_data"
    },
    {
     "name": "stdout",
     "output_type": "stream",
     "text": [
      "\n",
      "********************\n",
      "(64, 475, 80, 90)\n",
      "The NDCG score on validation dataset is:  0.25592553306040006\n"
     ]
    },
    {
     "data": {
      "application/vnd.jupyter.widget-view+json": {
       "model_id": "dd6d7e09155048e793926a281a8abb08",
       "version_major": 2,
       "version_minor": 0
      },
      "text/plain": [
       "  0%|          | 0/40 [00:00<?, ?it/s]"
      ]
     },
     "metadata": {},
     "output_type": "display_data"
    },
    {
     "name": "stdout",
     "output_type": "stream",
     "text": [
      "\n",
      "********************\n",
      "(64, 500, 40, 50)\n",
      "The NDCG score on validation dataset is:  0.19939929412464272\n"
     ]
    },
    {
     "data": {
      "application/vnd.jupyter.widget-view+json": {
       "model_id": "f3b7f69322f34c75bfdc16839a1c32ce",
       "version_major": 2,
       "version_minor": 0
      },
      "text/plain": [
       "  0%|          | 0/40 [00:00<?, ?it/s]"
      ]
     },
     "metadata": {},
     "output_type": "display_data"
    },
    {
     "name": "stdout",
     "output_type": "stream",
     "text": [
      "\n",
      "********************\n",
      "(64, 500, 40, 60)\n",
      "The NDCG score on validation dataset is:  0.2236332794336179\n"
     ]
    },
    {
     "data": {
      "application/vnd.jupyter.widget-view+json": {
       "model_id": "14abfffd36e744f19fc7dd7ace012236",
       "version_major": 2,
       "version_minor": 0
      },
      "text/plain": [
       "  0%|          | 0/40 [00:00<?, ?it/s]"
      ]
     },
     "metadata": {},
     "output_type": "display_data"
    },
    {
     "name": "stdout",
     "output_type": "stream",
     "text": [
      "\n",
      "********************\n",
      "(64, 500, 40, 70)\n",
      "The NDCG score on validation dataset is:  0.2429866223482222\n"
     ]
    },
    {
     "data": {
      "application/vnd.jupyter.widget-view+json": {
       "model_id": "3b653a2f12564373ab533a62b4575a1b",
       "version_major": 2,
       "version_minor": 0
      },
      "text/plain": [
       "  0%|          | 0/40 [00:00<?, ?it/s]"
      ]
     },
     "metadata": {},
     "output_type": "display_data"
    },
    {
     "name": "stdout",
     "output_type": "stream",
     "text": [
      "\n",
      "********************\n",
      "(64, 500, 40, 80)\n",
      "The NDCG score on validation dataset is:  0.2538282143141299\n"
     ]
    },
    {
     "data": {
      "application/vnd.jupyter.widget-view+json": {
       "model_id": "f4f1534994ed4077882071f92d100301",
       "version_major": 2,
       "version_minor": 0
      },
      "text/plain": [
       "  0%|          | 0/40 [00:00<?, ?it/s]"
      ]
     },
     "metadata": {},
     "output_type": "display_data"
    },
    {
     "name": "stdout",
     "output_type": "stream",
     "text": [
      "\n",
      "********************\n",
      "(64, 500, 40, 90)\n",
      "The NDCG score on validation dataset is:  0.2548634900613467\n"
     ]
    },
    {
     "data": {
      "application/vnd.jupyter.widget-view+json": {
       "model_id": "9d80e4129c8a4e3e937d02f1cda82707",
       "version_major": 2,
       "version_minor": 0
      },
      "text/plain": [
       "  0%|          | 0/80 [00:00<?, ?it/s]"
      ]
     },
     "metadata": {},
     "output_type": "display_data"
    },
    {
     "name": "stdout",
     "output_type": "stream",
     "text": [
      "\n",
      "********************\n",
      "(64, 500, 80, 50)\n",
      "The NDCG score on validation dataset is:  0.19947424922941823\n"
     ]
    },
    {
     "data": {
      "application/vnd.jupyter.widget-view+json": {
       "model_id": "81d149e61e914fca9f2be743dcde6727",
       "version_major": 2,
       "version_minor": 0
      },
      "text/plain": [
       "  0%|          | 0/80 [00:00<?, ?it/s]"
      ]
     },
     "metadata": {},
     "output_type": "display_data"
    },
    {
     "name": "stdout",
     "output_type": "stream",
     "text": [
      "\n",
      "********************\n",
      "(64, 500, 80, 60)\n",
      "The NDCG score on validation dataset is:  0.22435267646137486\n"
     ]
    },
    {
     "data": {
      "application/vnd.jupyter.widget-view+json": {
       "model_id": "f48278e9249f415290113dadff23e6f1",
       "version_major": 2,
       "version_minor": 0
      },
      "text/plain": [
       "  0%|          | 0/80 [00:00<?, ?it/s]"
      ]
     },
     "metadata": {},
     "output_type": "display_data"
    },
    {
     "name": "stdout",
     "output_type": "stream",
     "text": [
      "\n",
      "********************\n",
      "(64, 500, 80, 70)\n",
      "The NDCG score on validation dataset is:  0.24419439149439895\n"
     ]
    },
    {
     "data": {
      "application/vnd.jupyter.widget-view+json": {
       "model_id": "dade152fe6484529b4a06b286f30f16c",
       "version_major": 2,
       "version_minor": 0
      },
      "text/plain": [
       "  0%|          | 0/80 [00:00<?, ?it/s]"
      ]
     },
     "metadata": {},
     "output_type": "display_data"
    },
    {
     "name": "stdout",
     "output_type": "stream",
     "text": [
      "\n",
      "********************\n",
      "(64, 500, 80, 80)\n",
      "The NDCG score on validation dataset is:  0.25353600145798505\n"
     ]
    },
    {
     "data": {
      "application/vnd.jupyter.widget-view+json": {
       "model_id": "068470fd001e41cf8bf1f02bc31c17f2",
       "version_major": 2,
       "version_minor": 0
      },
      "text/plain": [
       "  0%|          | 0/80 [00:00<?, ?it/s]"
      ]
     },
     "metadata": {},
     "output_type": "display_data"
    },
    {
     "name": "stdout",
     "output_type": "stream",
     "text": [
      "\n",
      "********************\n",
      "(64, 500, 80, 90)\n",
      "The NDCG score on validation dataset is:  0.25575403740266855\n"
     ]
    },
    {
     "data": {
      "application/vnd.jupyter.widget-view+json": {
       "model_id": "6bccdd69df86477aa5e381f71cb1963b",
       "version_major": 2,
       "version_minor": 0
      },
      "text/plain": [
       "  0%|          | 0/40 [00:00<?, ?it/s]"
      ]
     },
     "metadata": {},
     "output_type": "display_data"
    },
    {
     "name": "stdout",
     "output_type": "stream",
     "text": [
      "\n",
      "********************\n",
      "(64, 775, 40, 50)\n",
      "The NDCG score on validation dataset is:  0.12487876532339688\n"
     ]
    },
    {
     "data": {
      "application/vnd.jupyter.widget-view+json": {
       "model_id": "998c1e16733e41e4a967980942a3bc8f",
       "version_major": 2,
       "version_minor": 0
      },
      "text/plain": [
       "  0%|          | 0/40 [00:00<?, ?it/s]"
      ]
     },
     "metadata": {},
     "output_type": "display_data"
    },
    {
     "name": "stdout",
     "output_type": "stream",
     "text": [
      "\n",
      "********************\n",
      "(64, 775, 40, 60)\n",
      "The NDCG score on validation dataset is:  0.1501770329913349\n"
     ]
    },
    {
     "data": {
      "application/vnd.jupyter.widget-view+json": {
       "model_id": "2bbe3acd053447699589f7e0d9ff71db",
       "version_major": 2,
       "version_minor": 0
      },
      "text/plain": [
       "  0%|          | 0/40 [00:00<?, ?it/s]"
      ]
     },
     "metadata": {},
     "output_type": "display_data"
    },
    {
     "name": "stdout",
     "output_type": "stream",
     "text": [
      "\n",
      "********************\n",
      "(64, 775, 40, 70)\n",
      "The NDCG score on validation dataset is:  0.17408720978146308\n"
     ]
    },
    {
     "data": {
      "application/vnd.jupyter.widget-view+json": {
       "model_id": "41e263e2678041e191be7727ca3a70e2",
       "version_major": 2,
       "version_minor": 0
      },
      "text/plain": [
       "  0%|          | 0/40 [00:00<?, ?it/s]"
      ]
     },
     "metadata": {},
     "output_type": "display_data"
    },
    {
     "name": "stdout",
     "output_type": "stream",
     "text": [
      "\n",
      "********************\n",
      "(64, 775, 40, 80)\n",
      "The NDCG score on validation dataset is:  0.18894347943138431\n"
     ]
    },
    {
     "data": {
      "application/vnd.jupyter.widget-view+json": {
       "model_id": "6bc8f8640bca49cda61e8f27070017a5",
       "version_major": 2,
       "version_minor": 0
      },
      "text/plain": [
       "  0%|          | 0/40 [00:00<?, ?it/s]"
      ]
     },
     "metadata": {},
     "output_type": "display_data"
    },
    {
     "name": "stdout",
     "output_type": "stream",
     "text": [
      "\n",
      "********************\n",
      "(64, 775, 40, 90)\n",
      "The NDCG score on validation dataset is:  0.20342740408688542\n"
     ]
    },
    {
     "data": {
      "application/vnd.jupyter.widget-view+json": {
       "model_id": "f2ff51a5c75346ac919e5e6edec5564c",
       "version_major": 2,
       "version_minor": 0
      },
      "text/plain": [
       "  0%|          | 0/80 [00:00<?, ?it/s]"
      ]
     },
     "metadata": {},
     "output_type": "display_data"
    },
    {
     "name": "stdout",
     "output_type": "stream",
     "text": [
      "\n",
      "********************\n",
      "(64, 775, 80, 50)\n",
      "The NDCG score on validation dataset is:  0.1250340520699699\n"
     ]
    },
    {
     "data": {
      "application/vnd.jupyter.widget-view+json": {
       "model_id": "11f816f9d20049deb133f3dcb161e8fe",
       "version_major": 2,
       "version_minor": 0
      },
      "text/plain": [
       "  0%|          | 0/80 [00:00<?, ?it/s]"
      ]
     },
     "metadata": {},
     "output_type": "display_data"
    },
    {
     "name": "stdout",
     "output_type": "stream",
     "text": [
      "\n",
      "********************\n",
      "(64, 775, 80, 60)\n",
      "The NDCG score on validation dataset is:  0.15091167780436499\n"
     ]
    },
    {
     "data": {
      "application/vnd.jupyter.widget-view+json": {
       "model_id": "be18e1f918a44587b84111d4b9ab7782",
       "version_major": 2,
       "version_minor": 0
      },
      "text/plain": [
       "  0%|          | 0/80 [00:00<?, ?it/s]"
      ]
     },
     "metadata": {},
     "output_type": "display_data"
    },
    {
     "name": "stdout",
     "output_type": "stream",
     "text": [
      "\n",
      "********************\n",
      "(64, 775, 80, 70)\n",
      "The NDCG score on validation dataset is:  0.17438598786834006\n"
     ]
    },
    {
     "data": {
      "application/vnd.jupyter.widget-view+json": {
       "model_id": "f5d73a98684941e48e35556ee4e40a06",
       "version_major": 2,
       "version_minor": 0
      },
      "text/plain": [
       "  0%|          | 0/80 [00:00<?, ?it/s]"
      ]
     },
     "metadata": {},
     "output_type": "display_data"
    },
    {
     "name": "stdout",
     "output_type": "stream",
     "text": [
      "\n",
      "********************\n",
      "(64, 775, 80, 80)\n",
      "The NDCG score on validation dataset is:  0.18901942605663072\n"
     ]
    },
    {
     "data": {
      "application/vnd.jupyter.widget-view+json": {
       "model_id": "c163bfad3f0545ecaa943ec1ffdb3210",
       "version_major": 2,
       "version_minor": 0
      },
      "text/plain": [
       "  0%|          | 0/80 [00:00<?, ?it/s]"
      ]
     },
     "metadata": {},
     "output_type": "display_data"
    },
    {
     "name": "stdout",
     "output_type": "stream",
     "text": [
      "\n",
      "********************\n",
      "(64, 775, 80, 90)\n",
      "The NDCG score on validation dataset is:  0.20439177332930697\n"
     ]
    },
    {
     "data": {
      "application/vnd.jupyter.widget-view+json": {
       "model_id": "d8e2904db03f45ff946b2e068091a45b",
       "version_major": 2,
       "version_minor": 0
      },
      "text/plain": [
       "  0%|          | 0/40 [00:00<?, ?it/s]"
      ]
     },
     "metadata": {},
     "output_type": "display_data"
    },
    {
     "name": "stdout",
     "output_type": "stream",
     "text": [
      "\n",
      "********************\n",
      "(50, 325, 40, 50)\n",
      "The NDCG score on validation dataset is:  0.25412039757692373\n"
     ]
    },
    {
     "data": {
      "application/vnd.jupyter.widget-view+json": {
       "model_id": "92a9967da859429f92cd614b9d848b8b",
       "version_major": 2,
       "version_minor": 0
      },
      "text/plain": [
       "  0%|          | 0/40 [00:00<?, ?it/s]"
      ]
     },
     "metadata": {},
     "output_type": "display_data"
    },
    {
     "name": "stdout",
     "output_type": "stream",
     "text": [
      "\n",
      "********************\n",
      "(50, 325, 40, 60)\n",
      "The NDCG score on validation dataset is:  0.25178741997362686\n"
     ]
    },
    {
     "data": {
      "application/vnd.jupyter.widget-view+json": {
       "model_id": "ea6c5832bc014fb495d7d858298d3838",
       "version_major": 2,
       "version_minor": 0
      },
      "text/plain": [
       "  0%|          | 0/40 [00:00<?, ?it/s]"
      ]
     },
     "metadata": {},
     "output_type": "display_data"
    },
    {
     "name": "stdout",
     "output_type": "stream",
     "text": [
      "\n",
      "********************\n",
      "(50, 325, 40, 70)\n",
      "The NDCG score on validation dataset is:  0.2471072690912572\n"
     ]
    },
    {
     "data": {
      "application/vnd.jupyter.widget-view+json": {
       "model_id": "504888078bfc4c7aa7de86249cf96208",
       "version_major": 2,
       "version_minor": 0
      },
      "text/plain": [
       "  0%|          | 0/40 [00:00<?, ?it/s]"
      ]
     },
     "metadata": {},
     "output_type": "display_data"
    },
    {
     "name": "stdout",
     "output_type": "stream",
     "text": [
      "\n",
      "********************\n",
      "(50, 325, 40, 80)\n",
      "The NDCG score on validation dataset is:  0.24118827963890405\n"
     ]
    },
    {
     "data": {
      "application/vnd.jupyter.widget-view+json": {
       "model_id": "bfa1e10f687946779ef2bbe82cfe88b2",
       "version_major": 2,
       "version_minor": 0
      },
      "text/plain": [
       "  0%|          | 0/40 [00:00<?, ?it/s]"
      ]
     },
     "metadata": {},
     "output_type": "display_data"
    },
    {
     "name": "stdout",
     "output_type": "stream",
     "text": [
      "\n",
      "********************\n",
      "(50, 325, 40, 90)\n",
      "The NDCG score on validation dataset is:  0.23966273738634225\n"
     ]
    },
    {
     "data": {
      "application/vnd.jupyter.widget-view+json": {
       "model_id": "85829146d22c4fc487e7322d5522c91f",
       "version_major": 2,
       "version_minor": 0
      },
      "text/plain": [
       "  0%|          | 0/80 [00:00<?, ?it/s]"
      ]
     },
     "metadata": {},
     "output_type": "display_data"
    },
    {
     "name": "stdout",
     "output_type": "stream",
     "text": [
      "\n",
      "********************\n",
      "(50, 325, 80, 50)\n",
      "The NDCG score on validation dataset is:  0.2519451960695673\n"
     ]
    },
    {
     "data": {
      "application/vnd.jupyter.widget-view+json": {
       "model_id": "cbce642c4d1f4df9befcb82a13516536",
       "version_major": 2,
       "version_minor": 0
      },
      "text/plain": [
       "  0%|          | 0/80 [00:00<?, ?it/s]"
      ]
     },
     "metadata": {},
     "output_type": "display_data"
    },
    {
     "name": "stdout",
     "output_type": "stream",
     "text": [
      "\n",
      "********************\n",
      "(50, 325, 80, 60)\n",
      "The NDCG score on validation dataset is:  0.2519812883945993\n"
     ]
    },
    {
     "data": {
      "application/vnd.jupyter.widget-view+json": {
       "model_id": "9656a026384e486b90d999168bfb4718",
       "version_major": 2,
       "version_minor": 0
      },
      "text/plain": [
       "  0%|          | 0/80 [00:00<?, ?it/s]"
      ]
     },
     "metadata": {},
     "output_type": "display_data"
    },
    {
     "name": "stdout",
     "output_type": "stream",
     "text": [
      "\n",
      "********************\n",
      "(50, 325, 80, 70)\n",
      "The NDCG score on validation dataset is:  0.24862760130343983\n"
     ]
    },
    {
     "data": {
      "application/vnd.jupyter.widget-view+json": {
       "model_id": "131eaa1aa4aa4ace850d8dea1c9d3217",
       "version_major": 2,
       "version_minor": 0
      },
      "text/plain": [
       "  0%|          | 0/80 [00:00<?, ?it/s]"
      ]
     },
     "metadata": {},
     "output_type": "display_data"
    },
    {
     "name": "stdout",
     "output_type": "stream",
     "text": [
      "\n",
      "********************\n",
      "(50, 325, 80, 80)\n",
      "The NDCG score on validation dataset is:  0.24293521480152058\n"
     ]
    },
    {
     "data": {
      "application/vnd.jupyter.widget-view+json": {
       "model_id": "2afc854a03944f1d81666ec18af5ca7c",
       "version_major": 2,
       "version_minor": 0
      },
      "text/plain": [
       "  0%|          | 0/80 [00:00<?, ?it/s]"
      ]
     },
     "metadata": {},
     "output_type": "display_data"
    },
    {
     "name": "stdout",
     "output_type": "stream",
     "text": [
      "\n",
      "********************\n",
      "(50, 325, 80, 90)\n",
      "The NDCG score on validation dataset is:  0.23805968347205952\n"
     ]
    },
    {
     "data": {
      "application/vnd.jupyter.widget-view+json": {
       "model_id": "53733942ddad4e6c83edaccb439313c0",
       "version_major": 2,
       "version_minor": 0
      },
      "text/plain": [
       "  0%|          | 0/40 [00:00<?, ?it/s]"
      ]
     },
     "metadata": {},
     "output_type": "display_data"
    },
    {
     "name": "stdout",
     "output_type": "stream",
     "text": [
      "\n",
      "********************\n",
      "(50, 350, 40, 50)\n",
      "The NDCG score on validation dataset is:  0.24958372657051658\n"
     ]
    },
    {
     "data": {
      "application/vnd.jupyter.widget-view+json": {
       "model_id": "03a54ba1ff114c78ad8225ce394c1b0e",
       "version_major": 2,
       "version_minor": 0
      },
      "text/plain": [
       "  0%|          | 0/40 [00:00<?, ?it/s]"
      ]
     },
     "metadata": {},
     "output_type": "display_data"
    },
    {
     "name": "stdout",
     "output_type": "stream",
     "text": [
      "\n",
      "********************\n",
      "(50, 350, 40, 60)\n",
      "The NDCG score on validation dataset is:  0.2547676406176272\n"
     ]
    },
    {
     "data": {
      "application/vnd.jupyter.widget-view+json": {
       "model_id": "414aeac92ef6474faab469171b67e83d",
       "version_major": 2,
       "version_minor": 0
      },
      "text/plain": [
       "  0%|          | 0/40 [00:00<?, ?it/s]"
      ]
     },
     "metadata": {},
     "output_type": "display_data"
    },
    {
     "name": "stdout",
     "output_type": "stream",
     "text": [
      "\n",
      "********************\n",
      "(50, 350, 40, 70)\n",
      "The NDCG score on validation dataset is:  0.24949324780531026\n"
     ]
    },
    {
     "data": {
      "application/vnd.jupyter.widget-view+json": {
       "model_id": "e3b1aa4fa37e4b0fb79f3faaf4f64217",
       "version_major": 2,
       "version_minor": 0
      },
      "text/plain": [
       "  0%|          | 0/40 [00:00<?, ?it/s]"
      ]
     },
     "metadata": {},
     "output_type": "display_data"
    },
    {
     "name": "stdout",
     "output_type": "stream",
     "text": [
      "\n",
      "********************\n",
      "(50, 350, 40, 80)\n",
      "The NDCG score on validation dataset is:  0.24613681298296808\n"
     ]
    },
    {
     "data": {
      "application/vnd.jupyter.widget-view+json": {
       "model_id": "9860775c19934823b98f9bda60f1cfd0",
       "version_major": 2,
       "version_minor": 0
      },
      "text/plain": [
       "  0%|          | 0/40 [00:00<?, ?it/s]"
      ]
     },
     "metadata": {},
     "output_type": "display_data"
    },
    {
     "name": "stdout",
     "output_type": "stream",
     "text": [
      "\n",
      "********************\n",
      "(50, 350, 40, 90)\n",
      "The NDCG score on validation dataset is:  0.24305192841589374\n"
     ]
    },
    {
     "data": {
      "application/vnd.jupyter.widget-view+json": {
       "model_id": "892bda017bb048d4a16e7322f518c5d3",
       "version_major": 2,
       "version_minor": 0
      },
      "text/plain": [
       "  0%|          | 0/80 [00:00<?, ?it/s]"
      ]
     },
     "metadata": {},
     "output_type": "display_data"
    },
    {
     "name": "stdout",
     "output_type": "stream",
     "text": [
      "\n",
      "********************\n",
      "(50, 350, 80, 50)\n",
      "The NDCG score on validation dataset is:  0.2495538969725216\n"
     ]
    },
    {
     "data": {
      "application/vnd.jupyter.widget-view+json": {
       "model_id": "c60775dbc07340db98b2c563cd6f240f",
       "version_major": 2,
       "version_minor": 0
      },
      "text/plain": [
       "  0%|          | 0/80 [00:00<?, ?it/s]"
      ]
     },
     "metadata": {},
     "output_type": "display_data"
    },
    {
     "name": "stdout",
     "output_type": "stream",
     "text": [
      "\n",
      "********************\n",
      "(50, 350, 80, 60)\n",
      "The NDCG score on validation dataset is:  0.253328016762359\n"
     ]
    },
    {
     "data": {
      "application/vnd.jupyter.widget-view+json": {
       "model_id": "3274cd36cdcb4866af6ef12cdf810f93",
       "version_major": 2,
       "version_minor": 0
      },
      "text/plain": [
       "  0%|          | 0/80 [00:00<?, ?it/s]"
      ]
     },
     "metadata": {},
     "output_type": "display_data"
    },
    {
     "name": "stdout",
     "output_type": "stream",
     "text": [
      "\n",
      "********************\n",
      "(50, 350, 80, 70)\n",
      "The NDCG score on validation dataset is:  0.2518907622263698\n"
     ]
    },
    {
     "data": {
      "application/vnd.jupyter.widget-view+json": {
       "model_id": "efac2814f6b24c998dc36bf78c9c65c6",
       "version_major": 2,
       "version_minor": 0
      },
      "text/plain": [
       "  0%|          | 0/80 [00:00<?, ?it/s]"
      ]
     },
     "metadata": {},
     "output_type": "display_data"
    },
    {
     "name": "stdout",
     "output_type": "stream",
     "text": [
      "\n",
      "********************\n",
      "(50, 350, 80, 80)\n",
      "The NDCG score on validation dataset is:  0.24771923630153472\n"
     ]
    },
    {
     "data": {
      "application/vnd.jupyter.widget-view+json": {
       "model_id": "823db9564bcb4bf982bff519f43fcfa4",
       "version_major": 2,
       "version_minor": 0
      },
      "text/plain": [
       "  0%|          | 0/80 [00:00<?, ?it/s]"
      ]
     },
     "metadata": {},
     "output_type": "display_data"
    },
    {
     "name": "stdout",
     "output_type": "stream",
     "text": [
      "\n",
      "********************\n",
      "(50, 350, 80, 90)\n",
      "The NDCG score on validation dataset is:  0.24301995799053253\n"
     ]
    },
    {
     "data": {
      "application/vnd.jupyter.widget-view+json": {
       "model_id": "3398bfbc2b0d4e79b90e4862d5f0453a",
       "version_major": 2,
       "version_minor": 0
      },
      "text/plain": [
       "  0%|          | 0/40 [00:00<?, ?it/s]"
      ]
     },
     "metadata": {},
     "output_type": "display_data"
    },
    {
     "name": "stdout",
     "output_type": "stream",
     "text": [
      "\n",
      "********************\n",
      "(50, 425, 40, 50)\n",
      "The NDCG score on validation dataset is:  0.22670494470292551\n"
     ]
    },
    {
     "data": {
      "application/vnd.jupyter.widget-view+json": {
       "model_id": "c0d694afbb4c47ab96f057725728145b",
       "version_major": 2,
       "version_minor": 0
      },
      "text/plain": [
       "  0%|          | 0/40 [00:00<?, ?it/s]"
      ]
     },
     "metadata": {},
     "output_type": "display_data"
    },
    {
     "name": "stdout",
     "output_type": "stream",
     "text": [
      "\n",
      "********************\n",
      "(50, 425, 40, 60)\n",
      "The NDCG score on validation dataset is:  0.24642721651184374\n"
     ]
    },
    {
     "data": {
      "application/vnd.jupyter.widget-view+json": {
       "model_id": "5aae73447c204fddadaa08891bef4416",
       "version_major": 2,
       "version_minor": 0
      },
      "text/plain": [
       "  0%|          | 0/40 [00:00<?, ?it/s]"
      ]
     },
     "metadata": {},
     "output_type": "display_data"
    },
    {
     "name": "stdout",
     "output_type": "stream",
     "text": [
      "\n",
      "********************\n",
      "(50, 425, 40, 70)\n",
      "The NDCG score on validation dataset is:  0.2553281539074984\n"
     ]
    },
    {
     "data": {
      "application/vnd.jupyter.widget-view+json": {
       "model_id": "70cff1c08b674dfdb61cee134ed4f455",
       "version_major": 2,
       "version_minor": 0
      },
      "text/plain": [
       "  0%|          | 0/40 [00:00<?, ?it/s]"
      ]
     },
     "metadata": {},
     "output_type": "display_data"
    },
    {
     "name": "stdout",
     "output_type": "stream",
     "text": [
      "\n",
      "********************\n",
      "(50, 425, 40, 80)\n",
      "The NDCG score on validation dataset is:  0.2551013227418741\n"
     ]
    },
    {
     "data": {
      "application/vnd.jupyter.widget-view+json": {
       "model_id": "741be9695ce9424ba6ba3a723580647d",
       "version_major": 2,
       "version_minor": 0
      },
      "text/plain": [
       "  0%|          | 0/40 [00:00<?, ?it/s]"
      ]
     },
     "metadata": {},
     "output_type": "display_data"
    },
    {
     "name": "stdout",
     "output_type": "stream",
     "text": [
      "\n",
      "********************\n",
      "(50, 425, 40, 90)\n",
      "The NDCG score on validation dataset is:  0.2524695927251109\n"
     ]
    },
    {
     "data": {
      "application/vnd.jupyter.widget-view+json": {
       "model_id": "c25d35888fda4ef082d7a2b871a2f25c",
       "version_major": 2,
       "version_minor": 0
      },
      "text/plain": [
       "  0%|          | 0/80 [00:00<?, ?it/s]"
      ]
     },
     "metadata": {},
     "output_type": "display_data"
    },
    {
     "name": "stdout",
     "output_type": "stream",
     "text": [
      "\n",
      "********************\n",
      "(50, 425, 80, 50)\n",
      "The NDCG score on validation dataset is:  0.2280694251992812\n"
     ]
    },
    {
     "data": {
      "application/vnd.jupyter.widget-view+json": {
       "model_id": "4b375677fbd54746aba0b30a8d3b2721",
       "version_major": 2,
       "version_minor": 0
      },
      "text/plain": [
       "  0%|          | 0/80 [00:00<?, ?it/s]"
      ]
     },
     "metadata": {},
     "output_type": "display_data"
    },
    {
     "name": "stdout",
     "output_type": "stream",
     "text": [
      "\n",
      "********************\n",
      "(50, 425, 80, 60)\n",
      "The NDCG score on validation dataset is:  0.2474118463252526\n"
     ]
    },
    {
     "data": {
      "application/vnd.jupyter.widget-view+json": {
       "model_id": "ad3f8c6362c4489da819c096190ea519",
       "version_major": 2,
       "version_minor": 0
      },
      "text/plain": [
       "  0%|          | 0/80 [00:00<?, ?it/s]"
      ]
     },
     "metadata": {},
     "output_type": "display_data"
    },
    {
     "name": "stdout",
     "output_type": "stream",
     "text": [
      "\n",
      "********************\n",
      "(50, 425, 80, 70)\n",
      "The NDCG score on validation dataset is:  0.25536411574721257\n"
     ]
    },
    {
     "data": {
      "application/vnd.jupyter.widget-view+json": {
       "model_id": "0daaedfb553d4dccb4ac3cad041fa020",
       "version_major": 2,
       "version_minor": 0
      },
      "text/plain": [
       "  0%|          | 0/80 [00:00<?, ?it/s]"
      ]
     },
     "metadata": {},
     "output_type": "display_data"
    },
    {
     "name": "stdout",
     "output_type": "stream",
     "text": [
      "\n",
      "********************\n",
      "(50, 425, 80, 80)\n",
      "The NDCG score on validation dataset is:  0.25495553080848166\n"
     ]
    },
    {
     "data": {
      "application/vnd.jupyter.widget-view+json": {
       "model_id": "ee04688132854f94b6a4c71a15a3dd54",
       "version_major": 2,
       "version_minor": 0
      },
      "text/plain": [
       "  0%|          | 0/80 [00:00<?, ?it/s]"
      ]
     },
     "metadata": {},
     "output_type": "display_data"
    },
    {
     "name": "stdout",
     "output_type": "stream",
     "text": [
      "\n",
      "********************\n",
      "(50, 425, 80, 90)\n",
      "The NDCG score on validation dataset is:  0.2535158565427494\n"
     ]
    },
    {
     "data": {
      "application/vnd.jupyter.widget-view+json": {
       "model_id": "45ee25afa591401fa4d12706739a402f",
       "version_major": 2,
       "version_minor": 0
      },
      "text/plain": [
       "  0%|          | 0/40 [00:00<?, ?it/s]"
      ]
     },
     "metadata": {},
     "output_type": "display_data"
    },
    {
     "name": "stdout",
     "output_type": "stream",
     "text": [
      "\n",
      "********************\n",
      "(50, 475, 40, 50)\n",
      "The NDCG score on validation dataset is:  0.2083977108066816\n"
     ]
    },
    {
     "data": {
      "application/vnd.jupyter.widget-view+json": {
       "model_id": "b0a42ad5788d4fa08848392e13d2139a",
       "version_major": 2,
       "version_minor": 0
      },
      "text/plain": [
       "  0%|          | 0/40 [00:00<?, ?it/s]"
      ]
     },
     "metadata": {},
     "output_type": "display_data"
    },
    {
     "name": "stdout",
     "output_type": "stream",
     "text": [
      "\n",
      "********************\n",
      "(50, 475, 40, 60)\n",
      "The NDCG score on validation dataset is:  0.23285682651958095\n"
     ]
    },
    {
     "data": {
      "application/vnd.jupyter.widget-view+json": {
       "model_id": "65e52ba55afb40c480d6016d8a022f95",
       "version_major": 2,
       "version_minor": 0
      },
      "text/plain": [
       "  0%|          | 0/40 [00:00<?, ?it/s]"
      ]
     },
     "metadata": {},
     "output_type": "display_data"
    },
    {
     "name": "stdout",
     "output_type": "stream",
     "text": [
      "\n",
      "********************\n",
      "(50, 475, 40, 70)\n",
      "The NDCG score on validation dataset is:  0.24748471651256854\n"
     ]
    },
    {
     "data": {
      "application/vnd.jupyter.widget-view+json": {
       "model_id": "39485aca812f452399e7ad63ca765b58",
       "version_major": 2,
       "version_minor": 0
      },
      "text/plain": [
       "  0%|          | 0/40 [00:00<?, ?it/s]"
      ]
     },
     "metadata": {},
     "output_type": "display_data"
    },
    {
     "name": "stdout",
     "output_type": "stream",
     "text": [
      "\n",
      "********************\n",
      "(50, 475, 40, 80)\n",
      "The NDCG score on validation dataset is:  0.25532750145054245\n"
     ]
    },
    {
     "data": {
      "application/vnd.jupyter.widget-view+json": {
       "model_id": "4fadd9e9faf6411d8460caf945b9f1a6",
       "version_major": 2,
       "version_minor": 0
      },
      "text/plain": [
       "  0%|          | 0/40 [00:00<?, ?it/s]"
      ]
     },
     "metadata": {},
     "output_type": "display_data"
    },
    {
     "name": "stdout",
     "output_type": "stream",
     "text": [
      "\n",
      "********************\n",
      "(50, 475, 40, 90)\n",
      "The NDCG score on validation dataset is:  0.25480523677396844\n"
     ]
    },
    {
     "data": {
      "application/vnd.jupyter.widget-view+json": {
       "model_id": "dee907f34b8542839e4282cb0162ffff",
       "version_major": 2,
       "version_minor": 0
      },
      "text/plain": [
       "  0%|          | 0/80 [00:00<?, ?it/s]"
      ]
     },
     "metadata": {},
     "output_type": "display_data"
    },
    {
     "name": "stdout",
     "output_type": "stream",
     "text": [
      "\n",
      "********************\n",
      "(50, 475, 80, 50)\n",
      "The NDCG score on validation dataset is:  0.20913029676953587\n"
     ]
    },
    {
     "data": {
      "application/vnd.jupyter.widget-view+json": {
       "model_id": "322cdabf7c004452b0269912c9a7b97d",
       "version_major": 2,
       "version_minor": 0
      },
      "text/plain": [
       "  0%|          | 0/80 [00:00<?, ?it/s]"
      ]
     },
     "metadata": {},
     "output_type": "display_data"
    },
    {
     "name": "stdout",
     "output_type": "stream",
     "text": [
      "\n",
      "********************\n",
      "(50, 475, 80, 60)\n",
      "The NDCG score on validation dataset is:  0.23299507886845341\n"
     ]
    },
    {
     "data": {
      "application/vnd.jupyter.widget-view+json": {
       "model_id": "6657d76cc1954ab2a4fc477d433e5ecc",
       "version_major": 2,
       "version_minor": 0
      },
      "text/plain": [
       "  0%|          | 0/80 [00:00<?, ?it/s]"
      ]
     },
     "metadata": {},
     "output_type": "display_data"
    },
    {
     "name": "stdout",
     "output_type": "stream",
     "text": [
      "\n",
      "********************\n",
      "(50, 475, 80, 70)\n",
      "The NDCG score on validation dataset is:  0.24840012902358996\n"
     ]
    },
    {
     "data": {
      "application/vnd.jupyter.widget-view+json": {
       "model_id": "816889a7678a40949da0ffe06e5db608",
       "version_major": 2,
       "version_minor": 0
      },
      "text/plain": [
       "  0%|          | 0/80 [00:00<?, ?it/s]"
      ]
     },
     "metadata": {},
     "output_type": "display_data"
    },
    {
     "name": "stdout",
     "output_type": "stream",
     "text": [
      "\n",
      "********************\n",
      "(50, 475, 80, 80)\n",
      "The NDCG score on validation dataset is:  0.25490408616366206\n"
     ]
    },
    {
     "data": {
      "application/vnd.jupyter.widget-view+json": {
       "model_id": "5faa7fd8cc2845d79ae25a447a4b2b24",
       "version_major": 2,
       "version_minor": 0
      },
      "text/plain": [
       "  0%|          | 0/80 [00:00<?, ?it/s]"
      ]
     },
     "metadata": {},
     "output_type": "display_data"
    },
    {
     "name": "stdout",
     "output_type": "stream",
     "text": [
      "\n",
      "********************\n",
      "(50, 475, 80, 90)\n",
      "The NDCG score on validation dataset is:  0.25615301250501604\n"
     ]
    },
    {
     "data": {
      "application/vnd.jupyter.widget-view+json": {
       "model_id": "6ec0a60604e042e199b9eb34a224e422",
       "version_major": 2,
       "version_minor": 0
      },
      "text/plain": [
       "  0%|          | 0/40 [00:00<?, ?it/s]"
      ]
     },
     "metadata": {},
     "output_type": "display_data"
    },
    {
     "name": "stdout",
     "output_type": "stream",
     "text": [
      "\n",
      "********************\n",
      "(50, 500, 40, 50)\n",
      "The NDCG score on validation dataset is:  0.19941617492624084\n"
     ]
    },
    {
     "data": {
      "application/vnd.jupyter.widget-view+json": {
       "model_id": "cc6f62f9a6574f519ccec3beb5349e02",
       "version_major": 2,
       "version_minor": 0
      },
      "text/plain": [
       "  0%|          | 0/40 [00:00<?, ?it/s]"
      ]
     },
     "metadata": {},
     "output_type": "display_data"
    },
    {
     "name": "stdout",
     "output_type": "stream",
     "text": [
      "\n",
      "********************\n",
      "(50, 500, 40, 60)\n",
      "The NDCG score on validation dataset is:  0.22371309553521135\n"
     ]
    },
    {
     "data": {
      "application/vnd.jupyter.widget-view+json": {
       "model_id": "ed983984bf234f028b1c7aa95bebd08f",
       "version_major": 2,
       "version_minor": 0
      },
      "text/plain": [
       "  0%|          | 0/40 [00:00<?, ?it/s]"
      ]
     },
     "metadata": {},
     "output_type": "display_data"
    },
    {
     "name": "stdout",
     "output_type": "stream",
     "text": [
      "\n",
      "********************\n",
      "(50, 500, 40, 70)\n",
      "The NDCG score on validation dataset is:  0.2432437871137471\n"
     ]
    },
    {
     "data": {
      "application/vnd.jupyter.widget-view+json": {
       "model_id": "9adf402fb4f44d328b1e55768ccd8110",
       "version_major": 2,
       "version_minor": 0
      },
      "text/plain": [
       "  0%|          | 0/40 [00:00<?, ?it/s]"
      ]
     },
     "metadata": {},
     "output_type": "display_data"
    },
    {
     "name": "stdout",
     "output_type": "stream",
     "text": [
      "\n",
      "********************\n",
      "(50, 500, 40, 80)\n",
      "The NDCG score on validation dataset is:  0.25517177161676446\n"
     ]
    },
    {
     "data": {
      "application/vnd.jupyter.widget-view+json": {
       "model_id": "41396bc1407441568893adae33c99c9e",
       "version_major": 2,
       "version_minor": 0
      },
      "text/plain": [
       "  0%|          | 0/40 [00:00<?, ?it/s]"
      ]
     },
     "metadata": {},
     "output_type": "display_data"
    },
    {
     "name": "stdout",
     "output_type": "stream",
     "text": [
      "\n",
      "********************\n",
      "(50, 500, 40, 90)\n",
      "The NDCG score on validation dataset is:  0.2553932542573981\n"
     ]
    },
    {
     "data": {
      "application/vnd.jupyter.widget-view+json": {
       "model_id": "73103f0231cd4aa1b26833b03a2bfdf1",
       "version_major": 2,
       "version_minor": 0
      },
      "text/plain": [
       "  0%|          | 0/80 [00:00<?, ?it/s]"
      ]
     },
     "metadata": {},
     "output_type": "display_data"
    },
    {
     "name": "stdout",
     "output_type": "stream",
     "text": [
      "\n",
      "********************\n",
      "(50, 500, 80, 50)\n",
      "The NDCG score on validation dataset is:  0.19946347683173965\n"
     ]
    },
    {
     "data": {
      "application/vnd.jupyter.widget-view+json": {
       "model_id": "52b7b0dfd90d4308a2e3e4cba7f7f127",
       "version_major": 2,
       "version_minor": 0
      },
      "text/plain": [
       "  0%|          | 0/80 [00:00<?, ?it/s]"
      ]
     },
     "metadata": {},
     "output_type": "display_data"
    },
    {
     "name": "stdout",
     "output_type": "stream",
     "text": [
      "\n",
      "********************\n",
      "(50, 500, 80, 60)\n",
      "The NDCG score on validation dataset is:  0.22432635117185806\n"
     ]
    },
    {
     "data": {
      "application/vnd.jupyter.widget-view+json": {
       "model_id": "7eeb11949bb64742adbbff6c3de10477",
       "version_major": 2,
       "version_minor": 0
      },
      "text/plain": [
       "  0%|          | 0/80 [00:00<?, ?it/s]"
      ]
     },
     "metadata": {},
     "output_type": "display_data"
    },
    {
     "name": "stdout",
     "output_type": "stream",
     "text": [
      "\n",
      "********************\n",
      "(50, 500, 80, 70)\n",
      "The NDCG score on validation dataset is:  0.24373313388012485\n"
     ]
    },
    {
     "data": {
      "application/vnd.jupyter.widget-view+json": {
       "model_id": "04a100d2411e432195631f6c47023e37",
       "version_major": 2,
       "version_minor": 0
      },
      "text/plain": [
       "  0%|          | 0/80 [00:00<?, ?it/s]"
      ]
     },
     "metadata": {},
     "output_type": "display_data"
    },
    {
     "name": "stdout",
     "output_type": "stream",
     "text": [
      "\n",
      "********************\n",
      "(50, 500, 80, 80)\n",
      "The NDCG score on validation dataset is:  0.2542752467551498\n"
     ]
    },
    {
     "data": {
      "application/vnd.jupyter.widget-view+json": {
       "model_id": "4ba3de77d1434964bc15ad736563eac1",
       "version_major": 2,
       "version_minor": 0
      },
      "text/plain": [
       "  0%|          | 0/80 [00:00<?, ?it/s]"
      ]
     },
     "metadata": {},
     "output_type": "display_data"
    },
    {
     "name": "stdout",
     "output_type": "stream",
     "text": [
      "\n",
      "********************\n",
      "(50, 500, 80, 90)\n",
      "The NDCG score on validation dataset is:  0.25528470340910636\n"
     ]
    },
    {
     "data": {
      "application/vnd.jupyter.widget-view+json": {
       "model_id": "c5d605aee1b44d8d85d7c179212917b6",
       "version_major": 2,
       "version_minor": 0
      },
      "text/plain": [
       "  0%|          | 0/40 [00:00<?, ?it/s]"
      ]
     },
     "metadata": {},
     "output_type": "display_data"
    },
    {
     "name": "stdout",
     "output_type": "stream",
     "text": [
      "\n",
      "********************\n",
      "(50, 775, 40, 50)\n",
      "The NDCG score on validation dataset is:  0.12487876532339688\n"
     ]
    },
    {
     "data": {
      "application/vnd.jupyter.widget-view+json": {
       "model_id": "7e057d3fcd464b4db1ac8f72b6c05359",
       "version_major": 2,
       "version_minor": 0
      },
      "text/plain": [
       "  0%|          | 0/40 [00:00<?, ?it/s]"
      ]
     },
     "metadata": {},
     "output_type": "display_data"
    },
    {
     "name": "stdout",
     "output_type": "stream",
     "text": [
      "\n",
      "********************\n",
      "(50, 775, 40, 60)\n",
      "The NDCG score on validation dataset is:  0.1501770329913349\n"
     ]
    },
    {
     "data": {
      "application/vnd.jupyter.widget-view+json": {
       "model_id": "e2cc1e0be12a4de89c5027e8f6592026",
       "version_major": 2,
       "version_minor": 0
      },
      "text/plain": [
       "  0%|          | 0/40 [00:00<?, ?it/s]"
      ]
     },
     "metadata": {},
     "output_type": "display_data"
    },
    {
     "name": "stdout",
     "output_type": "stream",
     "text": [
      "\n",
      "********************\n",
      "(50, 775, 40, 70)\n",
      "The NDCG score on validation dataset is:  0.17407863502222873\n"
     ]
    },
    {
     "data": {
      "application/vnd.jupyter.widget-view+json": {
       "model_id": "ecd28864c6f74146a8a745c31b996e60",
       "version_major": 2,
       "version_minor": 0
      },
      "text/plain": [
       "  0%|          | 0/40 [00:00<?, ?it/s]"
      ]
     },
     "metadata": {},
     "output_type": "display_data"
    },
    {
     "name": "stdout",
     "output_type": "stream",
     "text": [
      "\n",
      "********************\n",
      "(50, 775, 40, 80)\n",
      "The NDCG score on validation dataset is:  0.18887703826254776\n"
     ]
    },
    {
     "data": {
      "application/vnd.jupyter.widget-view+json": {
       "model_id": "cba1d825df894187a469ae963c15d436",
       "version_major": 2,
       "version_minor": 0
      },
      "text/plain": [
       "  0%|          | 0/40 [00:00<?, ?it/s]"
      ]
     },
     "metadata": {},
     "output_type": "display_data"
    },
    {
     "name": "stdout",
     "output_type": "stream",
     "text": [
      "\n",
      "********************\n",
      "(50, 775, 40, 90)\n",
      "The NDCG score on validation dataset is:  0.2034804604643319\n"
     ]
    },
    {
     "data": {
      "application/vnd.jupyter.widget-view+json": {
       "model_id": "6baf41eec17d4248ab1836faa4b620a3",
       "version_major": 2,
       "version_minor": 0
      },
      "text/plain": [
       "  0%|          | 0/80 [00:00<?, ?it/s]"
      ]
     },
     "metadata": {},
     "output_type": "display_data"
    },
    {
     "name": "stdout",
     "output_type": "stream",
     "text": [
      "\n",
      "********************\n",
      "(50, 775, 80, 50)\n",
      "The NDCG score on validation dataset is:  0.1249633237574548\n"
     ]
    },
    {
     "data": {
      "application/vnd.jupyter.widget-view+json": {
       "model_id": "11cbba917e32498aaaff4e12874200c2",
       "version_major": 2,
       "version_minor": 0
      },
      "text/plain": [
       "  0%|          | 0/80 [00:00<?, ?it/s]"
      ]
     },
     "metadata": {},
     "output_type": "display_data"
    },
    {
     "name": "stdout",
     "output_type": "stream",
     "text": [
      "\n",
      "********************\n",
      "(50, 775, 80, 60)\n",
      "The NDCG score on validation dataset is:  0.1508001092763943\n"
     ]
    },
    {
     "data": {
      "application/vnd.jupyter.widget-view+json": {
       "model_id": "5ebf3f232c7c4bccb6aa3c6d99729e7b",
       "version_major": 2,
       "version_minor": 0
      },
      "text/plain": [
       "  0%|          | 0/80 [00:00<?, ?it/s]"
      ]
     },
     "metadata": {},
     "output_type": "display_data"
    },
    {
     "name": "stdout",
     "output_type": "stream",
     "text": [
      "\n",
      "********************\n",
      "(50, 775, 80, 70)\n",
      "The NDCG score on validation dataset is:  0.17439160491213873\n"
     ]
    },
    {
     "data": {
      "application/vnd.jupyter.widget-view+json": {
       "model_id": "5788c594214a41c3b8759c030d11abd4",
       "version_major": 2,
       "version_minor": 0
      },
      "text/plain": [
       "  0%|          | 0/80 [00:00<?, ?it/s]"
      ]
     },
     "metadata": {},
     "output_type": "display_data"
    },
    {
     "name": "stdout",
     "output_type": "stream",
     "text": [
      "\n",
      "********************\n",
      "(50, 775, 80, 80)\n",
      "The NDCG score on validation dataset is:  0.1890257013643902\n"
     ]
    },
    {
     "data": {
      "application/vnd.jupyter.widget-view+json": {
       "model_id": "d4580c3b8e924ae6961330c1f6df7e96",
       "version_major": 2,
       "version_minor": 0
      },
      "text/plain": [
       "  0%|          | 0/80 [00:00<?, ?it/s]"
      ]
     },
     "metadata": {},
     "output_type": "display_data"
    },
    {
     "name": "stdout",
     "output_type": "stream",
     "text": [
      "\n",
      "********************\n",
      "(50, 775, 80, 90)\n",
      "The NDCG score on validation dataset is:  0.20438926184886153\n"
     ]
    }
   ],
   "source": [
    "import itertools\n",
    "\n",
    "param_tuned_df = pd.DataFrame()\n",
    "\n",
    "# for different combinations of parameters train ALS Model\n",
    "for params in itertools.product(factors, regularization, iterations, alpha):\n",
    "    \n",
    "    model = implicit.als.AlternatingLeastSquares(factors = params[0], regularization=params[1], iterations=params[2], random_state=624)\n",
    "    \n",
    "    alpha = params[3] # The rate in which we'll increase our confidence\n",
    "    data = (sparse_item_user * alpha).astype('double')\n",
    "    \n",
    "    # fitting the model\n",
    "    model.fit(data)\n",
    "    \n",
    "    # Convert user vector and item vector obtained from model to csr_matrix\n",
    "    user_vecs = sparse.csr_matrix(model.user_factors)\n",
    "    item_vecs = sparse.csr_matrix(model.item_factors)\n",
    "    \n",
    "    print()\n",
    "    print('*'*20)\n",
    "    print(params)\n",
    "    \n",
    "    # calculate the validation NDCG score\n",
    "    ndcg_value = validation_ndcg_scoring(user_vecs, item_vecs, validation_df)\n",
    "    print('The NDCG score on validation dataset is: ', ndcg_value)\n",
    "    \n",
    "    param_tuned_df = param_tuned_df.append({'factors': params[0], 'regularization': params[1], 'iterations': params[2], 'alpha': params[3], 'ndcg_validation_score':ndcg_value}, ignore_index = True)"
   ]
  },
  {
   "cell_type": "code",
   "execution_count": null,
   "metadata": {
    "execution": {
     "iopub.execute_input": "2022-05-29T08:02:23.456603Z",
     "iopub.status.busy": "2022-05-29T08:02:23.455742Z",
     "iopub.status.idle": "2022-05-29T08:02:23.478912Z",
     "shell.execute_reply": "2022-05-29T08:02:23.478041Z",
     "shell.execute_reply.started": "2022-05-29T08:02:23.456559Z"
    },
    "id": "unAFWPtPPDWs",
    "outputId": "e77d4253-94f1-4b48-a2da-a14c815d4f6a"
   },
   "outputs": [
    {
     "data": {
      "text/html": [
       "<div>\n",
       "<style scoped>\n",
       "    .dataframe tbody tr th:only-of-type {\n",
       "        vertical-align: middle;\n",
       "    }\n",
       "\n",
       "    .dataframe tbody tr th {\n",
       "        vertical-align: top;\n",
       "    }\n",
       "\n",
       "    .dataframe thead th {\n",
       "        text-align: right;\n",
       "    }\n",
       "</style>\n",
       "<table border=\"1\" class=\"dataframe\">\n",
       "  <thead>\n",
       "    <tr style=\"text-align: right;\">\n",
       "      <th></th>\n",
       "      <th>factors</th>\n",
       "      <th>regularization</th>\n",
       "      <th>iterations</th>\n",
       "      <th>alpha</th>\n",
       "      <th>ndcg_validation_score</th>\n",
       "    </tr>\n",
       "  </thead>\n",
       "  <tbody>\n",
       "    <tr>\n",
       "      <th>28</th>\n",
       "      <td>20.0</td>\n",
       "      <td>425.0</td>\n",
       "      <td>80.0</td>\n",
       "      <td>80.0</td>\n",
       "      <td>0.259791</td>\n",
       "    </tr>\n",
       "    <tr>\n",
       "      <th>34</th>\n",
       "      <td>20.0</td>\n",
       "      <td>475.0</td>\n",
       "      <td>40.0</td>\n",
       "      <td>90.0</td>\n",
       "      <td>0.259701</td>\n",
       "    </tr>\n",
       "    <tr>\n",
       "      <th>39</th>\n",
       "      <td>20.0</td>\n",
       "      <td>475.0</td>\n",
       "      <td>80.0</td>\n",
       "      <td>90.0</td>\n",
       "      <td>0.259618</td>\n",
       "    </tr>\n",
       "    <tr>\n",
       "      <th>49</th>\n",
       "      <td>20.0</td>\n",
       "      <td>500.0</td>\n",
       "      <td>80.0</td>\n",
       "      <td>90.0</td>\n",
       "      <td>0.259566</td>\n",
       "    </tr>\n",
       "    <tr>\n",
       "      <th>29</th>\n",
       "      <td>20.0</td>\n",
       "      <td>425.0</td>\n",
       "      <td>80.0</td>\n",
       "      <td>90.0</td>\n",
       "      <td>0.258865</td>\n",
       "    </tr>\n",
       "    <tr>\n",
       "      <th>24</th>\n",
       "      <td>20.0</td>\n",
       "      <td>425.0</td>\n",
       "      <td>40.0</td>\n",
       "      <td>90.0</td>\n",
       "      <td>0.258763</td>\n",
       "    </tr>\n",
       "    <tr>\n",
       "      <th>6</th>\n",
       "      <td>20.0</td>\n",
       "      <td>325.0</td>\n",
       "      <td>80.0</td>\n",
       "      <td>60.0</td>\n",
       "      <td>0.258727</td>\n",
       "    </tr>\n",
       "    <tr>\n",
       "      <th>44</th>\n",
       "      <td>20.0</td>\n",
       "      <td>500.0</td>\n",
       "      <td>40.0</td>\n",
       "      <td>90.0</td>\n",
       "      <td>0.258719</td>\n",
       "    </tr>\n",
       "    <tr>\n",
       "      <th>38</th>\n",
       "      <td>20.0</td>\n",
       "      <td>475.0</td>\n",
       "      <td>80.0</td>\n",
       "      <td>80.0</td>\n",
       "      <td>0.258472</td>\n",
       "    </tr>\n",
       "    <tr>\n",
       "      <th>19</th>\n",
       "      <td>20.0</td>\n",
       "      <td>350.0</td>\n",
       "      <td>80.0</td>\n",
       "      <td>90.0</td>\n",
       "      <td>0.258458</td>\n",
       "    </tr>\n",
       "    <tr>\n",
       "      <th>23</th>\n",
       "      <td>20.0</td>\n",
       "      <td>425.0</td>\n",
       "      <td>40.0</td>\n",
       "      <td>80.0</td>\n",
       "      <td>0.258246</td>\n",
       "    </tr>\n",
       "    <tr>\n",
       "      <th>99</th>\n",
       "      <td>32.0</td>\n",
       "      <td>475.0</td>\n",
       "      <td>80.0</td>\n",
       "      <td>90.0</td>\n",
       "      <td>0.257855</td>\n",
       "    </tr>\n",
       "    <tr>\n",
       "      <th>17</th>\n",
       "      <td>20.0</td>\n",
       "      <td>350.0</td>\n",
       "      <td>80.0</td>\n",
       "      <td>70.0</td>\n",
       "      <td>0.257719</td>\n",
       "    </tr>\n",
       "    <tr>\n",
       "      <th>1</th>\n",
       "      <td>20.0</td>\n",
       "      <td>325.0</td>\n",
       "      <td>40.0</td>\n",
       "      <td>60.0</td>\n",
       "      <td>0.257626</td>\n",
       "    </tr>\n",
       "    <tr>\n",
       "      <th>12</th>\n",
       "      <td>20.0</td>\n",
       "      <td>350.0</td>\n",
       "      <td>40.0</td>\n",
       "      <td>70.0</td>\n",
       "      <td>0.257572</td>\n",
       "    </tr>\n",
       "    <tr>\n",
       "      <th>8</th>\n",
       "      <td>20.0</td>\n",
       "      <td>325.0</td>\n",
       "      <td>80.0</td>\n",
       "      <td>80.0</td>\n",
       "      <td>0.257120</td>\n",
       "    </tr>\n",
       "    <tr>\n",
       "      <th>16</th>\n",
       "      <td>20.0</td>\n",
       "      <td>350.0</td>\n",
       "      <td>80.0</td>\n",
       "      <td>60.0</td>\n",
       "      <td>0.256949</td>\n",
       "    </tr>\n",
       "    <tr>\n",
       "      <th>27</th>\n",
       "      <td>20.0</td>\n",
       "      <td>425.0</td>\n",
       "      <td>80.0</td>\n",
       "      <td>70.0</td>\n",
       "      <td>0.256854</td>\n",
       "    </tr>\n",
       "    <tr>\n",
       "      <th>88</th>\n",
       "      <td>32.0</td>\n",
       "      <td>425.0</td>\n",
       "      <td>80.0</td>\n",
       "      <td>80.0</td>\n",
       "      <td>0.256707</td>\n",
       "    </tr>\n",
       "    <tr>\n",
       "      <th>94</th>\n",
       "      <td>32.0</td>\n",
       "      <td>475.0</td>\n",
       "      <td>40.0</td>\n",
       "      <td>90.0</td>\n",
       "      <td>0.256548</td>\n",
       "    </tr>\n",
       "  </tbody>\n",
       "</table>\n",
       "</div>"
      ],
      "text/plain": [
       "    factors  regularization  iterations  alpha  ndcg_validation_score\n",
       "28     20.0           425.0        80.0   80.0               0.259791\n",
       "34     20.0           475.0        40.0   90.0               0.259701\n",
       "39     20.0           475.0        80.0   90.0               0.259618\n",
       "49     20.0           500.0        80.0   90.0               0.259566\n",
       "29     20.0           425.0        80.0   90.0               0.258865\n",
       "24     20.0           425.0        40.0   90.0               0.258763\n",
       "6      20.0           325.0        80.0   60.0               0.258727\n",
       "44     20.0           500.0        40.0   90.0               0.258719\n",
       "38     20.0           475.0        80.0   80.0               0.258472\n",
       "19     20.0           350.0        80.0   90.0               0.258458\n",
       "23     20.0           425.0        40.0   80.0               0.258246\n",
       "99     32.0           475.0        80.0   90.0               0.257855\n",
       "17     20.0           350.0        80.0   70.0               0.257719\n",
       "1      20.0           325.0        40.0   60.0               0.257626\n",
       "12     20.0           350.0        40.0   70.0               0.257572\n",
       "8      20.0           325.0        80.0   80.0               0.257120\n",
       "16     20.0           350.0        80.0   60.0               0.256949\n",
       "27     20.0           425.0        80.0   70.0               0.256854\n",
       "88     32.0           425.0        80.0   80.0               0.256707\n",
       "94     32.0           475.0        40.0   90.0               0.256548"
      ]
     },
     "execution_count": 82,
     "metadata": {},
     "output_type": "execute_result"
    }
   ],
   "source": [
    "param_tuned_df.sort_values(by=['ndcg_validation_score'], ascending=False).iloc[0:20,]\n"
   ]
  },
  {
   "cell_type": "markdown",
   "metadata": {
    "id": "UdDORq9EPDWt"
   },
   "source": [
    "### 1.1.4 Training the Final ALS Model with best Hyperparameters"
   ]
  },
  {
   "cell_type": "code",
   "execution_count": null,
   "metadata": {
    "execution": {
     "iopub.execute_input": "2022-05-29T08:11:46.443298Z",
     "iopub.status.busy": "2022-05-29T08:11:46.442903Z",
     "iopub.status.idle": "2022-05-29T08:11:46.450281Z",
     "shell.execute_reply": "2022-05-29T08:11:46.449216Z",
     "shell.execute_reply.started": "2022-05-29T08:11:46.443268Z"
    },
    "id": "suqeOSPBPDWt",
    "outputId": "92557336-0020-4adf-9ac6-1e30c1e4a083"
   },
   "outputs": [
    {
     "name": "stdout",
     "output_type": "stream",
     "text": [
      "[86, 22, 99, 91, 37, 4, 61, 78, 7, 34]\n"
     ]
    }
   ],
   "source": [
    "## Generating 10 random numbers from 0-100\n",
    "\n",
    "import random\n",
    "\n",
    "# to store the numbers\n",
    "random_nos = []\n",
    "\n",
    "for i in range(0,10):\n",
    "    n = random.randint(1, 100)\n",
    "    random_nos.append(n)\n",
    "\n",
    "print(random_nos)"
   ]
  },
  {
   "cell_type": "code",
   "execution_count": null,
   "metadata": {
    "colab": {
     "referenced_widgets": [
      "2705e99a39614f2cb6eaf52ba6dced9c",
      "1b5643c8a5b64086a6d640de270fcfb4",
      "93d3d493aa494c6186e409b0a6e2b92d",
      "e99ce4678a4b41e8861d9f920a1059bc",
      "338571aef5e64adabea0b953e6607cc4",
      "fed08231e0a14573b7a6dcb6ef9fefb1",
      "c69889f7b76c49a9855f10b4ee119833",
      "70efa0359b0b439eab1c24b1ebdc6318",
      "c1cd813cacf44d6e9ab155ff4d16ea96",
      "0a8cf10da3504ebbb008143f429dda10",
      "52ffc4ff4037473c9d5cc10c0f2951bb",
      "ef99329f172f4bd6be7cd96b32e4248b",
      "0bc11e66c3c941c59151d84d63255761",
      "4ecdeb88aad246cdb67399be916d1c08",
      "9cd4ecf2a6d946d3b0ebc18ea3928fe7",
      "ce57cd1192a9420f8c0de2683b31fe8e",
      "0cf5cb25a3354c6689365326761dbe1e",
      "a9404864a9774bbea4a7db2c77e9a393",
      "909f1c258c0a416e9a297db5116df1d3",
      "436de38e4ce04631ac3ea73d92d447be",
      "e4cd5c0543bb4ead8913115c051e89cf",
      "b5c83cabfabe4a23b7ceab96c1006343",
      "46c643bb38c145b290a5932ff849ee14",
      "7b6bd007a0fa4b8faabccc9bc07e851a",
      "fabd478d1c614fd287fbba45a7e61b5b",
      "6d36b849f7244ce38a8bc4c1c05d2eaa",
      "3538187d8106423a8035dd82ff6684fb",
      "7641b2ec3d21497dbaf448f8c9d30c53",
      "b8eea767a69c4bd19f07f4617bbadf2e",
      "c2b46d68cb0c4854aaf1f5ef8b72892c",
      "29ef598f0da8428db52c3a11be96c944",
      "39754b8d9b5d448cbef47f9f4669ba77",
      "74b8cfd05ff64530b867a48ba9905c04",
      "780d87d40c6a4302a15d19c9d09bd251",
      "4a1524f2522442b1bab0bf7215953a5e",
      "74a16b6ce0a54d57908fb386cf1c1bdb",
      "2f9ce02ac282472d87180e657c51bb29",
      "949a6eaaad9b448c9f62bb465cc5119e",
      "905554b1ff714b2097d77a3376cab614",
      "b304b10f798c40dcaadf1773770d005d",
      "d1f46a8bfeb447e2b48a937f64ab5fe6",
      "498f54072d974d89a908ae115c3f015a",
      "cf749f3eeb4744c9bad30ed06dde7db4",
      "051e71d36f1c48228d53a85f2b40002d",
      "3d47dd61c9e94fb48333001d23762f0e",
      "a68ac45d4dd54a899879e76af97e5bd1",
      "7ebb573d05e44018b089e954df578b2c",
      "57a19f8d3fdd40a7839902469fb13722",
      "28526fc8eea34676941c3c4fc484d366",
      "d457d4d762c44c0a9f057291bf36db9b",
      "0e0d1b2aeb5b4867a63d43e182939757",
      "7b8a4a0a790d497fa54ddc2a76b6ecdf",
      "8668a0e7c64e491bac0805f8a03b3599",
      "613a457db5864130b619032bd4a1c9c8",
      "3985d2bf45a642b787de29ec1d5c05e4",
      "1d152b9a75524303b41e50e72c8edf03",
      "65e545a598de43a1ad187eaa34bdeb05",
      "6d661dcafc8a4af797a041ef9f459ee4",
      "4962870a30364af7bfbbe189ca2e2b51",
      "40f37d0b102a4500af9e003be5dbd2e9",
      "409455b8c0a4420195b19fcddb023749",
      "b7ff293291c84d6290a0b689e805d2ef",
      "433ae8b1c43c4ce9849099a35f14fe5d",
      "ebfc312a986d415a96be0c9957835a25",
      "35639c605ffb4f38b3fdbed8f09a51bd",
      "d670ade988db4c909cecb6d309526dcb",
      "7daafa945f034ba499f7d5a52d1fa10d",
      "842ed5e7243541dfb1488a977f3ea661",
      "bb5e93fc67884e5396a5d62805840056",
      "83e62a7efae14ed0a7219f43176b8c23",
      "ba605624bad74dc6b5155e4c26403687",
      "3d7cc97c76df4fb98bc699505bb18778",
      "a061295d648a418cbe0b078dd740328c",
      "4435d4b97279494287991d07c16f55a0",
      "d0e44641cd354761b6f5289753fa953d",
      "dd98f6dd4d874fd9b71ec4d8f0e8e2c9",
      "8323fb73682642fca7ffcf971b34cd76",
      "a0f0cd51cf6847e99bfe47f1097e3906",
      "af7b580c4d004bdf99bf51d6015e3e15",
      "8f88d6ddbc2446a0a0b243cc14c16aa8",
      "a896fecb3f454c93a9af5926a8529645",
      "993185ddbed649199befa3dd1aa5ea36",
      "f051701627cb44f0bf928ed4f47fb079",
      "fb4fa3e4372941ffbb1b72d196acce6a",
      "6e58bded888146a8bf92e818f85f1cd9",
      "b9bc0f52dee243bbbb919aed29b82f49",
      "6e880d574d844566906882a5404af53f",
      "389b349f28824f9c8f3d2b2777f549c3",
      "1166987434fb40419edb0196e296fbd6",
      "6d21e499262a473f9a3d5001b9e064c4",
      "b410ffa442054a3489f5d4274f82af29",
      "5389bbe176cb494899fa5ef412b2ec81",
      "7cd56e00d6244a86991ab861bfda2566",
      "5aef94ed5dca4e4a90a6b5d396e31556",
      "f682e9df0c08482f9bc4e2c5576178e3",
      "4622f48d7f944174ba8c78203d624dbf",
      "e53ec70d605f4ccc99e47794328b5ff4",
      "a8d6063394a741828b6a35ca1f0bc594",
      "980562dc956d4694a7dff9b100aa8064",
      "29537653b12741b7bec9103d08d60a4f",
      "ae7e7954d14440c9b3856e0b7ef4eb48",
      "2c0186493ed14e4e9b1aec1d49484772",
      "5e1cb6581f8b4fe7949230bf2e3b58dc",
      "22711f640e9f4d38a47042ce75db0923",
      "92f4a7ab9bb4441f823fcf7a46d52286",
      "2618e1e7a7424ccba389e0b2282209ff",
      "321339acf4454a438b7ced0b77a0cad9",
      "399e137d433246089441e886a472a5ad",
      "0d5a7d58045d4bc6b40b036632f3409f",
      "382fa69e510e48e3be5e4374fe02de23"
     ]
    },
    "execution": {
     "iopub.execute_input": "2022-05-29T08:11:56.907623Z",
     "iopub.status.busy": "2022-05-29T08:11:56.906863Z",
     "iopub.status.idle": "2022-05-29T09:22:31.889887Z",
     "shell.execute_reply": "2022-05-29T09:22:31.889026Z",
     "shell.execute_reply.started": "2022-05-29T08:11:56.907568Z"
    },
    "id": "VVKPvie-PDWt",
    "outputId": "d382cb2c-8048-4f92-c36b-74426e7a1a92"
   },
   "outputs": [
    {
     "data": {
      "application/vnd.jupyter.widget-view+json": {
       "model_id": "2705e99a39614f2cb6eaf52ba6dced9c",
       "version_major": 2,
       "version_minor": 0
      },
      "text/plain": [
       "  0%|          | 0/80 [00:00<?, ?it/s]"
      ]
     },
     "metadata": {},
     "output_type": "display_data"
    },
    {
     "name": "stdout",
     "output_type": "stream",
     "text": [
      "********************\n"
     ]
    },
    {
     "data": {
      "application/vnd.jupyter.widget-view+json": {
       "model_id": "1b5643c8a5b64086a6d640de270fcfb4",
       "version_major": 2,
       "version_minor": 0
      },
      "text/plain": [
       "  0%|          | 0/80 [00:00<?, ?it/s]"
      ]
     },
     "metadata": {},
     "output_type": "display_data"
    },
    {
     "name": "stdout",
     "output_type": "stream",
     "text": [
      "********************\n"
     ]
    },
    {
     "data": {
      "application/vnd.jupyter.widget-view+json": {
       "model_id": "93d3d493aa494c6186e409b0a6e2b92d",
       "version_major": 2,
       "version_minor": 0
      },
      "text/plain": [
       "  0%|          | 0/80 [00:00<?, ?it/s]"
      ]
     },
     "metadata": {},
     "output_type": "display_data"
    },
    {
     "name": "stdout",
     "output_type": "stream",
     "text": [
      "********************\n"
     ]
    },
    {
     "data": {
      "application/vnd.jupyter.widget-view+json": {
       "model_id": "e99ce4678a4b41e8861d9f920a1059bc",
       "version_major": 2,
       "version_minor": 0
      },
      "text/plain": [
       "  0%|          | 0/80 [00:00<?, ?it/s]"
      ]
     },
     "metadata": {},
     "output_type": "display_data"
    },
    {
     "name": "stdout",
     "output_type": "stream",
     "text": [
      "********************\n"
     ]
    },
    {
     "data": {
      "application/vnd.jupyter.widget-view+json": {
       "model_id": "338571aef5e64adabea0b953e6607cc4",
       "version_major": 2,
       "version_minor": 0
      },
      "text/plain": [
       "  0%|          | 0/80 [00:00<?, ?it/s]"
      ]
     },
     "metadata": {},
     "output_type": "display_data"
    },
    {
     "name": "stdout",
     "output_type": "stream",
     "text": [
      "********************\n"
     ]
    },
    {
     "data": {
      "application/vnd.jupyter.widget-view+json": {
       "model_id": "fed08231e0a14573b7a6dcb6ef9fefb1",
       "version_major": 2,
       "version_minor": 0
      },
      "text/plain": [
       "  0%|          | 0/80 [00:00<?, ?it/s]"
      ]
     },
     "metadata": {},
     "output_type": "display_data"
    },
    {
     "name": "stdout",
     "output_type": "stream",
     "text": [
      "********************\n"
     ]
    },
    {
     "data": {
      "application/vnd.jupyter.widget-view+json": {
       "model_id": "c69889f7b76c49a9855f10b4ee119833",
       "version_major": 2,
       "version_minor": 0
      },
      "text/plain": [
       "  0%|          | 0/80 [00:00<?, ?it/s]"
      ]
     },
     "metadata": {},
     "output_type": "display_data"
    },
    {
     "name": "stdout",
     "output_type": "stream",
     "text": [
      "********************\n"
     ]
    },
    {
     "data": {
      "application/vnd.jupyter.widget-view+json": {
       "model_id": "70efa0359b0b439eab1c24b1ebdc6318",
       "version_major": 2,
       "version_minor": 0
      },
      "text/plain": [
       "  0%|          | 0/80 [00:00<?, ?it/s]"
      ]
     },
     "metadata": {},
     "output_type": "display_data"
    },
    {
     "name": "stdout",
     "output_type": "stream",
     "text": [
      "********************\n"
     ]
    },
    {
     "data": {
      "application/vnd.jupyter.widget-view+json": {
       "model_id": "c1cd813cacf44d6e9ab155ff4d16ea96",
       "version_major": 2,
       "version_minor": 0
      },
      "text/plain": [
       "  0%|          | 0/80 [00:00<?, ?it/s]"
      ]
     },
     "metadata": {},
     "output_type": "display_data"
    },
    {
     "name": "stdout",
     "output_type": "stream",
     "text": [
      "********************\n"
     ]
    },
    {
     "data": {
      "application/vnd.jupyter.widget-view+json": {
       "model_id": "0a8cf10da3504ebbb008143f429dda10",
       "version_major": 2,
       "version_minor": 0
      },
      "text/plain": [
       "  0%|          | 0/80 [00:00<?, ?it/s]"
      ]
     },
     "metadata": {},
     "output_type": "display_data"
    },
    {
     "name": "stdout",
     "output_type": "stream",
     "text": [
      "********************\n"
     ]
    },
    {
     "data": {
      "application/vnd.jupyter.widget-view+json": {
       "model_id": "52ffc4ff4037473c9d5cc10c0f2951bb",
       "version_major": 2,
       "version_minor": 0
      },
      "text/plain": [
       "  0%|          | 0/40 [00:00<?, ?it/s]"
      ]
     },
     "metadata": {},
     "output_type": "display_data"
    },
    {
     "name": "stdout",
     "output_type": "stream",
     "text": [
      "********************\n"
     ]
    },
    {
     "data": {
      "application/vnd.jupyter.widget-view+json": {
       "model_id": "ef99329f172f4bd6be7cd96b32e4248b",
       "version_major": 2,
       "version_minor": 0
      },
      "text/plain": [
       "  0%|          | 0/40 [00:00<?, ?it/s]"
      ]
     },
     "metadata": {},
     "output_type": "display_data"
    },
    {
     "name": "stdout",
     "output_type": "stream",
     "text": [
      "********************\n"
     ]
    },
    {
     "data": {
      "application/vnd.jupyter.widget-view+json": {
       "model_id": "0bc11e66c3c941c59151d84d63255761",
       "version_major": 2,
       "version_minor": 0
      },
      "text/plain": [
       "  0%|          | 0/40 [00:00<?, ?it/s]"
      ]
     },
     "metadata": {},
     "output_type": "display_data"
    },
    {
     "name": "stdout",
     "output_type": "stream",
     "text": [
      "********************\n"
     ]
    },
    {
     "data": {
      "application/vnd.jupyter.widget-view+json": {
       "model_id": "4ecdeb88aad246cdb67399be916d1c08",
       "version_major": 2,
       "version_minor": 0
      },
      "text/plain": [
       "  0%|          | 0/40 [00:00<?, ?it/s]"
      ]
     },
     "metadata": {},
     "output_type": "display_data"
    },
    {
     "name": "stdout",
     "output_type": "stream",
     "text": [
      "********************\n"
     ]
    },
    {
     "data": {
      "application/vnd.jupyter.widget-view+json": {
       "model_id": "9cd4ecf2a6d946d3b0ebc18ea3928fe7",
       "version_major": 2,
       "version_minor": 0
      },
      "text/plain": [
       "  0%|          | 0/40 [00:00<?, ?it/s]"
      ]
     },
     "metadata": {},
     "output_type": "display_data"
    },
    {
     "name": "stdout",
     "output_type": "stream",
     "text": [
      "********************\n"
     ]
    },
    {
     "data": {
      "application/vnd.jupyter.widget-view+json": {
       "model_id": "ce57cd1192a9420f8c0de2683b31fe8e",
       "version_major": 2,
       "version_minor": 0
      },
      "text/plain": [
       "  0%|          | 0/40 [00:00<?, ?it/s]"
      ]
     },
     "metadata": {},
     "output_type": "display_data"
    },
    {
     "name": "stdout",
     "output_type": "stream",
     "text": [
      "********************\n"
     ]
    },
    {
     "data": {
      "application/vnd.jupyter.widget-view+json": {
       "model_id": "0cf5cb25a3354c6689365326761dbe1e",
       "version_major": 2,
       "version_minor": 0
      },
      "text/plain": [
       "  0%|          | 0/40 [00:00<?, ?it/s]"
      ]
     },
     "metadata": {},
     "output_type": "display_data"
    },
    {
     "name": "stdout",
     "output_type": "stream",
     "text": [
      "********************\n"
     ]
    },
    {
     "data": {
      "application/vnd.jupyter.widget-view+json": {
       "model_id": "a9404864a9774bbea4a7db2c77e9a393",
       "version_major": 2,
       "version_minor": 0
      },
      "text/plain": [
       "  0%|          | 0/40 [00:00<?, ?it/s]"
      ]
     },
     "metadata": {},
     "output_type": "display_data"
    },
    {
     "name": "stdout",
     "output_type": "stream",
     "text": [
      "********************\n"
     ]
    },
    {
     "data": {
      "application/vnd.jupyter.widget-view+json": {
       "model_id": "909f1c258c0a416e9a297db5116df1d3",
       "version_major": 2,
       "version_minor": 0
      },
      "text/plain": [
       "  0%|          | 0/40 [00:00<?, ?it/s]"
      ]
     },
     "metadata": {},
     "output_type": "display_data"
    },
    {
     "name": "stdout",
     "output_type": "stream",
     "text": [
      "********************\n"
     ]
    },
    {
     "data": {
      "application/vnd.jupyter.widget-view+json": {
       "model_id": "436de38e4ce04631ac3ea73d92d447be",
       "version_major": 2,
       "version_minor": 0
      },
      "text/plain": [
       "  0%|          | 0/40 [00:00<?, ?it/s]"
      ]
     },
     "metadata": {},
     "output_type": "display_data"
    },
    {
     "name": "stdout",
     "output_type": "stream",
     "text": [
      "********************\n"
     ]
    },
    {
     "data": {
      "application/vnd.jupyter.widget-view+json": {
       "model_id": "e4cd5c0543bb4ead8913115c051e89cf",
       "version_major": 2,
       "version_minor": 0
      },
      "text/plain": [
       "  0%|          | 0/80 [00:00<?, ?it/s]"
      ]
     },
     "metadata": {},
     "output_type": "display_data"
    },
    {
     "name": "stdout",
     "output_type": "stream",
     "text": [
      "********************\n"
     ]
    },
    {
     "data": {
      "application/vnd.jupyter.widget-view+json": {
       "model_id": "b5c83cabfabe4a23b7ceab96c1006343",
       "version_major": 2,
       "version_minor": 0
      },
      "text/plain": [
       "  0%|          | 0/80 [00:00<?, ?it/s]"
      ]
     },
     "metadata": {},
     "output_type": "display_data"
    },
    {
     "name": "stdout",
     "output_type": "stream",
     "text": [
      "********************\n"
     ]
    },
    {
     "data": {
      "application/vnd.jupyter.widget-view+json": {
       "model_id": "46c643bb38c145b290a5932ff849ee14",
       "version_major": 2,
       "version_minor": 0
      },
      "text/plain": [
       "  0%|          | 0/80 [00:00<?, ?it/s]"
      ]
     },
     "metadata": {},
     "output_type": "display_data"
    },
    {
     "name": "stdout",
     "output_type": "stream",
     "text": [
      "********************\n"
     ]
    },
    {
     "data": {
      "application/vnd.jupyter.widget-view+json": {
       "model_id": "7b6bd007a0fa4b8faabccc9bc07e851a",
       "version_major": 2,
       "version_minor": 0
      },
      "text/plain": [
       "  0%|          | 0/80 [00:00<?, ?it/s]"
      ]
     },
     "metadata": {},
     "output_type": "display_data"
    },
    {
     "name": "stdout",
     "output_type": "stream",
     "text": [
      "********************\n"
     ]
    },
    {
     "data": {
      "application/vnd.jupyter.widget-view+json": {
       "model_id": "fabd478d1c614fd287fbba45a7e61b5b",
       "version_major": 2,
       "version_minor": 0
      },
      "text/plain": [
       "  0%|          | 0/80 [00:00<?, ?it/s]"
      ]
     },
     "metadata": {},
     "output_type": "display_data"
    },
    {
     "name": "stdout",
     "output_type": "stream",
     "text": [
      "********************\n"
     ]
    },
    {
     "data": {
      "application/vnd.jupyter.widget-view+json": {
       "model_id": "6d36b849f7244ce38a8bc4c1c05d2eaa",
       "version_major": 2,
       "version_minor": 0
      },
      "text/plain": [
       "  0%|          | 0/80 [00:00<?, ?it/s]"
      ]
     },
     "metadata": {},
     "output_type": "display_data"
    },
    {
     "name": "stdout",
     "output_type": "stream",
     "text": [
      "********************\n"
     ]
    },
    {
     "data": {
      "application/vnd.jupyter.widget-view+json": {
       "model_id": "3538187d8106423a8035dd82ff6684fb",
       "version_major": 2,
       "version_minor": 0
      },
      "text/plain": [
       "  0%|          | 0/80 [00:00<?, ?it/s]"
      ]
     },
     "metadata": {},
     "output_type": "display_data"
    },
    {
     "name": "stdout",
     "output_type": "stream",
     "text": [
      "********************\n"
     ]
    },
    {
     "data": {
      "application/vnd.jupyter.widget-view+json": {
       "model_id": "7641b2ec3d21497dbaf448f8c9d30c53",
       "version_major": 2,
       "version_minor": 0
      },
      "text/plain": [
       "  0%|          | 0/80 [00:00<?, ?it/s]"
      ]
     },
     "metadata": {},
     "output_type": "display_data"
    },
    {
     "name": "stdout",
     "output_type": "stream",
     "text": [
      "********************\n"
     ]
    },
    {
     "data": {
      "application/vnd.jupyter.widget-view+json": {
       "model_id": "b8eea767a69c4bd19f07f4617bbadf2e",
       "version_major": 2,
       "version_minor": 0
      },
      "text/plain": [
       "  0%|          | 0/80 [00:00<?, ?it/s]"
      ]
     },
     "metadata": {},
     "output_type": "display_data"
    },
    {
     "name": "stdout",
     "output_type": "stream",
     "text": [
      "********************\n"
     ]
    },
    {
     "data": {
      "application/vnd.jupyter.widget-view+json": {
       "model_id": "c2b46d68cb0c4854aaf1f5ef8b72892c",
       "version_major": 2,
       "version_minor": 0
      },
      "text/plain": [
       "  0%|          | 0/80 [00:00<?, ?it/s]"
      ]
     },
     "metadata": {},
     "output_type": "display_data"
    },
    {
     "name": "stdout",
     "output_type": "stream",
     "text": [
      "********************\n"
     ]
    },
    {
     "data": {
      "application/vnd.jupyter.widget-view+json": {
       "model_id": "29ef598f0da8428db52c3a11be96c944",
       "version_major": 2,
       "version_minor": 0
      },
      "text/plain": [
       "  0%|          | 0/80 [00:00<?, ?it/s]"
      ]
     },
     "metadata": {},
     "output_type": "display_data"
    },
    {
     "name": "stdout",
     "output_type": "stream",
     "text": [
      "********************\n"
     ]
    },
    {
     "data": {
      "application/vnd.jupyter.widget-view+json": {
       "model_id": "39754b8d9b5d448cbef47f9f4669ba77",
       "version_major": 2,
       "version_minor": 0
      },
      "text/plain": [
       "  0%|          | 0/80 [00:00<?, ?it/s]"
      ]
     },
     "metadata": {},
     "output_type": "display_data"
    },
    {
     "name": "stdout",
     "output_type": "stream",
     "text": [
      "********************\n"
     ]
    },
    {
     "data": {
      "application/vnd.jupyter.widget-view+json": {
       "model_id": "74b8cfd05ff64530b867a48ba9905c04",
       "version_major": 2,
       "version_minor": 0
      },
      "text/plain": [
       "  0%|          | 0/80 [00:00<?, ?it/s]"
      ]
     },
     "metadata": {},
     "output_type": "display_data"
    },
    {
     "name": "stdout",
     "output_type": "stream",
     "text": [
      "********************\n"
     ]
    },
    {
     "data": {
      "application/vnd.jupyter.widget-view+json": {
       "model_id": "780d87d40c6a4302a15d19c9d09bd251",
       "version_major": 2,
       "version_minor": 0
      },
      "text/plain": [
       "  0%|          | 0/80 [00:00<?, ?it/s]"
      ]
     },
     "metadata": {},
     "output_type": "display_data"
    },
    {
     "name": "stdout",
     "output_type": "stream",
     "text": [
      "********************\n"
     ]
    },
    {
     "data": {
      "application/vnd.jupyter.widget-view+json": {
       "model_id": "4a1524f2522442b1bab0bf7215953a5e",
       "version_major": 2,
       "version_minor": 0
      },
      "text/plain": [
       "  0%|          | 0/80 [00:00<?, ?it/s]"
      ]
     },
     "metadata": {},
     "output_type": "display_data"
    },
    {
     "name": "stdout",
     "output_type": "stream",
     "text": [
      "********************\n"
     ]
    },
    {
     "data": {
      "application/vnd.jupyter.widget-view+json": {
       "model_id": "74a16b6ce0a54d57908fb386cf1c1bdb",
       "version_major": 2,
       "version_minor": 0
      },
      "text/plain": [
       "  0%|          | 0/80 [00:00<?, ?it/s]"
      ]
     },
     "metadata": {},
     "output_type": "display_data"
    },
    {
     "name": "stdout",
     "output_type": "stream",
     "text": [
      "********************\n"
     ]
    },
    {
     "data": {
      "application/vnd.jupyter.widget-view+json": {
       "model_id": "2f9ce02ac282472d87180e657c51bb29",
       "version_major": 2,
       "version_minor": 0
      },
      "text/plain": [
       "  0%|          | 0/80 [00:00<?, ?it/s]"
      ]
     },
     "metadata": {},
     "output_type": "display_data"
    },
    {
     "name": "stdout",
     "output_type": "stream",
     "text": [
      "********************\n"
     ]
    },
    {
     "data": {
      "application/vnd.jupyter.widget-view+json": {
       "model_id": "949a6eaaad9b448c9f62bb465cc5119e",
       "version_major": 2,
       "version_minor": 0
      },
      "text/plain": [
       "  0%|          | 0/80 [00:00<?, ?it/s]"
      ]
     },
     "metadata": {},
     "output_type": "display_data"
    },
    {
     "name": "stdout",
     "output_type": "stream",
     "text": [
      "********************\n"
     ]
    },
    {
     "data": {
      "application/vnd.jupyter.widget-view+json": {
       "model_id": "905554b1ff714b2097d77a3376cab614",
       "version_major": 2,
       "version_minor": 0
      },
      "text/plain": [
       "  0%|          | 0/80 [00:00<?, ?it/s]"
      ]
     },
     "metadata": {},
     "output_type": "display_data"
    },
    {
     "name": "stdout",
     "output_type": "stream",
     "text": [
      "********************\n"
     ]
    },
    {
     "data": {
      "application/vnd.jupyter.widget-view+json": {
       "model_id": "b304b10f798c40dcaadf1773770d005d",
       "version_major": 2,
       "version_minor": 0
      },
      "text/plain": [
       "  0%|          | 0/80 [00:00<?, ?it/s]"
      ]
     },
     "metadata": {},
     "output_type": "display_data"
    },
    {
     "name": "stdout",
     "output_type": "stream",
     "text": [
      "********************\n"
     ]
    },
    {
     "data": {
      "application/vnd.jupyter.widget-view+json": {
       "model_id": "d1f46a8bfeb447e2b48a937f64ab5fe6",
       "version_major": 2,
       "version_minor": 0
      },
      "text/plain": [
       "  0%|          | 0/80 [00:00<?, ?it/s]"
      ]
     },
     "metadata": {},
     "output_type": "display_data"
    },
    {
     "name": "stdout",
     "output_type": "stream",
     "text": [
      "********************\n"
     ]
    },
    {
     "data": {
      "application/vnd.jupyter.widget-view+json": {
       "model_id": "498f54072d974d89a908ae115c3f015a",
       "version_major": 2,
       "version_minor": 0
      },
      "text/plain": [
       "  0%|          | 0/80 [00:00<?, ?it/s]"
      ]
     },
     "metadata": {},
     "output_type": "display_data"
    },
    {
     "name": "stdout",
     "output_type": "stream",
     "text": [
      "********************\n"
     ]
    },
    {
     "data": {
      "application/vnd.jupyter.widget-view+json": {
       "model_id": "cf749f3eeb4744c9bad30ed06dde7db4",
       "version_major": 2,
       "version_minor": 0
      },
      "text/plain": [
       "  0%|          | 0/80 [00:00<?, ?it/s]"
      ]
     },
     "metadata": {},
     "output_type": "display_data"
    },
    {
     "name": "stdout",
     "output_type": "stream",
     "text": [
      "********************\n"
     ]
    },
    {
     "data": {
      "application/vnd.jupyter.widget-view+json": {
       "model_id": "051e71d36f1c48228d53a85f2b40002d",
       "version_major": 2,
       "version_minor": 0
      },
      "text/plain": [
       "  0%|          | 0/80 [00:00<?, ?it/s]"
      ]
     },
     "metadata": {},
     "output_type": "display_data"
    },
    {
     "name": "stdout",
     "output_type": "stream",
     "text": [
      "********************\n"
     ]
    },
    {
     "data": {
      "application/vnd.jupyter.widget-view+json": {
       "model_id": "3d47dd61c9e94fb48333001d23762f0e",
       "version_major": 2,
       "version_minor": 0
      },
      "text/plain": [
       "  0%|          | 0/80 [00:00<?, ?it/s]"
      ]
     },
     "metadata": {},
     "output_type": "display_data"
    },
    {
     "name": "stdout",
     "output_type": "stream",
     "text": [
      "********************\n"
     ]
    },
    {
     "data": {
      "application/vnd.jupyter.widget-view+json": {
       "model_id": "a68ac45d4dd54a899879e76af97e5bd1",
       "version_major": 2,
       "version_minor": 0
      },
      "text/plain": [
       "  0%|          | 0/80 [00:00<?, ?it/s]"
      ]
     },
     "metadata": {},
     "output_type": "display_data"
    },
    {
     "name": "stdout",
     "output_type": "stream",
     "text": [
      "********************\n"
     ]
    },
    {
     "data": {
      "application/vnd.jupyter.widget-view+json": {
       "model_id": "7ebb573d05e44018b089e954df578b2c",
       "version_major": 2,
       "version_minor": 0
      },
      "text/plain": [
       "  0%|          | 0/80 [00:00<?, ?it/s]"
      ]
     },
     "metadata": {},
     "output_type": "display_data"
    },
    {
     "name": "stdout",
     "output_type": "stream",
     "text": [
      "********************\n"
     ]
    },
    {
     "data": {
      "application/vnd.jupyter.widget-view+json": {
       "model_id": "57a19f8d3fdd40a7839902469fb13722",
       "version_major": 2,
       "version_minor": 0
      },
      "text/plain": [
       "  0%|          | 0/80 [00:00<?, ?it/s]"
      ]
     },
     "metadata": {},
     "output_type": "display_data"
    },
    {
     "name": "stdout",
     "output_type": "stream",
     "text": [
      "********************\n"
     ]
    },
    {
     "data": {
      "application/vnd.jupyter.widget-view+json": {
       "model_id": "28526fc8eea34676941c3c4fc484d366",
       "version_major": 2,
       "version_minor": 0
      },
      "text/plain": [
       "  0%|          | 0/80 [00:00<?, ?it/s]"
      ]
     },
     "metadata": {},
     "output_type": "display_data"
    },
    {
     "name": "stdout",
     "output_type": "stream",
     "text": [
      "********************\n"
     ]
    },
    {
     "data": {
      "application/vnd.jupyter.widget-view+json": {
       "model_id": "d457d4d762c44c0a9f057291bf36db9b",
       "version_major": 2,
       "version_minor": 0
      },
      "text/plain": [
       "  0%|          | 0/80 [00:00<?, ?it/s]"
      ]
     },
     "metadata": {},
     "output_type": "display_data"
    },
    {
     "name": "stdout",
     "output_type": "stream",
     "text": [
      "********************\n"
     ]
    },
    {
     "data": {
      "application/vnd.jupyter.widget-view+json": {
       "model_id": "0e0d1b2aeb5b4867a63d43e182939757",
       "version_major": 2,
       "version_minor": 0
      },
      "text/plain": [
       "  0%|          | 0/40 [00:00<?, ?it/s]"
      ]
     },
     "metadata": {},
     "output_type": "display_data"
    },
    {
     "name": "stdout",
     "output_type": "stream",
     "text": [
      "********************\n"
     ]
    },
    {
     "data": {
      "application/vnd.jupyter.widget-view+json": {
       "model_id": "7b8a4a0a790d497fa54ddc2a76b6ecdf",
       "version_major": 2,
       "version_minor": 0
      },
      "text/plain": [
       "  0%|          | 0/40 [00:00<?, ?it/s]"
      ]
     },
     "metadata": {},
     "output_type": "display_data"
    },
    {
     "name": "stdout",
     "output_type": "stream",
     "text": [
      "********************\n"
     ]
    },
    {
     "data": {
      "application/vnd.jupyter.widget-view+json": {
       "model_id": "8668a0e7c64e491bac0805f8a03b3599",
       "version_major": 2,
       "version_minor": 0
      },
      "text/plain": [
       "  0%|          | 0/40 [00:00<?, ?it/s]"
      ]
     },
     "metadata": {},
     "output_type": "display_data"
    },
    {
     "name": "stdout",
     "output_type": "stream",
     "text": [
      "********************\n"
     ]
    },
    {
     "data": {
      "application/vnd.jupyter.widget-view+json": {
       "model_id": "613a457db5864130b619032bd4a1c9c8",
       "version_major": 2,
       "version_minor": 0
      },
      "text/plain": [
       "  0%|          | 0/40 [00:00<?, ?it/s]"
      ]
     },
     "metadata": {},
     "output_type": "display_data"
    },
    {
     "name": "stdout",
     "output_type": "stream",
     "text": [
      "********************\n"
     ]
    },
    {
     "data": {
      "application/vnd.jupyter.widget-view+json": {
       "model_id": "3985d2bf45a642b787de29ec1d5c05e4",
       "version_major": 2,
       "version_minor": 0
      },
      "text/plain": [
       "  0%|          | 0/40 [00:00<?, ?it/s]"
      ]
     },
     "metadata": {},
     "output_type": "display_data"
    },
    {
     "name": "stdout",
     "output_type": "stream",
     "text": [
      "********************\n"
     ]
    },
    {
     "data": {
      "application/vnd.jupyter.widget-view+json": {
       "model_id": "1d152b9a75524303b41e50e72c8edf03",
       "version_major": 2,
       "version_minor": 0
      },
      "text/plain": [
       "  0%|          | 0/40 [00:00<?, ?it/s]"
      ]
     },
     "metadata": {},
     "output_type": "display_data"
    },
    {
     "name": "stdout",
     "output_type": "stream",
     "text": [
      "********************\n"
     ]
    },
    {
     "data": {
      "application/vnd.jupyter.widget-view+json": {
       "model_id": "65e545a598de43a1ad187eaa34bdeb05",
       "version_major": 2,
       "version_minor": 0
      },
      "text/plain": [
       "  0%|          | 0/40 [00:00<?, ?it/s]"
      ]
     },
     "metadata": {},
     "output_type": "display_data"
    },
    {
     "name": "stdout",
     "output_type": "stream",
     "text": [
      "********************\n"
     ]
    },
    {
     "data": {
      "application/vnd.jupyter.widget-view+json": {
       "model_id": "6d661dcafc8a4af797a041ef9f459ee4",
       "version_major": 2,
       "version_minor": 0
      },
      "text/plain": [
       "  0%|          | 0/40 [00:00<?, ?it/s]"
      ]
     },
     "metadata": {},
     "output_type": "display_data"
    },
    {
     "name": "stdout",
     "output_type": "stream",
     "text": [
      "********************\n"
     ]
    },
    {
     "data": {
      "application/vnd.jupyter.widget-view+json": {
       "model_id": "4962870a30364af7bfbbe189ca2e2b51",
       "version_major": 2,
       "version_minor": 0
      },
      "text/plain": [
       "  0%|          | 0/40 [00:00<?, ?it/s]"
      ]
     },
     "metadata": {},
     "output_type": "display_data"
    },
    {
     "name": "stdout",
     "output_type": "stream",
     "text": [
      "********************\n"
     ]
    },
    {
     "data": {
      "application/vnd.jupyter.widget-view+json": {
       "model_id": "40f37d0b102a4500af9e003be5dbd2e9",
       "version_major": 2,
       "version_minor": 0
      },
      "text/plain": [
       "  0%|          | 0/40 [00:00<?, ?it/s]"
      ]
     },
     "metadata": {},
     "output_type": "display_data"
    },
    {
     "name": "stdout",
     "output_type": "stream",
     "text": [
      "********************\n"
     ]
    },
    {
     "data": {
      "application/vnd.jupyter.widget-view+json": {
       "model_id": "409455b8c0a4420195b19fcddb023749",
       "version_major": 2,
       "version_minor": 0
      },
      "text/plain": [
       "  0%|          | 0/80 [00:00<?, ?it/s]"
      ]
     },
     "metadata": {},
     "output_type": "display_data"
    },
    {
     "name": "stdout",
     "output_type": "stream",
     "text": [
      "********************\n"
     ]
    },
    {
     "data": {
      "application/vnd.jupyter.widget-view+json": {
       "model_id": "b7ff293291c84d6290a0b689e805d2ef",
       "version_major": 2,
       "version_minor": 0
      },
      "text/plain": [
       "  0%|          | 0/80 [00:00<?, ?it/s]"
      ]
     },
     "metadata": {},
     "output_type": "display_data"
    },
    {
     "name": "stdout",
     "output_type": "stream",
     "text": [
      "********************\n"
     ]
    },
    {
     "data": {
      "application/vnd.jupyter.widget-view+json": {
       "model_id": "433ae8b1c43c4ce9849099a35f14fe5d",
       "version_major": 2,
       "version_minor": 0
      },
      "text/plain": [
       "  0%|          | 0/80 [00:00<?, ?it/s]"
      ]
     },
     "metadata": {},
     "output_type": "display_data"
    },
    {
     "name": "stdout",
     "output_type": "stream",
     "text": [
      "********************\n"
     ]
    },
    {
     "data": {
      "application/vnd.jupyter.widget-view+json": {
       "model_id": "ebfc312a986d415a96be0c9957835a25",
       "version_major": 2,
       "version_minor": 0
      },
      "text/plain": [
       "  0%|          | 0/80 [00:00<?, ?it/s]"
      ]
     },
     "metadata": {},
     "output_type": "display_data"
    },
    {
     "name": "stdout",
     "output_type": "stream",
     "text": [
      "********************\n"
     ]
    },
    {
     "data": {
      "application/vnd.jupyter.widget-view+json": {
       "model_id": "35639c605ffb4f38b3fdbed8f09a51bd",
       "version_major": 2,
       "version_minor": 0
      },
      "text/plain": [
       "  0%|          | 0/80 [00:00<?, ?it/s]"
      ]
     },
     "metadata": {},
     "output_type": "display_data"
    },
    {
     "name": "stdout",
     "output_type": "stream",
     "text": [
      "********************\n"
     ]
    },
    {
     "data": {
      "application/vnd.jupyter.widget-view+json": {
       "model_id": "d670ade988db4c909cecb6d309526dcb",
       "version_major": 2,
       "version_minor": 0
      },
      "text/plain": [
       "  0%|          | 0/80 [00:00<?, ?it/s]"
      ]
     },
     "metadata": {},
     "output_type": "display_data"
    },
    {
     "name": "stdout",
     "output_type": "stream",
     "text": [
      "********************\n"
     ]
    },
    {
     "data": {
      "application/vnd.jupyter.widget-view+json": {
       "model_id": "7daafa945f034ba499f7d5a52d1fa10d",
       "version_major": 2,
       "version_minor": 0
      },
      "text/plain": [
       "  0%|          | 0/80 [00:00<?, ?it/s]"
      ]
     },
     "metadata": {},
     "output_type": "display_data"
    },
    {
     "name": "stdout",
     "output_type": "stream",
     "text": [
      "********************\n"
     ]
    },
    {
     "data": {
      "application/vnd.jupyter.widget-view+json": {
       "model_id": "842ed5e7243541dfb1488a977f3ea661",
       "version_major": 2,
       "version_minor": 0
      },
      "text/plain": [
       "  0%|          | 0/80 [00:00<?, ?it/s]"
      ]
     },
     "metadata": {},
     "output_type": "display_data"
    },
    {
     "name": "stdout",
     "output_type": "stream",
     "text": [
      "********************\n"
     ]
    },
    {
     "data": {
      "application/vnd.jupyter.widget-view+json": {
       "model_id": "bb5e93fc67884e5396a5d62805840056",
       "version_major": 2,
       "version_minor": 0
      },
      "text/plain": [
       "  0%|          | 0/80 [00:00<?, ?it/s]"
      ]
     },
     "metadata": {},
     "output_type": "display_data"
    },
    {
     "name": "stdout",
     "output_type": "stream",
     "text": [
      "********************\n"
     ]
    },
    {
     "data": {
      "application/vnd.jupyter.widget-view+json": {
       "model_id": "83e62a7efae14ed0a7219f43176b8c23",
       "version_major": 2,
       "version_minor": 0
      },
      "text/plain": [
       "  0%|          | 0/80 [00:00<?, ?it/s]"
      ]
     },
     "metadata": {},
     "output_type": "display_data"
    },
    {
     "name": "stdout",
     "output_type": "stream",
     "text": [
      "********************\n"
     ]
    },
    {
     "data": {
      "application/vnd.jupyter.widget-view+json": {
       "model_id": "ba605624bad74dc6b5155e4c26403687",
       "version_major": 2,
       "version_minor": 0
      },
      "text/plain": [
       "  0%|          | 0/40 [00:00<?, ?it/s]"
      ]
     },
     "metadata": {},
     "output_type": "display_data"
    },
    {
     "name": "stdout",
     "output_type": "stream",
     "text": [
      "********************\n"
     ]
    },
    {
     "data": {
      "application/vnd.jupyter.widget-view+json": {
       "model_id": "3d7cc97c76df4fb98bc699505bb18778",
       "version_major": 2,
       "version_minor": 0
      },
      "text/plain": [
       "  0%|          | 0/40 [00:00<?, ?it/s]"
      ]
     },
     "metadata": {},
     "output_type": "display_data"
    },
    {
     "name": "stdout",
     "output_type": "stream",
     "text": [
      "********************\n"
     ]
    },
    {
     "data": {
      "application/vnd.jupyter.widget-view+json": {
       "model_id": "a061295d648a418cbe0b078dd740328c",
       "version_major": 2,
       "version_minor": 0
      },
      "text/plain": [
       "  0%|          | 0/40 [00:00<?, ?it/s]"
      ]
     },
     "metadata": {},
     "output_type": "display_data"
    },
    {
     "name": "stdout",
     "output_type": "stream",
     "text": [
      "********************\n"
     ]
    },
    {
     "data": {
      "application/vnd.jupyter.widget-view+json": {
       "model_id": "4435d4b97279494287991d07c16f55a0",
       "version_major": 2,
       "version_minor": 0
      },
      "text/plain": [
       "  0%|          | 0/40 [00:00<?, ?it/s]"
      ]
     },
     "metadata": {},
     "output_type": "display_data"
    },
    {
     "name": "stdout",
     "output_type": "stream",
     "text": [
      "********************\n"
     ]
    },
    {
     "data": {
      "application/vnd.jupyter.widget-view+json": {
       "model_id": "d0e44641cd354761b6f5289753fa953d",
       "version_major": 2,
       "version_minor": 0
      },
      "text/plain": [
       "  0%|          | 0/40 [00:00<?, ?it/s]"
      ]
     },
     "metadata": {},
     "output_type": "display_data"
    },
    {
     "name": "stdout",
     "output_type": "stream",
     "text": [
      "********************\n"
     ]
    },
    {
     "data": {
      "application/vnd.jupyter.widget-view+json": {
       "model_id": "dd98f6dd4d874fd9b71ec4d8f0e8e2c9",
       "version_major": 2,
       "version_minor": 0
      },
      "text/plain": [
       "  0%|          | 0/40 [00:00<?, ?it/s]"
      ]
     },
     "metadata": {},
     "output_type": "display_data"
    },
    {
     "name": "stdout",
     "output_type": "stream",
     "text": [
      "********************\n"
     ]
    },
    {
     "data": {
      "application/vnd.jupyter.widget-view+json": {
       "model_id": "8323fb73682642fca7ffcf971b34cd76",
       "version_major": 2,
       "version_minor": 0
      },
      "text/plain": [
       "  0%|          | 0/40 [00:00<?, ?it/s]"
      ]
     },
     "metadata": {},
     "output_type": "display_data"
    },
    {
     "name": "stdout",
     "output_type": "stream",
     "text": [
      "********************\n"
     ]
    },
    {
     "data": {
      "application/vnd.jupyter.widget-view+json": {
       "model_id": "a0f0cd51cf6847e99bfe47f1097e3906",
       "version_major": 2,
       "version_minor": 0
      },
      "text/plain": [
       "  0%|          | 0/40 [00:00<?, ?it/s]"
      ]
     },
     "metadata": {},
     "output_type": "display_data"
    },
    {
     "name": "stdout",
     "output_type": "stream",
     "text": [
      "********************\n"
     ]
    },
    {
     "data": {
      "application/vnd.jupyter.widget-view+json": {
       "model_id": "af7b580c4d004bdf99bf51d6015e3e15",
       "version_major": 2,
       "version_minor": 0
      },
      "text/plain": [
       "  0%|          | 0/40 [00:00<?, ?it/s]"
      ]
     },
     "metadata": {},
     "output_type": "display_data"
    },
    {
     "name": "stdout",
     "output_type": "stream",
     "text": [
      "********************\n"
     ]
    },
    {
     "data": {
      "application/vnd.jupyter.widget-view+json": {
       "model_id": "8f88d6ddbc2446a0a0b243cc14c16aa8",
       "version_major": 2,
       "version_minor": 0
      },
      "text/plain": [
       "  0%|          | 0/40 [00:00<?, ?it/s]"
      ]
     },
     "metadata": {},
     "output_type": "display_data"
    },
    {
     "name": "stdout",
     "output_type": "stream",
     "text": [
      "********************\n"
     ]
    },
    {
     "data": {
      "application/vnd.jupyter.widget-view+json": {
       "model_id": "a896fecb3f454c93a9af5926a8529645",
       "version_major": 2,
       "version_minor": 0
      },
      "text/plain": [
       "  0%|          | 0/80 [00:00<?, ?it/s]"
      ]
     },
     "metadata": {},
     "output_type": "display_data"
    },
    {
     "name": "stdout",
     "output_type": "stream",
     "text": [
      "********************\n"
     ]
    },
    {
     "data": {
      "application/vnd.jupyter.widget-view+json": {
       "model_id": "993185ddbed649199befa3dd1aa5ea36",
       "version_major": 2,
       "version_minor": 0
      },
      "text/plain": [
       "  0%|          | 0/80 [00:00<?, ?it/s]"
      ]
     },
     "metadata": {},
     "output_type": "display_data"
    },
    {
     "name": "stdout",
     "output_type": "stream",
     "text": [
      "********************\n"
     ]
    },
    {
     "data": {
      "application/vnd.jupyter.widget-view+json": {
       "model_id": "f051701627cb44f0bf928ed4f47fb079",
       "version_major": 2,
       "version_minor": 0
      },
      "text/plain": [
       "  0%|          | 0/80 [00:00<?, ?it/s]"
      ]
     },
     "metadata": {},
     "output_type": "display_data"
    },
    {
     "name": "stdout",
     "output_type": "stream",
     "text": [
      "********************\n"
     ]
    },
    {
     "data": {
      "application/vnd.jupyter.widget-view+json": {
       "model_id": "fb4fa3e4372941ffbb1b72d196acce6a",
       "version_major": 2,
       "version_minor": 0
      },
      "text/plain": [
       "  0%|          | 0/80 [00:00<?, ?it/s]"
      ]
     },
     "metadata": {},
     "output_type": "display_data"
    },
    {
     "name": "stdout",
     "output_type": "stream",
     "text": [
      "********************\n"
     ]
    },
    {
     "data": {
      "application/vnd.jupyter.widget-view+json": {
       "model_id": "6e58bded888146a8bf92e818f85f1cd9",
       "version_major": 2,
       "version_minor": 0
      },
      "text/plain": [
       "  0%|          | 0/80 [00:00<?, ?it/s]"
      ]
     },
     "metadata": {},
     "output_type": "display_data"
    },
    {
     "name": "stdout",
     "output_type": "stream",
     "text": [
      "********************\n"
     ]
    },
    {
     "data": {
      "application/vnd.jupyter.widget-view+json": {
       "model_id": "b9bc0f52dee243bbbb919aed29b82f49",
       "version_major": 2,
       "version_minor": 0
      },
      "text/plain": [
       "  0%|          | 0/80 [00:00<?, ?it/s]"
      ]
     },
     "metadata": {},
     "output_type": "display_data"
    },
    {
     "name": "stdout",
     "output_type": "stream",
     "text": [
      "********************\n"
     ]
    },
    {
     "data": {
      "application/vnd.jupyter.widget-view+json": {
       "model_id": "6e880d574d844566906882a5404af53f",
       "version_major": 2,
       "version_minor": 0
      },
      "text/plain": [
       "  0%|          | 0/80 [00:00<?, ?it/s]"
      ]
     },
     "metadata": {},
     "output_type": "display_data"
    },
    {
     "name": "stdout",
     "output_type": "stream",
     "text": [
      "********************\n"
     ]
    },
    {
     "data": {
      "application/vnd.jupyter.widget-view+json": {
       "model_id": "389b349f28824f9c8f3d2b2777f549c3",
       "version_major": 2,
       "version_minor": 0
      },
      "text/plain": [
       "  0%|          | 0/80 [00:00<?, ?it/s]"
      ]
     },
     "metadata": {},
     "output_type": "display_data"
    },
    {
     "name": "stdout",
     "output_type": "stream",
     "text": [
      "********************\n"
     ]
    },
    {
     "data": {
      "application/vnd.jupyter.widget-view+json": {
       "model_id": "1166987434fb40419edb0196e296fbd6",
       "version_major": 2,
       "version_minor": 0
      },
      "text/plain": [
       "  0%|          | 0/80 [00:00<?, ?it/s]"
      ]
     },
     "metadata": {},
     "output_type": "display_data"
    },
    {
     "name": "stdout",
     "output_type": "stream",
     "text": [
      "********************\n"
     ]
    },
    {
     "data": {
      "application/vnd.jupyter.widget-view+json": {
       "model_id": "6d21e499262a473f9a3d5001b9e064c4",
       "version_major": 2,
       "version_minor": 0
      },
      "text/plain": [
       "  0%|          | 0/80 [00:00<?, ?it/s]"
      ]
     },
     "metadata": {},
     "output_type": "display_data"
    },
    {
     "name": "stdout",
     "output_type": "stream",
     "text": [
      "********************\n"
     ]
    },
    {
     "data": {
      "application/vnd.jupyter.widget-view+json": {
       "model_id": "b410ffa442054a3489f5d4274f82af29",
       "version_major": 2,
       "version_minor": 0
      },
      "text/plain": [
       "  0%|          | 0/80 [00:00<?, ?it/s]"
      ]
     },
     "metadata": {},
     "output_type": "display_data"
    },
    {
     "name": "stdout",
     "output_type": "stream",
     "text": [
      "********************\n"
     ]
    },
    {
     "data": {
      "application/vnd.jupyter.widget-view+json": {
       "model_id": "5389bbe176cb494899fa5ef412b2ec81",
       "version_major": 2,
       "version_minor": 0
      },
      "text/plain": [
       "  0%|          | 0/80 [00:00<?, ?it/s]"
      ]
     },
     "metadata": {},
     "output_type": "display_data"
    },
    {
     "name": "stdout",
     "output_type": "stream",
     "text": [
      "********************\n"
     ]
    },
    {
     "data": {
      "application/vnd.jupyter.widget-view+json": {
       "model_id": "7cd56e00d6244a86991ab861bfda2566",
       "version_major": 2,
       "version_minor": 0
      },
      "text/plain": [
       "  0%|          | 0/80 [00:00<?, ?it/s]"
      ]
     },
     "metadata": {},
     "output_type": "display_data"
    },
    {
     "name": "stdout",
     "output_type": "stream",
     "text": [
      "********************\n"
     ]
    },
    {
     "data": {
      "application/vnd.jupyter.widget-view+json": {
       "model_id": "5aef94ed5dca4e4a90a6b5d396e31556",
       "version_major": 2,
       "version_minor": 0
      },
      "text/plain": [
       "  0%|          | 0/80 [00:00<?, ?it/s]"
      ]
     },
     "metadata": {},
     "output_type": "display_data"
    },
    {
     "name": "stdout",
     "output_type": "stream",
     "text": [
      "********************\n"
     ]
    },
    {
     "data": {
      "application/vnd.jupyter.widget-view+json": {
       "model_id": "f682e9df0c08482f9bc4e2c5576178e3",
       "version_major": 2,
       "version_minor": 0
      },
      "text/plain": [
       "  0%|          | 0/80 [00:00<?, ?it/s]"
      ]
     },
     "metadata": {},
     "output_type": "display_data"
    },
    {
     "name": "stdout",
     "output_type": "stream",
     "text": [
      "********************\n"
     ]
    },
    {
     "data": {
      "application/vnd.jupyter.widget-view+json": {
       "model_id": "4622f48d7f944174ba8c78203d624dbf",
       "version_major": 2,
       "version_minor": 0
      },
      "text/plain": [
       "  0%|          | 0/80 [00:00<?, ?it/s]"
      ]
     },
     "metadata": {},
     "output_type": "display_data"
    },
    {
     "name": "stdout",
     "output_type": "stream",
     "text": [
      "********************\n"
     ]
    },
    {
     "data": {
      "application/vnd.jupyter.widget-view+json": {
       "model_id": "e53ec70d605f4ccc99e47794328b5ff4",
       "version_major": 2,
       "version_minor": 0
      },
      "text/plain": [
       "  0%|          | 0/80 [00:00<?, ?it/s]"
      ]
     },
     "metadata": {},
     "output_type": "display_data"
    },
    {
     "name": "stdout",
     "output_type": "stream",
     "text": [
      "********************\n"
     ]
    },
    {
     "data": {
      "application/vnd.jupyter.widget-view+json": {
       "model_id": "a8d6063394a741828b6a35ca1f0bc594",
       "version_major": 2,
       "version_minor": 0
      },
      "text/plain": [
       "  0%|          | 0/80 [00:00<?, ?it/s]"
      ]
     },
     "metadata": {},
     "output_type": "display_data"
    },
    {
     "name": "stdout",
     "output_type": "stream",
     "text": [
      "********************\n"
     ]
    },
    {
     "data": {
      "application/vnd.jupyter.widget-view+json": {
       "model_id": "980562dc956d4694a7dff9b100aa8064",
       "version_major": 2,
       "version_minor": 0
      },
      "text/plain": [
       "  0%|          | 0/80 [00:00<?, ?it/s]"
      ]
     },
     "metadata": {},
     "output_type": "display_data"
    },
    {
     "name": "stdout",
     "output_type": "stream",
     "text": [
      "********************\n"
     ]
    },
    {
     "data": {
      "application/vnd.jupyter.widget-view+json": {
       "model_id": "29537653b12741b7bec9103d08d60a4f",
       "version_major": 2,
       "version_minor": 0
      },
      "text/plain": [
       "  0%|          | 0/80 [00:00<?, ?it/s]"
      ]
     },
     "metadata": {},
     "output_type": "display_data"
    },
    {
     "name": "stdout",
     "output_type": "stream",
     "text": [
      "********************\n"
     ]
    },
    {
     "data": {
      "application/vnd.jupyter.widget-view+json": {
       "model_id": "ae7e7954d14440c9b3856e0b7ef4eb48",
       "version_major": 2,
       "version_minor": 0
      },
      "text/plain": [
       "  0%|          | 0/40 [00:00<?, ?it/s]"
      ]
     },
     "metadata": {},
     "output_type": "display_data"
    },
    {
     "name": "stdout",
     "output_type": "stream",
     "text": [
      "********************\n"
     ]
    },
    {
     "data": {
      "application/vnd.jupyter.widget-view+json": {
       "model_id": "2c0186493ed14e4e9b1aec1d49484772",
       "version_major": 2,
       "version_minor": 0
      },
      "text/plain": [
       "  0%|          | 0/40 [00:00<?, ?it/s]"
      ]
     },
     "metadata": {},
     "output_type": "display_data"
    },
    {
     "name": "stdout",
     "output_type": "stream",
     "text": [
      "********************\n"
     ]
    },
    {
     "data": {
      "application/vnd.jupyter.widget-view+json": {
       "model_id": "5e1cb6581f8b4fe7949230bf2e3b58dc",
       "version_major": 2,
       "version_minor": 0
      },
      "text/plain": [
       "  0%|          | 0/40 [00:00<?, ?it/s]"
      ]
     },
     "metadata": {},
     "output_type": "display_data"
    },
    {
     "name": "stdout",
     "output_type": "stream",
     "text": [
      "********************\n"
     ]
    },
    {
     "data": {
      "application/vnd.jupyter.widget-view+json": {
       "model_id": "22711f640e9f4d38a47042ce75db0923",
       "version_major": 2,
       "version_minor": 0
      },
      "text/plain": [
       "  0%|          | 0/40 [00:00<?, ?it/s]"
      ]
     },
     "metadata": {},
     "output_type": "display_data"
    },
    {
     "name": "stdout",
     "output_type": "stream",
     "text": [
      "********************\n"
     ]
    },
    {
     "data": {
      "application/vnd.jupyter.widget-view+json": {
       "model_id": "92f4a7ab9bb4441f823fcf7a46d52286",
       "version_major": 2,
       "version_minor": 0
      },
      "text/plain": [
       "  0%|          | 0/40 [00:00<?, ?it/s]"
      ]
     },
     "metadata": {},
     "output_type": "display_data"
    },
    {
     "name": "stdout",
     "output_type": "stream",
     "text": [
      "********************\n"
     ]
    },
    {
     "data": {
      "application/vnd.jupyter.widget-view+json": {
       "model_id": "2618e1e7a7424ccba389e0b2282209ff",
       "version_major": 2,
       "version_minor": 0
      },
      "text/plain": [
       "  0%|          | 0/40 [00:00<?, ?it/s]"
      ]
     },
     "metadata": {},
     "output_type": "display_data"
    },
    {
     "name": "stdout",
     "output_type": "stream",
     "text": [
      "********************\n"
     ]
    },
    {
     "data": {
      "application/vnd.jupyter.widget-view+json": {
       "model_id": "321339acf4454a438b7ced0b77a0cad9",
       "version_major": 2,
       "version_minor": 0
      },
      "text/plain": [
       "  0%|          | 0/40 [00:00<?, ?it/s]"
      ]
     },
     "metadata": {},
     "output_type": "display_data"
    },
    {
     "name": "stdout",
     "output_type": "stream",
     "text": [
      "********************\n"
     ]
    },
    {
     "data": {
      "application/vnd.jupyter.widget-view+json": {
       "model_id": "399e137d433246089441e886a472a5ad",
       "version_major": 2,
       "version_minor": 0
      },
      "text/plain": [
       "  0%|          | 0/40 [00:00<?, ?it/s]"
      ]
     },
     "metadata": {},
     "output_type": "display_data"
    },
    {
     "name": "stdout",
     "output_type": "stream",
     "text": [
      "********************\n"
     ]
    },
    {
     "data": {
      "application/vnd.jupyter.widget-view+json": {
       "model_id": "0d5a7d58045d4bc6b40b036632f3409f",
       "version_major": 2,
       "version_minor": 0
      },
      "text/plain": [
       "  0%|          | 0/40 [00:00<?, ?it/s]"
      ]
     },
     "metadata": {},
     "output_type": "display_data"
    },
    {
     "name": "stdout",
     "output_type": "stream",
     "text": [
      "********************\n"
     ]
    },
    {
     "data": {
      "application/vnd.jupyter.widget-view+json": {
       "model_id": "382fa69e510e48e3be5e4374fe02de23",
       "version_major": 2,
       "version_minor": 0
      },
      "text/plain": [
       "  0%|          | 0/40 [00:00<?, ?it/s]"
      ]
     },
     "metadata": {},
     "output_type": "display_data"
    },
    {
     "name": "stdout",
     "output_type": "stream",
     "text": [
      "********************\n"
     ]
    },
    {
     "data": {
      "text/plain": [
       "[0.25821910118382724,\n",
       " 0.2577007515107423,\n",
       " 0.2590375372744981,\n",
       " 0.2580790740903319,\n",
       " 0.2582502502114338,\n",
       " 0.25738888636432206,\n",
       " 0.255547674662305,\n",
       " 0.2569745283031935,\n",
       " 0.256043455765167,\n",
       " 0.2529586054093459,\n",
       " 0.2571601626652432]"
      ]
     },
     "execution_count": 85,
     "metadata": {},
     "output_type": "execute_result"
    }
   ],
   "source": [
    "cc = param_tuned_df.sort_values(by=['ndcg_validation_score'], ascending=False).iloc[0:11,]\n",
    "\n",
    "avg_ndcgs = []\n",
    "\n",
    "for i in range(cc.shape[0]):\n",
    "    \n",
    "    f = int(cc.iloc[i]['factors'])\n",
    "    r = int(cc.iloc[i]['regularization'])\n",
    "    ii = int(cc.iloc[i]['iterations'])\n",
    "    aa = int(cc.iloc[i]['alpha'])\n",
    "    \n",
    "    ndcg_batch_wise = []\n",
    "    \n",
    "    for num in random_nos:\n",
    "        \n",
    "        final_model = implicit.als.AlternatingLeastSquares(factors = f, regularization=r, iterations=ii, random_state=num)\n",
    "    \n",
    "        alpha = aa\n",
    "        data = (sparse_item_user * alpha).astype('double')\n",
    "\n",
    "        # fitting the final model\n",
    "        final_model.fit(data)\n",
    "\n",
    "        # Convert user vector and item vector obtained from final model to csr_matrix\n",
    "        user_vecs = sparse.csr_matrix(final_model.user_factors)\n",
    "        item_vecs = sparse.csr_matrix(final_model.item_factors)\n",
    "\n",
    "        print('*'*20)\n",
    "        # calculate the validation NDCG score\n",
    "        \n",
    "        ndcg_batch_wise.append(validation_ndcg_scoring(user_vecs, item_vecs, validation_df))\n",
    "    \n",
    "    avg_ndcgs.append(np.mean(ndcg_batch_wise))\n",
    "        \n",
    "avg_ndcgs"
   ]
  },
  {
   "cell_type": "code",
   "execution_count": null,
   "metadata": {
    "colab": {
     "referenced_widgets": [
      "58f665429cbe41a299edd9adbb792ba9"
     ]
    },
    "execution": {
     "iopub.execute_input": "2022-05-29T09:46:53.186932Z",
     "iopub.status.busy": "2022-05-29T09:46:53.186153Z",
     "iopub.status.idle": "2022-05-29T09:47:35.088550Z",
     "shell.execute_reply": "2022-05-29T09:47:35.087473Z",
     "shell.execute_reply.started": "2022-05-29T09:46:53.186890Z"
    },
    "id": "Y4x6iY0dPDWu",
    "outputId": "7d7437d8-53ed-4c82-a565-b7c03f2fcef2",
    "scrolled": true
   },
   "outputs": [
    {
     "data": {
      "application/vnd.jupyter.widget-view+json": {
       "model_id": "58f665429cbe41a299edd9adbb792ba9",
       "version_major": 2,
       "version_minor": 0
      },
      "text/plain": [
       "  0%|          | 0/80 [00:00<?, ?it/s]"
      ]
     },
     "metadata": {},
     "output_type": "display_data"
    },
    {
     "name": "stdout",
     "output_type": "stream",
     "text": [
      "********************\n"
     ]
    },
    {
     "data": {
      "text/plain": [
       "0.25746406942731614"
      ]
     },
     "execution_count": 98,
     "metadata": {},
     "output_type": "execute_result"
    }
   ],
   "source": [
    "final_model = implicit.als.AlternatingLeastSquares(factors = 20, regularization=425, iterations=80)\n",
    "    \n",
    "alpha = 80\n",
    "data = (sparse_item_user * alpha).astype('double')\n",
    "\n",
    "# fitting the final model\n",
    "final_model.fit(data)\n",
    "\n",
    "# Convert user vector and item vector obtained from final model to csr_matrix\n",
    "user_vecs = sparse.csr_matrix(final_model.user_factors)\n",
    "item_vecs = sparse.csr_matrix(final_model.item_factors)\n",
    "\n",
    "print('*'*20)\n",
    "# calculate the validation NDCG score\n",
    "validation_ndcg_scoring(user_vecs, item_vecs, validation_df)"
   ]
  },
  {
   "cell_type": "code",
   "execution_count": null,
   "metadata": {
    "execution": {
     "iopub.execute_input": "2022-05-29T09:40:02.974937Z",
     "iopub.status.busy": "2022-05-29T09:40:02.974530Z",
     "iopub.status.idle": "2022-05-29T09:40:20.539506Z",
     "shell.execute_reply": "2022-05-29T09:40:20.538479Z",
     "shell.execute_reply.started": "2022-05-29T09:40:02.974903Z"
    },
    "id": "zWZnsk2KPDWv"
   },
   "outputs": [],
   "source": [
    "user_vecs = sparse.csr_matrix(final_model.user_factors)\n",
    "item_vecs = sparse.csr_matrix(final_model.item_factors)\n",
    "\n",
    "user_id_list = []\n",
    "item_id_list = []\n",
    "\n",
    "# for each unique user in test_df dataset\n",
    "for user_id in set(test_df['user_id']):\n",
    "    # recommend 15 top items\n",
    "    recommendations = recommend(user_id, sparse_user_item, user_vecs, item_vecs, test_df)\n",
    "    user_id_list += list(recommendations['user_id'])\n",
    "    item_id_list += list(recommendations['item_id'])\n",
    "    \n",
    "# create output df similar to sample provided\n",
    "ouput_df = pd.DataFrame({'user_id': user_id_list, 'item_id': item_id_list})\n",
    "\n",
    "# \n",
    "ouput_df.to_csv('31072100_output.csv',index=False)"
   ]
  },
  {
   "cell_type": "code",
   "execution_count": null,
   "metadata": {
    "execution": {
     "iopub.execute_input": "2022-05-27T11:49:07.570597Z",
     "iopub.status.busy": "2022-05-27T11:49:07.569614Z",
     "iopub.status.idle": "2022-05-27T11:49:07.577171Z",
     "shell.execute_reply": "2022-05-27T11:49:07.576311Z",
     "shell.execute_reply.started": "2022-05-27T11:49:07.570530Z"
    },
    "id": "2auFr5TPJb8G",
    "outputId": "ce16e2d0-b214-494a-f1a5-313421b2e3a8"
   },
   "outputs": [
    {
     "data": {
      "text/plain": [
       "(346600, 2)"
      ]
     },
     "execution_count": 27,
     "metadata": {},
     "output_type": "execute_result"
    }
   ],
   "source": [
    "test_df.shape"
   ]
  },
  {
   "cell_type": "code",
   "execution_count": null,
   "metadata": {
    "execution": {
     "iopub.execute_input": "2022-05-27T11:49:07.579276Z",
     "iopub.status.busy": "2022-05-27T11:49:07.578783Z",
     "iopub.status.idle": "2022-05-27T11:49:07.591148Z",
     "shell.execute_reply": "2022-05-27T11:49:07.590496Z",
     "shell.execute_reply.started": "2022-05-27T11:49:07.579237Z"
    },
    "id": "fiVxyq0AJb8G",
    "outputId": "aad49a9f-578c-4c1d-c3c2-424d1993bb17"
   },
   "outputs": [
    {
     "data": {
      "text/plain": [
       "(51990, 2)"
      ]
     },
     "execution_count": 28,
     "metadata": {},
     "output_type": "execute_result"
    }
   ],
   "source": [
    "ouput_df.shape"
   ]
  },
  {
   "cell_type": "markdown",
   "metadata": {
    "id": "QMj-IR1QhPsm"
   },
   "source": [
    "## 1.2 Collaborative Filtering with Neural Networks"
   ]
  },
  {
   "cell_type": "markdown",
   "metadata": {
    "id": "tOO689HphPsm"
   },
   "source": [
    "We implement matrix factorization model and also neural network model."
   ]
  },
  {
   "cell_type": "code",
   "execution_count": null,
   "metadata": {
    "execution": {
     "iopub.execute_input": "2022-05-29T00:47:28.110054Z",
     "iopub.status.busy": "2022-05-29T00:47:28.109589Z",
     "iopub.status.idle": "2022-05-29T00:47:28.162173Z",
     "shell.execute_reply": "2022-05-29T00:47:28.161392Z",
     "shell.execute_reply.started": "2022-05-29T00:47:28.110012Z"
    },
    "id": "Ise44DqphPsm",
    "outputId": "045dc78a-7936-40a4-9a65-2e456b573fea"
   },
   "outputs": [
    {
     "data": {
      "text/html": [
       "<div>\n",
       "<style scoped>\n",
       "    .dataframe tbody tr th:only-of-type {\n",
       "        vertical-align: middle;\n",
       "    }\n",
       "\n",
       "    .dataframe tbody tr th {\n",
       "        vertical-align: top;\n",
       "    }\n",
       "\n",
       "    .dataframe thead th {\n",
       "        text-align: right;\n",
       "    }\n",
       "</style>\n",
       "<table border=\"1\" class=\"dataframe\">\n",
       "  <thead>\n",
       "    <tr style=\"text-align: right;\">\n",
       "      <th></th>\n",
       "      <th>user_id</th>\n",
       "      <th>item_id</th>\n",
       "      <th>rating</th>\n",
       "    </tr>\n",
       "  </thead>\n",
       "  <tbody>\n",
       "    <tr>\n",
       "      <th>75261</th>\n",
       "      <td>2353</td>\n",
       "      <td>3691</td>\n",
       "      <td>1</td>\n",
       "    </tr>\n",
       "    <tr>\n",
       "      <th>38803</th>\n",
       "      <td>1214</td>\n",
       "      <td>4901</td>\n",
       "      <td>1</td>\n",
       "    </tr>\n",
       "    <tr>\n",
       "      <th>103972</th>\n",
       "      <td>3232</td>\n",
       "      <td>3585</td>\n",
       "      <td>1</td>\n",
       "    </tr>\n",
       "    <tr>\n",
       "      <th>63346</th>\n",
       "      <td>1945</td>\n",
       "      <td>5070</td>\n",
       "      <td>1</td>\n",
       "    </tr>\n",
       "    <tr>\n",
       "      <th>61624</th>\n",
       "      <td>1889</td>\n",
       "      <td>5868</td>\n",
       "      <td>1</td>\n",
       "    </tr>\n",
       "  </tbody>\n",
       "</table>\n",
       "</div>"
      ],
      "text/plain": [
       "        user_id  item_id  rating\n",
       "75261      2353     3691       1\n",
       "38803      1214     4901       1\n",
       "103972     3232     3585       1\n",
       "63346      1945     5070       1\n",
       "61624      1889     5868       1"
      ]
     },
     "metadata": {},
     "output_type": "display_data"
    },
    {
     "data": {
      "text/html": [
       "<div>\n",
       "<style scoped>\n",
       "    .dataframe tbody tr th:only-of-type {\n",
       "        vertical-align: middle;\n",
       "    }\n",
       "\n",
       "    .dataframe tbody tr th {\n",
       "        vertical-align: top;\n",
       "    }\n",
       "\n",
       "    .dataframe thead th {\n",
       "        text-align: right;\n",
       "    }\n",
       "</style>\n",
       "<table border=\"1\" class=\"dataframe\">\n",
       "  <thead>\n",
       "    <tr style=\"text-align: right;\">\n",
       "      <th></th>\n",
       "      <th>user_id</th>\n",
       "      <th>item_id</th>\n",
       "      <th>rating</th>\n",
       "    </tr>\n",
       "  </thead>\n",
       "  <tbody>\n",
       "    <tr>\n",
       "      <th>271754</th>\n",
       "      <td>2717</td>\n",
       "      <td>3697</td>\n",
       "      <td>0</td>\n",
       "    </tr>\n",
       "    <tr>\n",
       "      <th>218898</th>\n",
       "      <td>2188</td>\n",
       "      <td>1881</td>\n",
       "      <td>0</td>\n",
       "    </tr>\n",
       "    <tr>\n",
       "      <th>340955</th>\n",
       "      <td>3409</td>\n",
       "      <td>6867</td>\n",
       "      <td>0</td>\n",
       "    </tr>\n",
       "    <tr>\n",
       "      <th>73255</th>\n",
       "      <td>732</td>\n",
       "      <td>7451</td>\n",
       "      <td>0</td>\n",
       "    </tr>\n",
       "    <tr>\n",
       "      <th>250399</th>\n",
       "      <td>2503</td>\n",
       "      <td>8876</td>\n",
       "      <td>0</td>\n",
       "    </tr>\n",
       "  </tbody>\n",
       "</table>\n",
       "</div>"
      ],
      "text/plain": [
       "        user_id  item_id  rating\n",
       "271754     2717     3697       0\n",
       "218898     2188     1881       0\n",
       "340955     3409     6867       0\n",
       "73255       732     7451       0\n",
       "250399     2503     8876       0"
      ]
     },
     "metadata": {},
     "output_type": "display_data"
    },
    {
     "data": {
      "text/html": [
       "<div>\n",
       "<style scoped>\n",
       "    .dataframe tbody tr th:only-of-type {\n",
       "        vertical-align: middle;\n",
       "    }\n",
       "\n",
       "    .dataframe tbody tr th {\n",
       "        vertical-align: top;\n",
       "    }\n",
       "\n",
       "    .dataframe thead th {\n",
       "        text-align: right;\n",
       "    }\n",
       "</style>\n",
       "<table border=\"1\" class=\"dataframe\">\n",
       "  <thead>\n",
       "    <tr style=\"text-align: right;\">\n",
       "      <th></th>\n",
       "      <th>user_id</th>\n",
       "      <th>item_id</th>\n",
       "    </tr>\n",
       "  </thead>\n",
       "  <tbody>\n",
       "    <tr>\n",
       "      <th>8233</th>\n",
       "      <td>82</td>\n",
       "      <td>5590</td>\n",
       "    </tr>\n",
       "    <tr>\n",
       "      <th>221970</th>\n",
       "      <td>2219</td>\n",
       "      <td>2577</td>\n",
       "    </tr>\n",
       "    <tr>\n",
       "      <th>323241</th>\n",
       "      <td>3232</td>\n",
       "      <td>5452</td>\n",
       "    </tr>\n",
       "    <tr>\n",
       "      <th>149812</th>\n",
       "      <td>1498</td>\n",
       "      <td>7715</td>\n",
       "    </tr>\n",
       "    <tr>\n",
       "      <th>139391</th>\n",
       "      <td>1393</td>\n",
       "      <td>1005</td>\n",
       "    </tr>\n",
       "  </tbody>\n",
       "</table>\n",
       "</div>"
      ],
      "text/plain": [
       "        user_id  item_id\n",
       "8233         82     5590\n",
       "221970     2219     2577\n",
       "323241     3232     5452\n",
       "149812     1498     7715\n",
       "139391     1393     1005"
      ]
     },
     "metadata": {},
     "output_type": "display_data"
    }
   ],
   "source": [
    "display(train_df.sample(5))\n",
    "display(validation_df.sample(5))\n",
    "display(test_df.sample(5))"
   ]
  },
  {
   "cell_type": "code",
   "execution_count": null,
   "metadata": {
    "execution": {
     "iopub.execute_input": "2022-05-29T00:47:28.330130Z",
     "iopub.status.busy": "2022-05-29T00:47:28.329222Z",
     "iopub.status.idle": "2022-05-29T00:47:28.335665Z",
     "shell.execute_reply": "2022-05-29T00:47:28.334734Z",
     "shell.execute_reply.started": "2022-05-29T00:47:28.330086Z"
    },
    "id": "azwKqLdUhPsn"
   },
   "outputs": [],
   "source": [
    "import torch\n",
    "import torch.nn as nn\n",
    "import torch.nn.functional as F\n",
    "\n",
    "import implicit\n",
    "from sklearn.preprocessing import MinMaxScaler\n",
    "from sklearn import metrics\n",
    "import scipy.sparse as sparse"
   ]
  },
  {
   "cell_type": "code",
   "execution_count": null,
   "metadata": {
    "execution": {
     "iopub.execute_input": "2022-05-29T00:47:30.830839Z",
     "iopub.status.busy": "2022-05-29T00:47:30.829565Z",
     "iopub.status.idle": "2022-05-29T00:47:30.837138Z",
     "shell.execute_reply": "2022-05-29T00:47:30.835724Z",
     "shell.execute_reply.started": "2022-05-29T00:47:30.830790Z"
    },
    "id": "eW6YiskjhPsn"
   },
   "outputs": [],
   "source": [
    "np.random.seed(624)"
   ]
  },
  {
   "cell_type": "markdown",
   "metadata": {
    "id": "d1VAEukNhPsn"
   },
   "source": [
    "### 1.2.1 Encoding Data\n",
    "\n",
    "We enconde the data to have contiguous ids for users and itesms. You can think about this as a categorical encoding of our two categorical variables user_id and item_id."
   ]
  },
  {
   "cell_type": "code",
   "execution_count": null,
   "metadata": {
    "execution": {
     "iopub.execute_input": "2022-05-29T00:49:59.573192Z",
     "iopub.status.busy": "2022-05-29T00:49:59.572012Z",
     "iopub.status.idle": "2022-05-29T00:49:59.581907Z",
     "shell.execute_reply": "2022-05-29T00:49:59.580955Z",
     "shell.execute_reply.started": "2022-05-29T00:49:59.573141Z"
    },
    "id": "AAr0UwGghPsn"
   },
   "outputs": [],
   "source": [
    "# here is a handy function modified from fast.ai\n",
    "def proc_col(col, train_col=None):\n",
    "    \"\"\"Encodes a pandas column with continous ids. \n",
    "    \"\"\"\n",
    "    if train_col is not None:\n",
    "        uniq = train_col.unique()\n",
    "    else:\n",
    "        uniq = col.unique()\n",
    "    name2idx = {o:i for i,o in enumerate(uniq)}\n",
    "    return name2idx, np.array([name2idx.get(x, -1) for x in col]), len(uniq)"
   ]
  },
  {
   "cell_type": "code",
   "execution_count": null,
   "metadata": {
    "execution": {
     "iopub.execute_input": "2022-05-29T00:50:00.287867Z",
     "iopub.status.busy": "2022-05-29T00:50:00.287330Z",
     "iopub.status.idle": "2022-05-29T00:50:00.296412Z",
     "shell.execute_reply": "2022-05-29T00:50:00.295549Z",
     "shell.execute_reply.started": "2022-05-29T00:50:00.287826Z"
    },
    "id": "igBKBTZohPsn"
   },
   "outputs": [],
   "source": [
    "def encode_data(df, train=None):\n",
    "    \"\"\" Encodes rating data with continous user and item ids. \n",
    "    If train is provided, encodes df with the same encoding as train.\n",
    "    \"\"\"\n",
    "    df = df.copy()\n",
    "    for col_name in [\"user_id\", \"item_id\"]:\n",
    "        train_col = None\n",
    "        if train is not None:\n",
    "            train_col = train[col_name]\n",
    "        _,col,_ = proc_col(df[col_name], train_col)\n",
    "        df[col_name] = col\n",
    "        df = df[df[col_name] >= 0]\n",
    "    return df"
   ]
  },
  {
   "cell_type": "code",
   "execution_count": null,
   "metadata": {
    "execution": {
     "iopub.execute_input": "2022-05-29T00:50:05.529325Z",
     "iopub.status.busy": "2022-05-29T00:50:05.528672Z",
     "iopub.status.idle": "2022-05-29T00:50:06.218809Z",
     "shell.execute_reply": "2022-05-29T00:50:06.217873Z",
     "shell.execute_reply.started": "2022-05-29T00:50:05.529286Z"
    },
    "id": "5qcoX3D7hPsn",
    "outputId": "0026a698-8a46-4bd8-9d33-50315c19ed21"
   },
   "outputs": [
    {
     "data": {
      "text/html": [
       "<div>\n",
       "<style scoped>\n",
       "    .dataframe tbody tr th:only-of-type {\n",
       "        vertical-align: middle;\n",
       "    }\n",
       "\n",
       "    .dataframe tbody tr th {\n",
       "        vertical-align: top;\n",
       "    }\n",
       "\n",
       "    .dataframe thead th {\n",
       "        text-align: right;\n",
       "    }\n",
       "</style>\n",
       "<table border=\"1\" class=\"dataframe\">\n",
       "  <thead>\n",
       "    <tr style=\"text-align: right;\">\n",
       "      <th></th>\n",
       "      <th>user_id</th>\n",
       "      <th>item_id</th>\n",
       "      <th>rating</th>\n",
       "    </tr>\n",
       "  </thead>\n",
       "  <tbody>\n",
       "    <tr>\n",
       "      <th>0</th>\n",
       "      <td>0</td>\n",
       "      <td>0</td>\n",
       "      <td>1</td>\n",
       "    </tr>\n",
       "    <tr>\n",
       "      <th>1</th>\n",
       "      <td>0</td>\n",
       "      <td>1</td>\n",
       "      <td>1</td>\n",
       "    </tr>\n",
       "    <tr>\n",
       "      <th>2</th>\n",
       "      <td>0</td>\n",
       "      <td>2</td>\n",
       "      <td>1</td>\n",
       "    </tr>\n",
       "    <tr>\n",
       "      <th>3</th>\n",
       "      <td>0</td>\n",
       "      <td>3</td>\n",
       "      <td>1</td>\n",
       "    </tr>\n",
       "    <tr>\n",
       "      <th>4</th>\n",
       "      <td>0</td>\n",
       "      <td>4</td>\n",
       "      <td>1</td>\n",
       "    </tr>\n",
       "    <tr>\n",
       "      <th>...</th>\n",
       "      <td>...</td>\n",
       "      <td>...</td>\n",
       "      <td>...</td>\n",
       "    </tr>\n",
       "    <tr>\n",
       "      <th>110124</th>\n",
       "      <td>3465</td>\n",
       "      <td>8253</td>\n",
       "      <td>1</td>\n",
       "    </tr>\n",
       "    <tr>\n",
       "      <th>110125</th>\n",
       "      <td>3465</td>\n",
       "      <td>8809</td>\n",
       "      <td>1</td>\n",
       "    </tr>\n",
       "    <tr>\n",
       "      <th>110126</th>\n",
       "      <td>3465</td>\n",
       "      <td>4547</td>\n",
       "      <td>1</td>\n",
       "    </tr>\n",
       "    <tr>\n",
       "      <th>110127</th>\n",
       "      <td>3465</td>\n",
       "      <td>7764</td>\n",
       "      <td>1</td>\n",
       "    </tr>\n",
       "    <tr>\n",
       "      <th>110128</th>\n",
       "      <td>3465</td>\n",
       "      <td>5851</td>\n",
       "      <td>1</td>\n",
       "    </tr>\n",
       "  </tbody>\n",
       "</table>\n",
       "<p>110129 rows × 3 columns</p>\n",
       "</div>"
      ],
      "text/plain": [
       "        user_id  item_id  rating\n",
       "0             0        0       1\n",
       "1             0        1       1\n",
       "2             0        2       1\n",
       "3             0        3       1\n",
       "4             0        4       1\n",
       "...         ...      ...     ...\n",
       "110124     3465     8253       1\n",
       "110125     3465     8809       1\n",
       "110126     3465     4547       1\n",
       "110127     3465     7764       1\n",
       "110128     3465     5851       1\n",
       "\n",
       "[110129 rows x 3 columns]"
      ]
     },
     "metadata": {},
     "output_type": "display_data"
    },
    {
     "data": {
      "text/html": [
       "<div>\n",
       "<style scoped>\n",
       "    .dataframe tbody tr th:only-of-type {\n",
       "        vertical-align: middle;\n",
       "    }\n",
       "\n",
       "    .dataframe tbody tr th {\n",
       "        vertical-align: top;\n",
       "    }\n",
       "\n",
       "    .dataframe thead th {\n",
       "        text-align: right;\n",
       "    }\n",
       "</style>\n",
       "<table border=\"1\" class=\"dataframe\">\n",
       "  <thead>\n",
       "    <tr style=\"text-align: right;\">\n",
       "      <th></th>\n",
       "      <th>user_id</th>\n",
       "      <th>item_id</th>\n",
       "      <th>rating</th>\n",
       "    </tr>\n",
       "  </thead>\n",
       "  <tbody>\n",
       "    <tr>\n",
       "      <th>0</th>\n",
       "      <td>0</td>\n",
       "      <td>8841</td>\n",
       "      <td>1</td>\n",
       "    </tr>\n",
       "    <tr>\n",
       "      <th>1</th>\n",
       "      <td>0</td>\n",
       "      <td>3115</td>\n",
       "      <td>0</td>\n",
       "    </tr>\n",
       "    <tr>\n",
       "      <th>2</th>\n",
       "      <td>0</td>\n",
       "      <td>378</td>\n",
       "      <td>0</td>\n",
       "    </tr>\n",
       "    <tr>\n",
       "      <th>3</th>\n",
       "      <td>0</td>\n",
       "      <td>5225</td>\n",
       "      <td>0</td>\n",
       "    </tr>\n",
       "    <tr>\n",
       "      <th>4</th>\n",
       "      <td>0</td>\n",
       "      <td>8534</td>\n",
       "      <td>0</td>\n",
       "    </tr>\n",
       "    <tr>\n",
       "      <th>...</th>\n",
       "      <td>...</td>\n",
       "      <td>...</td>\n",
       "      <td>...</td>\n",
       "    </tr>\n",
       "    <tr>\n",
       "      <th>346595</th>\n",
       "      <td>3465</td>\n",
       "      <td>8007</td>\n",
       "      <td>0</td>\n",
       "    </tr>\n",
       "    <tr>\n",
       "      <th>346596</th>\n",
       "      <td>3465</td>\n",
       "      <td>302</td>\n",
       "      <td>0</td>\n",
       "    </tr>\n",
       "    <tr>\n",
       "      <th>346597</th>\n",
       "      <td>3465</td>\n",
       "      <td>7556</td>\n",
       "      <td>0</td>\n",
       "    </tr>\n",
       "    <tr>\n",
       "      <th>346598</th>\n",
       "      <td>3465</td>\n",
       "      <td>5450</td>\n",
       "      <td>0</td>\n",
       "    </tr>\n",
       "    <tr>\n",
       "      <th>346599</th>\n",
       "      <td>3465</td>\n",
       "      <td>3714</td>\n",
       "      <td>0</td>\n",
       "    </tr>\n",
       "  </tbody>\n",
       "</table>\n",
       "<p>346600 rows × 3 columns</p>\n",
       "</div>"
      ],
      "text/plain": [
       "        user_id  item_id  rating\n",
       "0             0     8841       1\n",
       "1             0     3115       0\n",
       "2             0      378       0\n",
       "3             0     5225       0\n",
       "4             0     8534       0\n",
       "...         ...      ...     ...\n",
       "346595     3465     8007       0\n",
       "346596     3465      302       0\n",
       "346597     3465     7556       0\n",
       "346598     3465     5450       0\n",
       "346599     3465     3714       0\n",
       "\n",
       "[346600 rows x 3 columns]"
      ]
     },
     "metadata": {},
     "output_type": "display_data"
    }
   ],
   "source": [
    "# encoding train and validation df\n",
    "df_train = encode_data(train_df)\n",
    "df_val = encode_data(validation_df, train_df)\n",
    "display(df_train)\n",
    "display(df_val)"
   ]
  },
  {
   "cell_type": "markdown",
   "metadata": {
    "id": "dUp9NhUthPso"
   },
   "source": [
    "### 1.2.2 Matrix factorization model"
   ]
  },
  {
   "cell_type": "code",
   "execution_count": null,
   "metadata": {
    "execution": {
     "iopub.execute_input": "2022-05-29T00:51:06.220370Z",
     "iopub.status.busy": "2022-05-29T00:51:06.219877Z",
     "iopub.status.idle": "2022-05-29T00:51:06.228987Z",
     "shell.execute_reply": "2022-05-29T00:51:06.228162Z",
     "shell.execute_reply.started": "2022-05-29T00:51:06.220330Z"
    },
    "id": "BaAS5NyXhPso"
   },
   "outputs": [],
   "source": [
    "class MF(nn.Module):\n",
    "    def __init__(self, num_users, num_items, emb_size=100):\n",
    "        super(MF, self).__init__()\n",
    "        self.user_emb = nn.Embedding(num_users, emb_size)\n",
    "        self.item_emb = nn.Embedding(num_items, emb_size)\n",
    "        self.user_emb.weight.data.uniform_(0, 0.05)\n",
    "        self.item_emb.weight.data.uniform_(0, 0.05)\n",
    "        \n",
    "    def forward(self, u, v):\n",
    "        u = self.user_emb(u)\n",
    "        v = self.item_emb(v)\n",
    "        return (u*v).sum(1)   "
   ]
  },
  {
   "cell_type": "markdown",
   "metadata": {
    "id": "SrCdTwi7hPso"
   },
   "source": [
    "#### 1.2.2.1 Training MF model"
   ]
  },
  {
   "cell_type": "code",
   "execution_count": null,
   "metadata": {
    "execution": {
     "iopub.execute_input": "2022-05-29T00:51:41.932337Z",
     "iopub.status.busy": "2022-05-29T00:51:41.931432Z",
     "iopub.status.idle": "2022-05-29T00:51:41.941693Z",
     "shell.execute_reply": "2022-05-29T00:51:41.940356Z",
     "shell.execute_reply.started": "2022-05-29T00:51:41.932292Z"
    },
    "id": "Oj5BR8TZhPso",
    "outputId": "6c6a7536-7aef-4d42-e838-103bd3a4ac36"
   },
   "outputs": [
    {
     "name": "stdout",
     "output_type": "stream",
     "text": [
      "3466 9004\n"
     ]
    }
   ],
   "source": [
    "num_users = len(df_train.user_id.unique())\n",
    "num_items = len(df_train.item_id.unique())\n",
    "print(num_users, num_items)"
   ]
  },
  {
   "cell_type": "code",
   "execution_count": null,
   "metadata": {
    "execution": {
     "iopub.execute_input": "2022-05-29T00:51:49.493641Z",
     "iopub.status.busy": "2022-05-29T00:51:49.492951Z",
     "iopub.status.idle": "2022-05-29T00:51:49.528021Z",
     "shell.execute_reply": "2022-05-29T00:51:49.526958Z",
     "shell.execute_reply.started": "2022-05-29T00:51:49.493600Z"
    },
    "id": "n1Pbrf6ThPso"
   },
   "outputs": [],
   "source": [
    "model = MF(num_users, num_items, emb_size=100) # .cuda() if you have a GPU"
   ]
  },
  {
   "cell_type": "code",
   "execution_count": null,
   "metadata": {
    "execution": {
     "iopub.execute_input": "2022-05-29T00:52:00.390969Z",
     "iopub.status.busy": "2022-05-29T00:52:00.390558Z",
     "iopub.status.idle": "2022-05-29T00:52:00.399881Z",
     "shell.execute_reply": "2022-05-29T00:52:00.399128Z",
     "shell.execute_reply.started": "2022-05-29T00:52:00.390936Z"
    },
    "id": "1r3h4cF9hPso"
   },
   "outputs": [],
   "source": [
    "def train_epocs(model, epochs=10, lr=0.01, wd=0.0, unsqueeze=False):\n",
    "    optimizer = torch.optim.Adam(model.parameters(), lr=lr, weight_decay=wd)\n",
    "    model.train()\n",
    "    for i in range(epochs):\n",
    "        users = torch.LongTensor(df_train.user_id.values) # .cuda()\n",
    "        items = torch.LongTensor(df_train.item_id.values) #.cuda()\n",
    "        ratings = torch.FloatTensor(df_train.rating.values) #.cuda()\n",
    "        if unsqueeze:\n",
    "            ratings = ratings.unsqueeze(1)\n",
    "        y_hat = model(users, items)\n",
    "        loss = F.mse_loss(y_hat, ratings)\n",
    "        optimizer.zero_grad()\n",
    "        loss.backward()\n",
    "        optimizer.step()\n",
    "        print(loss.item()) \n",
    "    test_loss(model, unsqueeze)"
   ]
  },
  {
   "cell_type": "code",
   "execution_count": null,
   "metadata": {
    "execution": {
     "iopub.execute_input": "2022-05-29T00:52:11.863992Z",
     "iopub.status.busy": "2022-05-29T00:52:11.862849Z",
     "iopub.status.idle": "2022-05-29T00:52:11.871015Z",
     "shell.execute_reply": "2022-05-29T00:52:11.870010Z",
     "shell.execute_reply.started": "2022-05-29T00:52:11.863925Z"
    },
    "id": "_RZf3G_0hPsp"
   },
   "outputs": [],
   "source": [
    "def test_loss(model, unsqueeze=False):\n",
    "    model.eval()\n",
    "    users = torch.LongTensor(df_val.user_id.values) #.cuda()\n",
    "    items = torch.LongTensor(df_val.item_id.values) #.cuda()\n",
    "    ratings = torch.FloatTensor(df_val.rating.values) #.cuda()\n",
    "    if unsqueeze:\n",
    "        ratings = ratings.unsqueeze(1)\n",
    "    y_hat = model(users, items)\n",
    "    loss = F.mse_loss(y_hat, ratings)\n",
    "    print(\"test loss %.3f \" % loss.item())"
   ]
  },
  {
   "cell_type": "code",
   "execution_count": null,
   "metadata": {
    "execution": {
     "iopub.execute_input": "2022-05-29T00:52:30.459601Z",
     "iopub.status.busy": "2022-05-29T00:52:30.458542Z",
     "iopub.status.idle": "2022-05-29T00:52:36.530851Z",
     "shell.execute_reply": "2022-05-29T00:52:36.529851Z",
     "shell.execute_reply.started": "2022-05-29T00:52:30.459559Z"
    },
    "id": "yX-95d9PhPsp",
    "outputId": "53257b9a-fbd5-46c6-86b6-956013b5aa9a"
   },
   "outputs": [
    {
     "name": "stdout",
     "output_type": "stream",
     "text": [
      "0.878788411617279\n",
      "0.3136248290538788\n",
      "0.18193288147449493\n",
      "0.3102691173553467\n",
      "0.08884264528751373\n",
      "0.07417488098144531\n",
      "0.1895395815372467\n",
      "0.0019426787039265037\n",
      "0.08779196441173553\n",
      "0.1368265450000763\n",
      "test loss 0.553 \n",
      "0.05558168515563011\n",
      "0.0035094004124403\n",
      "0.013602501712739468\n",
      "0.02641979791224003\n",
      "0.015253070741891861\n",
      "0.0027186591178178787\n",
      "0.0013814312405884266\n",
      "0.007746544666588306\n",
      "0.012481150217354298\n",
      "0.011217265389859676\n",
      "0.0059132748283445835\n",
      "0.0011400822550058365\n",
      "0.00034032712574116886\n",
      "0.0032277738209813833\n",
      "0.006123755592852831\n",
      "test loss 1.100 \n",
      "0.005947473458945751\n",
      "0.014421944506466389\n",
      "0.006090759299695492\n",
      "0.00022081284259911627\n",
      "0.006234386935830116\n",
      "0.006179191637784243\n",
      "0.001206906046718359\n",
      "0.000459829781902954\n",
      "0.003303519682958722\n",
      "0.004007494077086449\n",
      "0.0018047402845695615\n",
      "0.00014687894145026803\n",
      "0.0010471649002283812\n",
      "0.0024306029081344604\n",
      "0.0018814810318872333\n",
      "0.00042759484495036304\n",
      "0.00018823910795617849\n",
      "0.0011148356134071946\n",
      "0.0015528240473940969\n",
      "0.0008725483785383403\n",
      "test loss 0.932 \n"
     ]
    }
   ],
   "source": [
    "train_epocs(model, epochs=10, lr=0.1)\n",
    "train_epocs(model, epochs=15, lr=0.01)\n",
    "train_epocs(model, epochs=20, lr=0.01)"
   ]
  },
  {
   "cell_type": "markdown",
   "metadata": {
    "execution": {
     "iopub.execute_input": "2022-05-28T16:28:41.577774Z",
     "iopub.status.busy": "2022-05-28T16:28:41.576385Z",
     "iopub.status.idle": "2022-05-28T16:28:41.60152Z",
     "shell.execute_reply": "2022-05-28T16:28:41.599906Z",
     "shell.execute_reply.started": "2022-05-28T16:28:41.577666Z"
    },
    "id": "gOdVwfgIhPsp"
   },
   "source": [
    "#### 1.2.2.2 Prediction"
   ]
  },
  {
   "cell_type": "code",
   "execution_count": null,
   "metadata": {
    "execution": {
     "iopub.execute_input": "2022-05-29T00:56:44.680200Z",
     "iopub.status.busy": "2022-05-29T00:56:44.678678Z",
     "iopub.status.idle": "2022-05-29T00:56:45.427254Z",
     "shell.execute_reply": "2022-05-29T00:56:45.426156Z",
     "shell.execute_reply.started": "2022-05-29T00:56:44.680128Z"
    },
    "id": "D0Zd08wZhPsp",
    "outputId": "913a8d7f-328e-418f-cfcb-888de9a9fff3"
   },
   "outputs": [
    {
     "data": {
      "text/plain": [
       "array([0.69002056, 0.8032732 , 0.7015524 , ..., 0.77919674, 0.7360983 ,\n",
       "       0.72529125], dtype=float32)"
      ]
     },
     "execution_count": 32,
     "metadata": {},
     "output_type": "execute_result"
    }
   ],
   "source": [
    "# encode the testing data\n",
    "df_test_emb = encode_data(test_df, df_train)\n",
    "\n",
    "# get the tesing users and items\n",
    "users = torch.LongTensor(df_test_emb.user_id.values) # .cuda()\n",
    "items = torch.LongTensor(df_test_emb.item_id.values)\n",
    "\n",
    "# predict from model\n",
    "Y = model(users, items)\n",
    "# Scaling between 0-1\n",
    "min_max = MinMaxScaler()\n",
    "res_scaled = min_max.fit_transform(Y.detach().numpy().reshape(-1, 1))[:,0]\n",
    "# Final prediction\n",
    "res_scaled"
   ]
  },
  {
   "cell_type": "code",
   "execution_count": null,
   "metadata": {
    "execution": {
     "iopub.execute_input": "2022-05-29T01:00:21.477699Z",
     "iopub.status.busy": "2022-05-29T01:00:21.476922Z",
     "iopub.status.idle": "2022-05-29T01:00:21.956524Z",
     "shell.execute_reply": "2022-05-29T01:00:21.955597Z",
     "shell.execute_reply.started": "2022-05-29T01:00:21.477643Z"
    },
    "id": "qU-k7TuUhPsp",
    "outputId": "a4ebe86a-1ff1-4b89-cf19-c94a4abf8438"
   },
   "outputs": [
    {
     "data": {
      "text/html": [
       "<div>\n",
       "<style scoped>\n",
       "    .dataframe tbody tr th:only-of-type {\n",
       "        vertical-align: middle;\n",
       "    }\n",
       "\n",
       "    .dataframe tbody tr th {\n",
       "        vertical-align: top;\n",
       "    }\n",
       "\n",
       "    .dataframe thead th {\n",
       "        text-align: right;\n",
       "    }\n",
       "</style>\n",
       "<table border=\"1\" class=\"dataframe\">\n",
       "  <thead>\n",
       "    <tr style=\"text-align: right;\">\n",
       "      <th></th>\n",
       "      <th>user_id</th>\n",
       "      <th>item_id</th>\n",
       "    </tr>\n",
       "  </thead>\n",
       "  <tbody>\n",
       "    <tr>\n",
       "      <th>46</th>\n",
       "      <td>0</td>\n",
       "      <td>4995</td>\n",
       "    </tr>\n",
       "    <tr>\n",
       "      <th>1</th>\n",
       "      <td>0</td>\n",
       "      <td>8906</td>\n",
       "    </tr>\n",
       "    <tr>\n",
       "      <th>54</th>\n",
       "      <td>0</td>\n",
       "      <td>4276</td>\n",
       "    </tr>\n",
       "    <tr>\n",
       "      <th>74</th>\n",
       "      <td>0</td>\n",
       "      <td>2148</td>\n",
       "    </tr>\n",
       "    <tr>\n",
       "      <th>39</th>\n",
       "      <td>0</td>\n",
       "      <td>5619</td>\n",
       "    </tr>\n",
       "    <tr>\n",
       "      <th>...</th>\n",
       "      <td>...</td>\n",
       "      <td>...</td>\n",
       "    </tr>\n",
       "    <tr>\n",
       "      <th>346504</th>\n",
       "      <td>3465</td>\n",
       "      <td>8763</td>\n",
       "    </tr>\n",
       "    <tr>\n",
       "      <th>346537</th>\n",
       "      <td>3465</td>\n",
       "      <td>5053</td>\n",
       "    </tr>\n",
       "    <tr>\n",
       "      <th>346580</th>\n",
       "      <td>3465</td>\n",
       "      <td>1302</td>\n",
       "    </tr>\n",
       "    <tr>\n",
       "      <th>346549</th>\n",
       "      <td>3465</td>\n",
       "      <td>3984</td>\n",
       "    </tr>\n",
       "    <tr>\n",
       "      <th>346543</th>\n",
       "      <td>3465</td>\n",
       "      <td>4399</td>\n",
       "    </tr>\n",
       "  </tbody>\n",
       "</table>\n",
       "<p>51990 rows × 2 columns</p>\n",
       "</div>"
      ],
      "text/plain": [
       "        user_id  item_id\n",
       "46            0     4995\n",
       "1             0     8906\n",
       "54            0     4276\n",
       "74            0     2148\n",
       "39            0     5619\n",
       "...         ...      ...\n",
       "346504     3465     8763\n",
       "346537     3465     5053\n",
       "346580     3465     1302\n",
       "346549     3465     3984\n",
       "346543     3465     4399\n",
       "\n",
       "[51990 rows x 2 columns]"
      ]
     },
     "metadata": {},
     "output_type": "display_data"
    }
   ],
   "source": [
    "# new column with predictions\n",
    "test_df['pred_rating'] = list(res_scaled)\n",
    "\n",
    "# top15 recommendation\n",
    "df_test_top_15 = test_df.sort_values(by =['user_id', 'pred_rating'], ascending = (True, False))\n",
    "df_test_top_15 = df_test_top_15.groupby('user_id').head(15)\n",
    "df_test_top_15 = df_test_top_15.drop(['pred_rating'], axis=1)\n",
    "\n",
    "display(df_test_top_15)\n",
    "\n",
    "# Save Prediction to be submitted to Kaggle\n",
    "df_test_top_15.to_csv( \"31072100_output_mf.csv\", index=False)\n"
   ]
  },
  {
   "cell_type": "markdown",
   "metadata": {
    "id": "YpL9Ozp9hPsq"
   },
   "source": [
    "### 1.2.3 MF with bias"
   ]
  },
  {
   "cell_type": "markdown",
   "metadata": {
    "id": "qjKkKHQqhPsq"
   },
   "source": [
    "Bias terms describe the effect of one dimension on the output. For example, in the Netflix challenge example, the bias of a movie would describe how well this movie is rated compared to the average, across all movies. This depends only on the movie (as a first approximation) and does not take into account the interaction between an user and the movie.\n",
    "\n",
    "Similarly an user's bias corresponds to that user's tendency to give better or worse ratings than the average.\n",
    "\n",
    "https://stats.stackexchange.com/questions/113390/the-role-of-the-bias-terms-in-matrix-factorization-formulas/113976#:~:text=Basically%20in%20a%20factorization%20model,the%20average%2C%20across%20all%20movies."
   ]
  },
  {
   "cell_type": "code",
   "execution_count": null,
   "metadata": {
    "execution": {
     "iopub.execute_input": "2022-05-29T01:04:15.026191Z",
     "iopub.status.busy": "2022-05-29T01:04:15.025688Z",
     "iopub.status.idle": "2022-05-29T01:04:15.037922Z",
     "shell.execute_reply": "2022-05-29T01:04:15.036596Z",
     "shell.execute_reply.started": "2022-05-29T01:04:15.026153Z"
    },
    "id": "Uza4w8zVhPsq"
   },
   "outputs": [],
   "source": [
    "class MF_bias(nn.Module):\n",
    "    def __init__(self, num_users, num_items, emb_size=100):\n",
    "        super(MF_bias, self).__init__()\n",
    "        self.user_emb = nn.Embedding(num_users, emb_size)\n",
    "        self.user_bias = nn.Embedding(num_users, 1)\n",
    "        self.item_emb = nn.Embedding(num_items, emb_size)\n",
    "        self.item_bias = nn.Embedding(num_items, 1)\n",
    "        self.user_emb.weight.data.uniform_(0,0.05)\n",
    "        self.item_emb.weight.data.uniform_(0,0.05)\n",
    "        self.user_bias.weight.data.uniform_(-0.01,0.01)\n",
    "        self.item_bias.weight.data.uniform_(-0.01,0.01)\n",
    "        \n",
    "    def forward(self, u, v):\n",
    "        U = self.user_emb(u)\n",
    "        V = self.item_emb(v)\n",
    "        b_u = self.user_bias(u).squeeze()\n",
    "        b_v = self.item_bias(v).squeeze()\n",
    "        return (U*V).sum(1) +  b_u  + b_v"
   ]
  },
  {
   "cell_type": "code",
   "execution_count": null,
   "metadata": {
    "execution": {
     "iopub.execute_input": "2022-05-29T01:05:25.479879Z",
     "iopub.status.busy": "2022-05-29T01:05:25.479022Z",
     "iopub.status.idle": "2022-05-29T01:05:25.504081Z",
     "shell.execute_reply": "2022-05-29T01:05:25.503120Z",
     "shell.execute_reply.started": "2022-05-29T01:05:25.479832Z"
    },
    "id": "2D77kq44hPsq"
   },
   "outputs": [],
   "source": [
    "model = MF_bias(num_users, num_items, emb_size=100) #.cuda()"
   ]
  },
  {
   "cell_type": "code",
   "execution_count": null,
   "metadata": {
    "execution": {
     "iopub.execute_input": "2022-05-29T01:05:39.805685Z",
     "iopub.status.busy": "2022-05-29T01:05:39.802363Z",
     "iopub.status.idle": "2022-05-29T01:05:44.679425Z",
     "shell.execute_reply": "2022-05-29T01:05:44.678545Z",
     "shell.execute_reply.started": "2022-05-29T01:05:39.805626Z"
    },
    "id": "sFFbPXRAhPsq",
    "outputId": "6088a525-a3d7-4a59-cd44-591a94a49d6e"
   },
   "outputs": [
    {
     "name": "stdout",
     "output_type": "stream",
     "text": [
      "0.8794662356376648\n",
      "0.11538029462099075\n",
      "0.555307149887085\n",
      "0.11859992146492004\n",
      "0.014549840241670609\n",
      "0.1524500846862793\n",
      "0.24591441452503204\n",
      "0.25065547227859497\n",
      "0.19293580949306488\n",
      "0.1058492437005043\n",
      "test loss 0.612 \n",
      "0.02886783704161644\n",
      "0.0035730707459151745\n",
      "0.006569724529981613\n",
      "0.0026941089890897274\n",
      "0.0010147661669179797\n",
      "0.005293488036841154\n",
      "0.009051092900335789\n",
      "0.00838848203420639\n",
      "0.004955220501869917\n",
      "0.0021885521709918976\n",
      "test loss 0.912 \n",
      "0.0017540794797241688\n",
      "0.0014824243262410164\n",
      "0.0014753134455531836\n",
      "0.0015911171212792397\n",
      "0.0017108379397541285\n",
      "0.0017719509778544307\n",
      "0.0017633449751883745\n",
      "0.0017023315886035562\n",
      "0.0016147885471582413\n",
      "0.0015238961204886436\n",
      "test loss 0.879 \n"
     ]
    }
   ],
   "source": [
    "train_epocs(model, epochs=10, lr=0.05, wd=1e-5)\n",
    "train_epocs(model, epochs=10, lr=0.01, wd=1e-5)\n",
    "train_epocs(model, epochs=10, lr=0.001, wd=1e-5)"
   ]
  },
  {
   "cell_type": "markdown",
   "metadata": {
    "id": "wxic9vxWhPsq"
   },
   "source": [
    "Note that these models are susceptible to weight initialization, optimization algorithm and regularization."
   ]
  },
  {
   "cell_type": "markdown",
   "metadata": {
    "id": "hlsSrUcfhPsq"
   },
   "source": [
    "#### 1.2.3.1 Prediction"
   ]
  },
  {
   "cell_type": "code",
   "execution_count": null,
   "metadata": {
    "execution": {
     "iopub.execute_input": "2022-05-29T01:06:59.140854Z",
     "iopub.status.busy": "2022-05-29T01:06:59.139986Z",
     "iopub.status.idle": "2022-05-29T01:06:59.906497Z",
     "shell.execute_reply": "2022-05-29T01:06:59.905438Z",
     "shell.execute_reply.started": "2022-05-29T01:06:59.140792Z"
    },
    "id": "ZO2-ffgIhPsq",
    "outputId": "844ea408-2339-4b65-84ac-1445ff8f6530"
   },
   "outputs": [
    {
     "data": {
      "text/plain": [
       "array([0.599349  , 0.5200224 , 0.55882215, ..., 0.5238857 , 0.6207881 ,\n",
       "       0.5949545 ], dtype=float32)"
      ]
     },
     "execution_count": 39,
     "metadata": {},
     "output_type": "execute_result"
    }
   ],
   "source": [
    "# encode the testing data\n",
    "df_test_emb = encode_data(test_df, df_train)\n",
    "\n",
    "# get the tesing users and items\n",
    "users = torch.LongTensor(df_test_emb.user_id.values) # .cuda()\n",
    "items = torch.LongTensor(df_test_emb.item_id.values)\n",
    "\n",
    "# predict from model\n",
    "Y = model(users, items)\n",
    "# Scaling between 0-1\n",
    "min_max = MinMaxScaler()\n",
    "res_scaled = min_max.fit_transform(Y.detach().numpy().reshape(-1, 1))[:,0]\n",
    "# Final prediction\n",
    "res_scaled"
   ]
  },
  {
   "cell_type": "code",
   "execution_count": null,
   "metadata": {
    "execution": {
     "iopub.execute_input": "2022-05-29T01:07:21.964091Z",
     "iopub.status.busy": "2022-05-29T01:07:21.963671Z",
     "iopub.status.idle": "2022-05-29T01:07:22.452958Z",
     "shell.execute_reply": "2022-05-29T01:07:22.451933Z",
     "shell.execute_reply.started": "2022-05-29T01:07:21.964056Z"
    },
    "id": "elH0_VV3hPsr",
    "outputId": "71f8877f-a8e3-44e6-b1f3-99c4f8efaa97"
   },
   "outputs": [
    {
     "data": {
      "text/html": [
       "<div>\n",
       "<style scoped>\n",
       "    .dataframe tbody tr th:only-of-type {\n",
       "        vertical-align: middle;\n",
       "    }\n",
       "\n",
       "    .dataframe tbody tr th {\n",
       "        vertical-align: top;\n",
       "    }\n",
       "\n",
       "    .dataframe thead th {\n",
       "        text-align: right;\n",
       "    }\n",
       "</style>\n",
       "<table border=\"1\" class=\"dataframe\">\n",
       "  <thead>\n",
       "    <tr style=\"text-align: right;\">\n",
       "      <th></th>\n",
       "      <th>user_id</th>\n",
       "      <th>item_id</th>\n",
       "    </tr>\n",
       "  </thead>\n",
       "  <tbody>\n",
       "    <tr>\n",
       "      <th>91</th>\n",
       "      <td>0</td>\n",
       "      <td>838</td>\n",
       "    </tr>\n",
       "    <tr>\n",
       "      <th>97</th>\n",
       "      <td>0</td>\n",
       "      <td>349</td>\n",
       "    </tr>\n",
       "    <tr>\n",
       "      <th>64</th>\n",
       "      <td>0</td>\n",
       "      <td>3177</td>\n",
       "    </tr>\n",
       "    <tr>\n",
       "      <th>46</th>\n",
       "      <td>0</td>\n",
       "      <td>4995</td>\n",
       "    </tr>\n",
       "    <tr>\n",
       "      <th>30</th>\n",
       "      <td>0</td>\n",
       "      <td>6363</td>\n",
       "    </tr>\n",
       "    <tr>\n",
       "      <th>...</th>\n",
       "      <td>...</td>\n",
       "      <td>...</td>\n",
       "    </tr>\n",
       "    <tr>\n",
       "      <th>346531</th>\n",
       "      <td>3465</td>\n",
       "      <td>6120</td>\n",
       "    </tr>\n",
       "    <tr>\n",
       "      <th>346565</th>\n",
       "      <td>3465</td>\n",
       "      <td>2722</td>\n",
       "    </tr>\n",
       "    <tr>\n",
       "      <th>346557</th>\n",
       "      <td>3465</td>\n",
       "      <td>3581</td>\n",
       "    </tr>\n",
       "    <tr>\n",
       "      <th>346551</th>\n",
       "      <td>3465</td>\n",
       "      <td>3889</td>\n",
       "    </tr>\n",
       "    <tr>\n",
       "      <th>346550</th>\n",
       "      <td>3465</td>\n",
       "      <td>3950</td>\n",
       "    </tr>\n",
       "  </tbody>\n",
       "</table>\n",
       "<p>51990 rows × 2 columns</p>\n",
       "</div>"
      ],
      "text/plain": [
       "        user_id  item_id\n",
       "91            0      838\n",
       "97            0      349\n",
       "64            0     3177\n",
       "46            0     4995\n",
       "30            0     6363\n",
       "...         ...      ...\n",
       "346531     3465     6120\n",
       "346565     3465     2722\n",
       "346557     3465     3581\n",
       "346551     3465     3889\n",
       "346550     3465     3950\n",
       "\n",
       "[51990 rows x 2 columns]"
      ]
     },
     "metadata": {},
     "output_type": "display_data"
    }
   ],
   "source": [
    "# new column with predictions\n",
    "test_df['pred_rating'] = list(res_scaled)\n",
    "\n",
    "# top15 recommendation\n",
    "df_test_top_15 = test_df.sort_values(by =['user_id', 'pred_rating'], ascending = (True, False))\n",
    "df_test_top_15 = df_test_top_15.groupby('user_id').head(15)\n",
    "df_test_top_15 = df_test_top_15.drop(['pred_rating'], axis=1)\n",
    "\n",
    "display(df_test_top_15)\n",
    "\n",
    "# Save Prediction to be submitted to Kaggle\n",
    "df_test_top_15.to_csv( \"31072100_output_mfbias.csv\", index=False)\n"
   ]
  },
  {
   "cell_type": "markdown",
   "metadata": {
    "id": "ubk5FxuSYVUw"
   },
   "source": [
    "## 1.3 References\n",
    "\n",
    "* Lecture Slides\n",
    "\n",
    "* Tutorial Codes\n",
    "\n",
    "* https://medium.com/radon-dev/als-implicit-collaborative-filtering-5ed653ba39fe\n",
    "\n",
    "* https://ieeexplore.ieee.org/document/4781121\n",
    "\n",
    "* https://stats.stackexchange.com/questions/155296/alternating-least-squares-als-why-two-different-kinds-of-setting-for-lambd\n",
    "\n",
    "* https://stats.stackexchange.com/questions/113390/the-role-of-the-bias-terms-in-matrix-factorization-formulas/113976#:~:text=Basically%20in%20a%20factorization%20model,the%20average%2C%20across%20all%20movies\n",
    "\n",
    "* https://towardsdatascience.com/prototyping-a-recommender-system-step-by-step-part-2-alternating-least-square-als-matrix-4a76c58714a1#:~:text=Alternating%20Least%20Square%20(ALS)%20with%20Spark%20ML&text=Some%20high%2Dlevel%20ideas%20behind%20ALS%20are%3A&text=Its%20training%20routine%20is%20different,gradient%20descent%20with%20user%20matrix\n"
   ]
  },
  {
   "cell_type": "markdown",
   "metadata": {
    "id": "jmgALZqes3vc"
   },
   "source": [
    "---\n",
    "\n",
    "--- "
   ]
  },
  {
   "cell_type": "markdown",
   "metadata": {
    "id": "81e8a387"
   },
   "source": [
    "# Task 2: Node Clustering in Graphs\n",
    "\n",
    "---\n",
    "\n",
    "**Student Name:** Abhi Gambhir\n",
    "\n",
    "**Student ID:** 31072100"
   ]
  },
  {
   "cell_type": "code",
   "execution_count": null,
   "metadata": {
    "id": "68be42ee",
    "outputId": "ade027bb-2525-4ccd-a6c9-0597592b06bd",
    "scrolled": true
   },
   "outputs": [
    {
     "name": "stdout",
     "output_type": "stream",
     "text": [
      "Requirement already satisfied: torch in /Users/abhigambhir/opt/anaconda3/lib/python3.9/site-packages (1.11.0)\r\n",
      "Requirement already satisfied: typing-extensions in /Users/abhigambhir/opt/anaconda3/lib/python3.9/site-packages (from torch) (3.10.0.2)\r\n"
     ]
    }
   ],
   "source": [
    "# installing torch\n",
    "!pip install torch"
   ]
  },
  {
   "cell_type": "markdown",
   "metadata": {
    "id": "d29ed15e"
   },
   "source": [
    "## 2.1 Importing Libraries"
   ]
  },
  {
   "cell_type": "code",
   "execution_count": null,
   "metadata": {
    "id": "aacd5bd2",
    "outputId": "d48565db-e604-4172-d649-5fd68ef842ee"
   },
   "outputs": [
    {
     "data": {
      "text/plain": [
       "<torch._C.Generator at 0x7fd7c671bef0>"
      ]
     },
     "execution_count": 2,
     "metadata": {},
     "output_type": "execute_result"
    }
   ],
   "source": [
    "# importing libraries with seeding\n",
    "import numpy as np\n",
    "np.random.seed(123)\n",
    "\n",
    "import torch\n",
    "torch.manual_seed(123)"
   ]
  },
  {
   "cell_type": "code",
   "execution_count": null,
   "metadata": {
    "id": "6ab3d60d"
   },
   "outputs": [],
   "source": [
    "# importing some more libraries libraries\n",
    "import time\n",
    "\n",
    "import numpy as np\n",
    "import matplotlib.pyplot as plt\n",
    "import pandas as pd\n",
    "\n",
    "import scipy as sp\n",
    "import scipy.sparse.linalg as linalg\n",
    "import scipy.cluster.hierarchy as hr\n",
    "from scipy.spatial.distance import pdist, squareform\n",
    "\n",
    "import sklearn.datasets as datasets\n",
    "import sklearn.metrics as metrics\n",
    "import sklearn.utils as utils\n",
    "import sklearn.linear_model as linear_model\n",
    "import sklearn.svm as svm\n",
    "import sklearn.cluster as cluster\n",
    "from sklearn.ensemble import AdaBoostClassifier\n",
    "from sklearn.neighbors import KNeighborsClassifier\n",
    "from sklearn.decomposition import TruncatedSVD\n",
    "from sklearn.preprocessing import StandardScaler\n",
    "\n",
    "# importing networkx library\n",
    "import networkx as nx\n",
    "\n",
    "import seaborn as sns\n",
    "%matplotlib inline"
   ]
  },
  {
   "cell_type": "markdown",
   "metadata": {
    "id": "07e87119"
   },
   "source": [
    "## 2.2 Reading .txt files"
   ]
  },
  {
   "cell_type": "code",
   "execution_count": null,
   "metadata": {
    "id": "463a6cf9",
    "outputId": "556fbd7e-05c9-45de-bd75-9db2d707b45c"
   },
   "outputs": [
    {
     "data": {
      "text/html": [
       "<div>\n",
       "<style scoped>\n",
       "    .dataframe tbody tr th:only-of-type {\n",
       "        vertical-align: middle;\n",
       "    }\n",
       "\n",
       "    .dataframe tbody tr th {\n",
       "        vertical-align: top;\n",
       "    }\n",
       "\n",
       "    .dataframe thead th {\n",
       "        text-align: right;\n",
       "    }\n",
       "</style>\n",
       "<table border=\"1\" class=\"dataframe\">\n",
       "  <thead>\n",
       "    <tr style=\"text-align: right;\">\n",
       "      <th></th>\n",
       "      <th>node_id</th>\n",
       "      <th>title</th>\n",
       "    </tr>\n",
       "  </thead>\n",
       "  <tbody>\n",
       "    <tr>\n",
       "      <th>0</th>\n",
       "      <td>12828558</td>\n",
       "      <td>Assessing Local Institutional Capacity, Data A...</td>\n",
       "    </tr>\n",
       "    <tr>\n",
       "      <th>1</th>\n",
       "      <td>66779408</td>\n",
       "      <td>THE PROSPECTS FOR INTERNET TELEPHONY IN EUROPE...</td>\n",
       "    </tr>\n",
       "    <tr>\n",
       "      <th>2</th>\n",
       "      <td>38902949</td>\n",
       "      <td>Economic Shocks, Safety Nets, and Fiscal Const...</td>\n",
       "    </tr>\n",
       "    <tr>\n",
       "      <th>3</th>\n",
       "      <td>33450563</td>\n",
       "      <td>Reform, Growth, and Poverty in Vietnam</td>\n",
       "    </tr>\n",
       "    <tr>\n",
       "      <th>4</th>\n",
       "      <td>57470294</td>\n",
       "      <td>Households and Economic Growth in Latin Americ...</td>\n",
       "    </tr>\n",
       "    <tr>\n",
       "      <th>...</th>\n",
       "      <td>...</td>\n",
       "      <td>...</td>\n",
       "    </tr>\n",
       "    <tr>\n",
       "      <th>18715</th>\n",
       "      <td>39790331</td>\n",
       "      <td>ORIGINAL ARTICLE Effect of Alzheimer Disease R...</td>\n",
       "    </tr>\n",
       "    <tr>\n",
       "      <th>18716</th>\n",
       "      <td>47870669</td>\n",
       "      <td>BRIEF REPORTS Predictors of Posttraumatic Stre...</td>\n",
       "    </tr>\n",
       "    <tr>\n",
       "      <th>18717</th>\n",
       "      <td>28485685</td>\n",
       "      <td>Anticipating the cultural aspects of sharing f...</td>\n",
       "    </tr>\n",
       "    <tr>\n",
       "      <th>18718</th>\n",
       "      <td>48611755</td>\n",
       "      <td>BMC Psychiatry BioMed Central</td>\n",
       "    </tr>\n",
       "    <tr>\n",
       "      <th>18719</th>\n",
       "      <td>24384084</td>\n",
       "      <td>Director’s Column: A Laboratory for Human Rela...</td>\n",
       "    </tr>\n",
       "  </tbody>\n",
       "</table>\n",
       "<p>18720 rows × 2 columns</p>\n",
       "</div>"
      ],
      "text/plain": [
       "        node_id                                              title\n",
       "0      12828558  Assessing Local Institutional Capacity, Data A...\n",
       "1      66779408  THE PROSPECTS FOR INTERNET TELEPHONY IN EUROPE...\n",
       "2      38902949  Economic Shocks, Safety Nets, and Fiscal Const...\n",
       "3      33450563             Reform, Growth, and Poverty in Vietnam\n",
       "4      57470294  Households and Economic Growth in Latin Americ...\n",
       "...         ...                                                ...\n",
       "18715  39790331  ORIGINAL ARTICLE Effect of Alzheimer Disease R...\n",
       "18716  47870669  BRIEF REPORTS Predictors of Posttraumatic Stre...\n",
       "18717  28485685  Anticipating the cultural aspects of sharing f...\n",
       "18718  48611755                      BMC Psychiatry BioMed Central\n",
       "18719  24384084  Director’s Column: A Laboratory for Human Rela...\n",
       "\n",
       "[18720 rows x 2 columns]"
      ]
     },
     "execution_count": 4,
     "metadata": {},
     "output_type": "execute_result"
    }
   ],
   "source": [
    "# reading docs.txt and storing it in a dataframe\n",
    "\n",
    "docs = open('Task2_GraphData/docs.txt')\n",
    "docs_df = pd.DataFrame()\n",
    "\n",
    "# for each line in txt file\n",
    "for i in docs.readlines():\n",
    "    \n",
    "    # split the line to get node_id and title\n",
    "    # setting the maxsplit parameter to 1, will return a list with 2 elements \n",
    "    # append to empty dataframe\n",
    "    docs_df = docs_df.append({'node_id': i.split(' ',1)[0].strip(), 'title': i.split(' ',1)[1].strip()}, ignore_index = True)\n",
    "\n",
    "# displaying the made dataframe\n",
    "docs_df"
   ]
  },
  {
   "cell_type": "code",
   "execution_count": null,
   "metadata": {
    "id": "21962b05",
    "outputId": "0c1b8d38-0c17-4b05-ce68-c168c355f9ec"
   },
   "outputs": [
    {
     "data": {
      "text/html": [
       "<div>\n",
       "<style scoped>\n",
       "    .dataframe tbody tr th:only-of-type {\n",
       "        vertical-align: middle;\n",
       "    }\n",
       "\n",
       "    .dataframe tbody tr th {\n",
       "        vertical-align: top;\n",
       "    }\n",
       "\n",
       "    .dataframe thead th {\n",
       "        text-align: right;\n",
       "    }\n",
       "</style>\n",
       "<table border=\"1\" class=\"dataframe\">\n",
       "  <thead>\n",
       "    <tr style=\"text-align: right;\">\n",
       "      <th></th>\n",
       "      <th>node_id</th>\n",
       "      <th>class_label</th>\n",
       "    </tr>\n",
       "  </thead>\n",
       "  <tbody>\n",
       "    <tr>\n",
       "      <th>0</th>\n",
       "      <td>12828558.0</td>\n",
       "      <td>0.0</td>\n",
       "    </tr>\n",
       "    <tr>\n",
       "      <th>1</th>\n",
       "      <td>66779408.0</td>\n",
       "      <td>0.0</td>\n",
       "    </tr>\n",
       "    <tr>\n",
       "      <th>2</th>\n",
       "      <td>38902949.0</td>\n",
       "      <td>0.0</td>\n",
       "    </tr>\n",
       "    <tr>\n",
       "      <th>3</th>\n",
       "      <td>33450563.0</td>\n",
       "      <td>0.0</td>\n",
       "    </tr>\n",
       "    <tr>\n",
       "      <th>4</th>\n",
       "      <td>57470294.0</td>\n",
       "      <td>0.0</td>\n",
       "    </tr>\n",
       "    <tr>\n",
       "      <th>...</th>\n",
       "      <td>...</td>\n",
       "      <td>...</td>\n",
       "    </tr>\n",
       "    <tr>\n",
       "      <th>18715</th>\n",
       "      <td>39790331.0</td>\n",
       "      <td>4.0</td>\n",
       "    </tr>\n",
       "    <tr>\n",
       "      <th>18716</th>\n",
       "      <td>47870669.0</td>\n",
       "      <td>4.0</td>\n",
       "    </tr>\n",
       "    <tr>\n",
       "      <th>18717</th>\n",
       "      <td>28485685.0</td>\n",
       "      <td>4.0</td>\n",
       "    </tr>\n",
       "    <tr>\n",
       "      <th>18718</th>\n",
       "      <td>48611755.0</td>\n",
       "      <td>4.0</td>\n",
       "    </tr>\n",
       "    <tr>\n",
       "      <th>18719</th>\n",
       "      <td>24384084.0</td>\n",
       "      <td>4.0</td>\n",
       "    </tr>\n",
       "  </tbody>\n",
       "</table>\n",
       "<p>18720 rows × 2 columns</p>\n",
       "</div>"
      ],
      "text/plain": [
       "          node_id  class_label\n",
       "0      12828558.0          0.0\n",
       "1      66779408.0          0.0\n",
       "2      38902949.0          0.0\n",
       "3      33450563.0          0.0\n",
       "4      57470294.0          0.0\n",
       "...           ...          ...\n",
       "18715  39790331.0          4.0\n",
       "18716  47870669.0          4.0\n",
       "18717  28485685.0          4.0\n",
       "18718  48611755.0          4.0\n",
       "18719  24384084.0          4.0\n",
       "\n",
       "[18720 rows x 2 columns]"
      ]
     },
     "execution_count": 5,
     "metadata": {},
     "output_type": "execute_result"
    }
   ],
   "source": [
    "# reading labels.txt and storing it in a dataframe\n",
    "\n",
    "labels = open('Task2_GraphData/labels.txt')\n",
    "\n",
    "labels_df = pd.DataFrame()\n",
    "\n",
    "# for each line in the txt file\n",
    "for i in labels.readlines():\n",
    "    \n",
    "    # strip (to remove /n) and split on ' ' (empty space)\n",
    "    text_split = i.strip().split(' ')\n",
    "    \n",
    "    # append to empty dataframe\n",
    "    labels_df = labels_df.append({'node_id': int(text_split[0]), 'class_label': int(text_split[1])}, ignore_index = True)\n",
    "\n",
    "# displaying the made dataframe\n",
    "labels_df"
   ]
  },
  {
   "cell_type": "markdown",
   "metadata": {
    "id": "cfad471c"
   },
   "source": [
    "## 2.3 Datatype conversion of some columns"
   ]
  },
  {
   "cell_type": "code",
   "execution_count": null,
   "metadata": {
    "id": "49d03d86",
    "outputId": "8038d2d1-d0ee-4b2c-ba6f-62061859647c"
   },
   "outputs": [
    {
     "data": {
      "text/html": [
       "<div>\n",
       "<style scoped>\n",
       "    .dataframe tbody tr th:only-of-type {\n",
       "        vertical-align: middle;\n",
       "    }\n",
       "\n",
       "    .dataframe tbody tr th {\n",
       "        vertical-align: top;\n",
       "    }\n",
       "\n",
       "    .dataframe thead th {\n",
       "        text-align: right;\n",
       "    }\n",
       "</style>\n",
       "<table border=\"1\" class=\"dataframe\">\n",
       "  <thead>\n",
       "    <tr style=\"text-align: right;\">\n",
       "      <th></th>\n",
       "      <th>node_id</th>\n",
       "      <th>class_label</th>\n",
       "    </tr>\n",
       "  </thead>\n",
       "  <tbody>\n",
       "    <tr>\n",
       "      <th>0</th>\n",
       "      <td>12828558</td>\n",
       "      <td>0</td>\n",
       "    </tr>\n",
       "    <tr>\n",
       "      <th>1</th>\n",
       "      <td>66779408</td>\n",
       "      <td>0</td>\n",
       "    </tr>\n",
       "    <tr>\n",
       "      <th>2</th>\n",
       "      <td>38902949</td>\n",
       "      <td>0</td>\n",
       "    </tr>\n",
       "    <tr>\n",
       "      <th>3</th>\n",
       "      <td>33450563</td>\n",
       "      <td>0</td>\n",
       "    </tr>\n",
       "    <tr>\n",
       "      <th>4</th>\n",
       "      <td>57470294</td>\n",
       "      <td>0</td>\n",
       "    </tr>\n",
       "  </tbody>\n",
       "</table>\n",
       "</div>"
      ],
      "text/plain": [
       "    node_id  class_label\n",
       "0  12828558            0\n",
       "1  66779408            0\n",
       "2  38902949            0\n",
       "3  33450563            0\n",
       "4  57470294            0"
      ]
     },
     "metadata": {},
     "output_type": "display_data"
    },
    {
     "data": {
      "text/html": [
       "<div>\n",
       "<style scoped>\n",
       "    .dataframe tbody tr th:only-of-type {\n",
       "        vertical-align: middle;\n",
       "    }\n",
       "\n",
       "    .dataframe tbody tr th {\n",
       "        vertical-align: top;\n",
       "    }\n",
       "\n",
       "    .dataframe thead th {\n",
       "        text-align: right;\n",
       "    }\n",
       "</style>\n",
       "<table border=\"1\" class=\"dataframe\">\n",
       "  <thead>\n",
       "    <tr style=\"text-align: right;\">\n",
       "      <th></th>\n",
       "      <th>node_id</th>\n",
       "      <th>title</th>\n",
       "    </tr>\n",
       "  </thead>\n",
       "  <tbody>\n",
       "    <tr>\n",
       "      <th>0</th>\n",
       "      <td>12828558</td>\n",
       "      <td>Assessing Local Institutional Capacity, Data A...</td>\n",
       "    </tr>\n",
       "    <tr>\n",
       "      <th>1</th>\n",
       "      <td>66779408</td>\n",
       "      <td>THE PROSPECTS FOR INTERNET TELEPHONY IN EUROPE...</td>\n",
       "    </tr>\n",
       "    <tr>\n",
       "      <th>2</th>\n",
       "      <td>38902949</td>\n",
       "      <td>Economic Shocks, Safety Nets, and Fiscal Const...</td>\n",
       "    </tr>\n",
       "    <tr>\n",
       "      <th>3</th>\n",
       "      <td>33450563</td>\n",
       "      <td>Reform, Growth, and Poverty in Vietnam</td>\n",
       "    </tr>\n",
       "    <tr>\n",
       "      <th>4</th>\n",
       "      <td>57470294</td>\n",
       "      <td>Households and Economic Growth in Latin Americ...</td>\n",
       "    </tr>\n",
       "  </tbody>\n",
       "</table>\n",
       "</div>"
      ],
      "text/plain": [
       "    node_id                                              title\n",
       "0  12828558  Assessing Local Institutional Capacity, Data A...\n",
       "1  66779408  THE PROSPECTS FOR INTERNET TELEPHONY IN EUROPE...\n",
       "2  38902949  Economic Shocks, Safety Nets, and Fiscal Const...\n",
       "3  33450563             Reform, Growth, and Poverty in Vietnam\n",
       "4  57470294  Households and Economic Growth in Latin Americ..."
      ]
     },
     "metadata": {},
     "output_type": "display_data"
    }
   ],
   "source": [
    "labels_df = labels_df.astype(int)\n",
    "display(labels_df.head())\n",
    "\n",
    "docs_df['node_id'] = docs_df['node_id'].astype(int)\n",
    "display(docs_df.head())"
   ]
  },
  {
   "cell_type": "markdown",
   "metadata": {
    "id": "a5d8d5ac"
   },
   "source": [
    "## 2.4 Merging labels and docs dataframe"
   ]
  },
  {
   "cell_type": "code",
   "execution_count": null,
   "metadata": {
    "id": "b195df38",
    "outputId": "e7559888-52bf-4daf-cd2e-d560fe8aa7f9",
    "scrolled": true
   },
   "outputs": [
    {
     "name": "stdout",
     "output_type": "stream",
     "text": [
      "(18720, 3)\n"
     ]
    },
    {
     "data": {
      "text/html": [
       "<div>\n",
       "<style scoped>\n",
       "    .dataframe tbody tr th:only-of-type {\n",
       "        vertical-align: middle;\n",
       "    }\n",
       "\n",
       "    .dataframe tbody tr th {\n",
       "        vertical-align: top;\n",
       "    }\n",
       "\n",
       "    .dataframe thead th {\n",
       "        text-align: right;\n",
       "    }\n",
       "</style>\n",
       "<table border=\"1\" class=\"dataframe\">\n",
       "  <thead>\n",
       "    <tr style=\"text-align: right;\">\n",
       "      <th></th>\n",
       "      <th>node_id</th>\n",
       "      <th>class_label</th>\n",
       "      <th>title</th>\n",
       "    </tr>\n",
       "  </thead>\n",
       "  <tbody>\n",
       "    <tr>\n",
       "      <th>0</th>\n",
       "      <td>12828558</td>\n",
       "      <td>0</td>\n",
       "      <td>Assessing Local Institutional Capacity, Data A...</td>\n",
       "    </tr>\n",
       "    <tr>\n",
       "      <th>1</th>\n",
       "      <td>66779408</td>\n",
       "      <td>0</td>\n",
       "      <td>THE PROSPECTS FOR INTERNET TELEPHONY IN EUROPE...</td>\n",
       "    </tr>\n",
       "    <tr>\n",
       "      <th>2</th>\n",
       "      <td>38902949</td>\n",
       "      <td>0</td>\n",
       "      <td>Economic Shocks, Safety Nets, and Fiscal Const...</td>\n",
       "    </tr>\n",
       "    <tr>\n",
       "      <th>3</th>\n",
       "      <td>33450563</td>\n",
       "      <td>0</td>\n",
       "      <td>Reform, Growth, and Poverty in Vietnam</td>\n",
       "    </tr>\n",
       "    <tr>\n",
       "      <th>4</th>\n",
       "      <td>57470294</td>\n",
       "      <td>0</td>\n",
       "      <td>Households and Economic Growth in Latin Americ...</td>\n",
       "    </tr>\n",
       "  </tbody>\n",
       "</table>\n",
       "</div>"
      ],
      "text/plain": [
       "    node_id  class_label                                              title\n",
       "0  12828558            0  Assessing Local Institutional Capacity, Data A...\n",
       "1  66779408            0  THE PROSPECTS FOR INTERNET TELEPHONY IN EUROPE...\n",
       "2  38902949            0  Economic Shocks, Safety Nets, and Fiscal Const...\n",
       "3  33450563            0             Reform, Growth, and Poverty in Vietnam\n",
       "4  57470294            0  Households and Economic Growth in Latin Americ..."
      ]
     },
     "execution_count": 7,
     "metadata": {},
     "output_type": "execute_result"
    }
   ],
   "source": [
    "merged_df = labels_df.merge(docs_df, on='node_id')\n",
    "print(merged_df.shape)\n",
    "merged_df.head()"
   ]
  },
  {
   "cell_type": "code",
   "execution_count": null,
   "metadata": {
    "id": "8351bde0",
    "outputId": "75cda2d2-43ef-446f-dca2-3939fca1ab2d"
   },
   "outputs": [
    {
     "data": {
      "text/plain": [
       "array([0, 1, 2, 3, 4])"
      ]
     },
     "execution_count": 8,
     "metadata": {},
     "output_type": "execute_result"
    }
   ],
   "source": [
    "# Checking unique values for true class labels\n",
    "merged_df['class_label'].unique()"
   ]
  },
  {
   "cell_type": "markdown",
   "metadata": {
    "id": "0e64d7a6"
   },
   "source": [
    "> So unique True Class labels are 0,1,2,3,4 i.e. our K should become 5. We will be using K=5 for our clustering algorithmns later"
   ]
  },
  {
   "cell_type": "markdown",
   "metadata": {
    "id": "86707773"
   },
   "source": [
    "## 2.5 Creating Graph using Adjedges"
   ]
  },
  {
   "cell_type": "code",
   "execution_count": null,
   "metadata": {
    "id": "7f33cee9"
   },
   "outputs": [],
   "source": [
    "# Reads graph in adjacency list format from path \n",
    "G = nx.read_adjlist('Task2_GraphData/adjedges.txt', nodetype = int)\n"
   ]
  },
  {
   "cell_type": "code",
   "execution_count": null,
   "metadata": {
    "id": "ef3d1b96",
    "outputId": "7f046375-4529-4d90-e106-2e0d795a43f7"
   },
   "outputs": [
    {
     "name": "stdout",
     "output_type": "stream",
     "text": [
      "36928\n",
      "54183\n"
     ]
    }
   ],
   "source": [
    "print(len(G.nodes()))\n",
    "print(len(G.edges()))"
   ]
  },
  {
   "cell_type": "markdown",
   "metadata": {
    "id": "ce7fe2ff"
   },
   "source": [
    "> There are 36928 nodes present and 54183 edges in the network. But if you notice we only have true class labels for 18720 nodes only. We have to keep this in mind while scoring i.e. NMI scoring our algorithm"
   ]
  },
  {
   "cell_type": "code",
   "execution_count": null,
   "metadata": {
    "id": "94b7149a",
    "outputId": "3bdfaa2d-53f4-42cd-d497-aa8e0e918938"
   },
   "outputs": [
    {
     "data": {
      "text/html": [
       "<div>\n",
       "<style scoped>\n",
       "    .dataframe tbody tr th:only-of-type {\n",
       "        vertical-align: middle;\n",
       "    }\n",
       "\n",
       "    .dataframe tbody tr th {\n",
       "        vertical-align: top;\n",
       "    }\n",
       "\n",
       "    .dataframe thead th {\n",
       "        text-align: right;\n",
       "    }\n",
       "</style>\n",
       "<table border=\"1\" class=\"dataframe\">\n",
       "  <thead>\n",
       "    <tr style=\"text-align: right;\">\n",
       "      <th></th>\n",
       "      <th>node_id</th>\n",
       "      <th>class_label</th>\n",
       "      <th>title</th>\n",
       "    </tr>\n",
       "  </thead>\n",
       "  <tbody>\n",
       "  </tbody>\n",
       "</table>\n",
       "</div>"
      ],
      "text/plain": [
       "Empty DataFrame\n",
       "Columns: [node_id, class_label, title]\n",
       "Index: []"
      ]
     },
     "execution_count": 11,
     "metadata": {},
     "output_type": "execute_result"
    }
   ],
   "source": [
    "# No nulls are there (just random check)\n",
    "merged_df[merged_df['class_label'].isna()]\n"
   ]
  },
  {
   "cell_type": "code",
   "execution_count": null,
   "metadata": {
    "id": "f85b130b",
    "outputId": "6d03889e-911d-4896-c0b4-08d674da942c"
   },
   "outputs": [
    {
     "name": "stdout",
     "output_type": "stream",
     "text": [
      "18720\n",
      "36928\n"
     ]
    }
   ],
   "source": [
    "nodes_with_labels = set(list(merged_df['node_id']))\n",
    "print(len(nodes_with_labels))\n",
    "\n",
    "graph_nodes = set(list(G.nodes()))\n",
    "print(len(graph_nodes))"
   ]
  },
  {
   "cell_type": "markdown",
   "metadata": {
    "id": "ee580c85"
   },
   "source": [
    "> Double confirms the point raised above."
   ]
  },
  {
   "cell_type": "code",
   "execution_count": null,
   "metadata": {
    "id": "43e6021e",
    "outputId": "17fcfd3a-e9ac-4e8e-ac94-9f740e10ba0c"
   },
   "outputs": [
    {
     "data": {
      "text/plain": [
       "10440"
      ]
     },
     "execution_count": 28,
     "metadata": {},
     "output_type": "execute_result"
    }
   ],
   "source": [
    "count = 0\n",
    "\n",
    "for subgraph in nx.connected_components(G):\n",
    "    count += 1\n",
    "    \n",
    "count"
   ]
  },
  {
   "cell_type": "markdown",
   "metadata": {
    "id": "d1fc98a3"
   },
   "source": [
    "> Number of subgraphs present in graph is 10440"
   ]
  },
  {
   "cell_type": "markdown",
   "metadata": {
    "id": "4724e9f3"
   },
   "source": [
    "## 2.6 Generating 10 random numbers"
   ]
  },
  {
   "cell_type": "code",
   "execution_count": null,
   "metadata": {
    "id": "b80dfefe",
    "outputId": "4a7248e4-3581-4be8-ab32-fe6ebe6e92fc"
   },
   "outputs": [
    {
     "name": "stdout",
     "output_type": "stream",
     "text": [
      "[14, 45, 25, 18, 86, 23, 8, 91, 33, 82]\n"
     ]
    }
   ],
   "source": [
    "## Generating 10 random numbers from 0-100\n",
    "\n",
    "import random\n",
    "\n",
    "# to store the numbers\n",
    "random_nos = []\n",
    "\n",
    "for i in range(0,10):\n",
    "    n = random.randint(1, 100)\n",
    "    random_nos.append(n)\n",
    "\n",
    "print(random_nos)"
   ]
  },
  {
   "cell_type": "markdown",
   "metadata": {
    "id": "475c8151"
   },
   "source": [
    "---"
   ]
  },
  {
   "cell_type": "markdown",
   "metadata": {
    "id": "f7eb29ca"
   },
   "source": [
    "## 2.7 Algo 1: Spectral Clustering"
   ]
  },
  {
   "cell_type": "markdown",
   "metadata": {
    "id": "b45a1a6b"
   },
   "source": [
    "### 2.7.1 Step1: Preprocessing and get the laplacian matrix."
   ]
  },
  {
   "cell_type": "code",
   "execution_count": null,
   "metadata": {
    "id": "8eda67f5"
   },
   "outputs": [],
   "source": [
    "L = nx.laplacian_matrix(G).astype(float)"
   ]
  },
  {
   "cell_type": "markdown",
   "metadata": {
    "id": "4f1f0e29"
   },
   "source": [
    "### 2.7.2 Step2: Decomposition - Compute eigenvalues and eigenvectors of the matrix."
   ]
  },
  {
   "cell_type": "code",
   "execution_count": null,
   "metadata": {
    "id": "8457e576"
   },
   "outputs": [],
   "source": [
    "w,v = sp.sparse.linalg.eigsh(L, k = 5, which='SM')"
   ]
  },
  {
   "cell_type": "code",
   "execution_count": null,
   "metadata": {
    "id": "75875532",
    "outputId": "827e06c0-8d5a-4276-9882-0ac58844faba"
   },
   "outputs": [
    {
     "name": "stdout",
     "output_type": "stream",
     "text": [
      "[-4.06825556e-14 -4.02127600e-14 -2.20296202e-14  1.22096105e-14\n",
      "  3.41550107e-14]\n",
      "[[-1.99632999e-03  1.08479446e-04  2.39063918e-03 -6.68050338e-03\n",
      "  -4.90417305e-04]\n",
      " [ 8.75117874e-06 -2.81973588e-07 -9.33580741e-06 -1.46200324e-05\n",
      "  -2.36486001e-06]\n",
      " [-1.33503075e-02 -7.17775128e-03  2.35793121e-02  6.19076659e-03\n",
      "  -5.34248751e-03]\n",
      " ...\n",
      " [ 8.19047960e-04  1.00212525e-02  5.07683534e-03 -6.41974280e-03\n",
      "  -7.19694814e-03]\n",
      " [ 4.38075005e-03  1.09437075e-03 -1.26258321e-03  9.75217111e-03\n",
      "  -5.22804062e-03]\n",
      " [-1.43266207e-03 -1.38307159e-03 -1.30427345e-03  1.03396344e-02\n",
      "  -3.58348050e-03]]\n",
      "(5,) (36928, 5)\n"
     ]
    }
   ],
   "source": [
    "print(w)\n",
    "print(v)\n",
    "print(w.shape, v.shape)"
   ]
  },
  {
   "cell_type": "code",
   "execution_count": null,
   "metadata": {
    "id": "2ca56124"
   },
   "outputs": [],
   "source": [
    "X = v*w"
   ]
  },
  {
   "cell_type": "markdown",
   "metadata": {
    "id": "fed2c65c"
   },
   "source": [
    "### 2.7.3 Step3: K Means Clustering"
   ]
  },
  {
   "cell_type": "code",
   "execution_count": null,
   "metadata": {
    "id": "dfa8732b",
    "outputId": "261685bd-90d7-4ee7-d19d-7a6e695bd6bc"
   },
   "outputs": [
    {
     "data": {
      "text/plain": [
       "[0.13368250220554137,\n",
       " 0.1337528144064061,\n",
       " 0.13372126481121657,\n",
       " 0.13371598272407473,\n",
       " 0.1339362910770202,\n",
       " 0.1336307013039777,\n",
       " 0.13375063126236125,\n",
       " 0.13372126481121654,\n",
       " 0.13387387146521865,\n",
       " 0.13360687239049984]"
      ]
     },
     "execution_count": 18,
     "metadata": {},
     "output_type": "execute_result"
    }
   ],
   "source": [
    "# importing normalized_mutual_info_score for NMI scoring and KMeans algo from sklearn\n",
    "from sklearn.metrics.cluster import normalized_mutual_info_score\n",
    "from sklearn.cluster import KMeans\n",
    "\n",
    "# empty list to store nmi_scores for each random_state\n",
    "nmi_scores = []\n",
    "\n",
    "# for each random number perform KMeans clustering\n",
    "for number in random_nos:\n",
    "    \n",
    "    # n_clusters = 5 as we had 5 unique true labels of nodes\n",
    "    kmeans = KMeans(init='k-means++', n_clusters=5, n_init=50, random_state=number)\n",
    "    kmeans.fit_predict(X)\n",
    "    km_centroids = kmeans.cluster_centers_\n",
    "    km_labels = kmeans.labels_    # predicted labels\n",
    "    km_error = kmeans.inertia_\n",
    "\n",
    "    # creating dataframe of all trained nodes and its predicted label\n",
    "    pred_df = pd.DataFrame({'node_id': [node_id for node_id in G.nodes()], 'pred_label': list(km_labels)})\n",
    "\n",
    "    # Since we had less number of nodes with true labels, we perform inner join of our merged_df\n",
    "    # with the one above generated\n",
    "\n",
    "    final_df = pd.merge(merged_df, pred_df, how='inner', on='node_id')\n",
    "    \n",
    "    # generating nmi score of the nodes we have and appending in to the nmi_scores list\n",
    "    nmi = normalized_mutual_info_score(final_df['class_label'].values, final_df['pred_label'].values)\n",
    "    nmi_scores.append(nmi)\n",
    "\n",
    "# printing nmi scores obtained\n",
    "nmi_scores"
   ]
  },
  {
   "cell_type": "code",
   "execution_count": null,
   "metadata": {
    "id": "c366932e",
    "outputId": "eac2f30a-c8c6-4786-820c-32152ff9fdef"
   },
   "outputs": [
    {
     "name": "stdout",
     "output_type": "stream",
     "text": [
      "Average/Mean NMI of 10 random_state trained K-Means model:  0.13373921964575328\n"
     ]
    }
   ],
   "source": [
    "# avg of nmi_scores\n",
    "print('Average/Mean NMI of 10 random_state trained K-Means model: ', np.mean(nmi_scores))"
   ]
  },
  {
   "cell_type": "markdown",
   "metadata": {
    "id": "316db161"
   },
   "source": [
    "---"
   ]
  },
  {
   "cell_type": "markdown",
   "metadata": {
    "id": "4243e26b"
   },
   "source": [
    "## 2.8 Algo 2: Node2Vec"
   ]
  },
  {
   "cell_type": "code",
   "execution_count": null,
   "metadata": {
    "id": "88052eb6",
    "outputId": "ce2c6810-76c5-4e61-a8c3-c362a7ca470f",
    "scrolled": true
   },
   "outputs": [
    {
     "name": "stdout",
     "output_type": "stream",
     "text": [
      "Requirement already satisfied: Node2Vec in /Users/abhigambhir/opt/anaconda3/lib/python3.9/site-packages (0.4.5)\n",
      "Requirement already satisfied: networkx<3.0,>=2.5 in /Users/abhigambhir/opt/anaconda3/lib/python3.9/site-packages (from Node2Vec) (2.6.3)\n",
      "Requirement already satisfied: numpy<2.0.0,>=1.19.5 in /Users/abhigambhir/opt/anaconda3/lib/python3.9/site-packages (from Node2Vec) (1.20.3)\n",
      "Requirement already satisfied: tqdm<5.0.0,>=4.55.1 in /Users/abhigambhir/opt/anaconda3/lib/python3.9/site-packages (from Node2Vec) (4.62.3)\n",
      "Requirement already satisfied: joblib<2.0.0,>=1.1.0 in /Users/abhigambhir/opt/anaconda3/lib/python3.9/site-packages (from Node2Vec) (1.1.0)\n",
      "Requirement already satisfied: gensim<5.0.0,>=4.1.2 in /Users/abhigambhir/opt/anaconda3/lib/python3.9/site-packages (from Node2Vec) (4.2.0)\n",
      "Requirement already satisfied: scipy>=0.18.1 in /Users/abhigambhir/opt/anaconda3/lib/python3.9/site-packages (from gensim<5.0.0,>=4.1.2->Node2Vec) (1.7.1)\n",
      "Requirement already satisfied: smart-open>=1.8.1 in /Users/abhigambhir/opt/anaconda3/lib/python3.9/site-packages (from gensim<5.0.0,>=4.1.2->Node2Vec) (6.0.0)\n"
     ]
    }
   ],
   "source": [
    "# installation of nord2vec\n",
    "!pip install Node2Vec"
   ]
  },
  {
   "cell_type": "markdown",
   "metadata": {
    "id": "0a2303df"
   },
   "source": [
    "Some Node2Vec Parameters:\n",
    "\n",
    "* :param dimensions: Embedding dimensions\n",
    "* :param walk_length: Number of nodes in each walk\n",
    "* :param num_walks: Number of walks per node"
   ]
  },
  {
   "cell_type": "code",
   "execution_count": null,
   "metadata": {
    "colab": {
     "referenced_widgets": [
      "33cd5ffffc8f4a8a9be8bfd462757b40"
     ]
    },
    "id": "8f80b9d5",
    "outputId": "c7783f7c-3c73-47a2-9772-a926edd129e2"
   },
   "outputs": [
    {
     "data": {
      "application/vnd.jupyter.widget-view+json": {
       "model_id": "33cd5ffffc8f4a8a9be8bfd462757b40",
       "version_major": 2,
       "version_minor": 0
      },
      "text/plain": [
       "Computing transition probabilities:   0%|          | 0/36928 [00:00<?, ?it/s]"
      ]
     },
     "metadata": {},
     "output_type": "display_data"
    },
    {
     "name": "stderr",
     "output_type": "stream",
     "text": [
      "Generating walks (CPU: 1): 100%|████████████████| 20/20 [00:30<00:00,  1.52s/it]\n"
     ]
    }
   ],
   "source": [
    "from node2vec import Node2Vec\n",
    "\n",
    "# Import pickle Package, to store the model (as it takes time to train)\n",
    "import pickle\n",
    "\n",
    "#pre-compute the probabilities and generate walks :\n",
    "node2vec = Node2Vec(G, dimensions=32, walk_length=10, num_walks=20)\n",
    "\n",
    "#embed the nodes\n",
    "model = node2vec.fit(window=10, min_count=1, batch_words=4)"
   ]
  },
  {
   "cell_type": "code",
   "execution_count": null,
   "metadata": {
    "id": "50495781"
   },
   "outputs": [],
   "source": [
    "# saving the loading the model\n",
    "with open(\"node2vec_model.pkl\", 'wb') as file:  \n",
    "    pickle.dump(model, file)\n",
    "\n",
    "# reading the saved model\n",
    "with open(\"node2vec_model.pkl\", 'rb') as file:  \n",
    "    model_n2v = pickle.load(file)"
   ]
  },
  {
   "cell_type": "code",
   "execution_count": null,
   "metadata": {
    "id": "1e58797c",
    "outputId": "efccab8f-de67-464c-94fb-4f6fdc4590da"
   },
   "outputs": [
    {
     "data": {
      "text/plain": [
       "<gensim.models.word2vec.Word2Vec at 0x7fd7af4cc850>"
      ]
     },
     "execution_count": 23,
     "metadata": {},
     "output_type": "execute_result"
    }
   ],
   "source": [
    "# checking\n",
    "model_n2v"
   ]
  },
  {
   "cell_type": "code",
   "execution_count": null,
   "metadata": {
    "id": "dee9b9c4",
    "outputId": "40098284-8d0a-466a-afa3-94f9fa13711d"
   },
   "outputs": [
    {
     "data": {
      "text/plain": [
       "[0.3453062608226242,\n",
       " 0.34531825652040743,\n",
       " 0.3451980383435631,\n",
       " 0.3452055157476496,\n",
       " 0.34502535910443954,\n",
       " 0.3452003374129036,\n",
       " 0.3449931763246772,\n",
       " 0.3448969337362679,\n",
       " 0.3445640629374805,\n",
       " 0.34525953945024873]"
      ]
     },
     "execution_count": 24,
     "metadata": {},
     "output_type": "execute_result"
    }
   ],
   "source": [
    "# to store the embeddings of each node\n",
    "embeddings = []\n",
    "\n",
    "# empty list to store nmi_scores for each random_state\n",
    "nmi_scores = []\n",
    "\n",
    "for node in G.nodes():\n",
    "    embeddings.append(model_n2v.wv.get_vector(str(node)))\n",
    "\n",
    "for number in random_nos:\n",
    "    \n",
    "    # n_clusters = 5 as we had 5 unique true labels of nodes\n",
    "    kmeans = KMeans(init='k-means++', n_clusters=5, n_init=50, random_state=number)\n",
    "    kmeans.fit_predict(embeddings)\n",
    "    km_centroids = kmeans.cluster_centers_\n",
    "    km_labels = kmeans.labels_     # predicted labels\n",
    "    km_error = kmeans.inertia_\n",
    "\n",
    "    # creating dataframe of all trained nodes and its predicted label\n",
    "    pred_df = pd.DataFrame({'node_id': [node_id for node_id in G.nodes()], 'pred_label': list(km_labels)})\n",
    "    \n",
    "    # Since we had less number of nodes with true labels, we perform inner join of our merged_df\n",
    "    # with the one above generated\n",
    "    \n",
    "    final_df = pd.merge(merged_df, pred_df, how='inner', on='node_id')\n",
    "\n",
    "    # generating nmi score of the nodes we have and appending in to the nmi_scores list\n",
    "    nmi = normalized_mutual_info_score(final_df['class_label'].values, final_df['pred_label'].values)\n",
    "    nmi_scores.append(nmi)\n",
    "    \n",
    "# printing nmi scores obtained\n",
    "nmi_scores"
   ]
  },
  {
   "cell_type": "code",
   "execution_count": null,
   "metadata": {
    "id": "a883550a",
    "outputId": "c9bc3234-5670-4c06-ea15-8709b492c805"
   },
   "outputs": [
    {
     "name": "stdout",
     "output_type": "stream",
     "text": [
      "Average/Mean NMI of 10 random_state trained K-Means model:  0.3450967480400262\n"
     ]
    }
   ],
   "source": [
    "# avg of nmi_scores\n",
    "print('Average/Mean NMI of 10 random_state trained K-Means model: ', np.mean(nmi_scores))"
   ]
  },
  {
   "cell_type": "markdown",
   "metadata": {
    "id": "419b3a61"
   },
   "source": [
    "## 2.9 References\n",
    "\n",
    "* Lecture Slides\n",
    "\n",
    "* Tutorial Codes\n",
    "\n",
    "* https://snap.stanford.edu/class/cs224w-2017/projects/cs224w-38-final.pdf\n",
    "\n",
    "* https://towardsdatascience.com/complete-guide-to-understanding-node2vec-algorithm-4e9a35e5d147\n",
    "\n",
    "* https://docs.scipy.org/doc/scipy/reference/generated/scipy.sparse.linalg.eigsh.html\n",
    "\n",
    "* https://scikit-learn.org/stable/modules/generated/sklearn.metrics.normalized_mutual_info_score.html#:~:text=Normalized%20Mutual%20Information%20(NMI)%20is,and%201%20(perfect%20correlation)\n",
    "\n",
    "* https://arxiv.org/pdf/1809.00979.pdf"
   ]
  },
  {
   "cell_type": "code",
   "execution_count": null,
   "metadata": {
    "id": "1TKcQvstE7Sz"
   },
   "outputs": [],
   "source": []
  }
 ],
 "metadata": {
  "colab": {
   "collapsed_sections": [],
   "name": "Recomm_Final.ipynb",
   "provenance": [],
   "toc_visible": true
  },
  "kernelspec": {
   "display_name": "Python 3 (ipykernel)",
   "language": "python",
   "name": "python3"
  },
  "language_info": {
   "codemirror_mode": {
    "name": "ipython",
    "version": 3
   },
   "file_extension": ".py",
   "mimetype": "text/x-python",
   "name": "python",
   "nbconvert_exporter": "python",
   "pygments_lexer": "ipython3",
   "version": "3.9.7"
  }
 },
 "nbformat": 4,
 "nbformat_minor": 1
}
